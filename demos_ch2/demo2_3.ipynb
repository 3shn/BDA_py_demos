{
 "cells": [
  {
   "cell_type": "markdown",
   "metadata": {},
   "source": [
    "### Bayesian Data Analysis, 3rd ed\n",
    "## Chapter 2, demo 3\n",
    "\n",
    "Authors:\n",
    "- Aki Vehtari <aki.vehtari@aalto.fi>\n",
    "- Tuomas Sivula <tuomas.sivula@aalto.fi>\n",
    "\n",
    "Probability of a girl birth given placenta previa (BDA3 p. 37).\n",
    "Simulate samples from Beta(438,544), draw a histogram with quantiles, and do the same for a transformed variable."
   ]
  },
  {
   "cell_type": "code",
   "execution_count": 1,
   "metadata": {
    "collapsed": false
   },
   "outputs": [],
   "source": [
    "# import necessary packages\n",
    "\n",
    "import numpy as np\n",
    "from scipy.stats import beta\n",
    "\n",
    "%matplotlib inline\n",
    "import matplotlib.pyplot as plt"
   ]
  },
  {
   "cell_type": "code",
   "execution_count": 2,
   "metadata": {
    "collapsed": true
   },
   "outputs": [],
   "source": [
    "# add utilities directory to path\n",
    "import os, sys\n",
    "util_path = os.path.abspath(os.path.join(os.path.pardir, 'utilities_and_data'))\n",
    "if util_path not in sys.path and os.path.exists(util_path):\n",
    "    sys.path.insert(0, util_path)\n",
    "\n",
    "# import from utilities\n",
    "import plot_tools"
   ]
  },
  {
   "cell_type": "code",
   "execution_count": 3,
   "metadata": {
    "collapsed": false
   },
   "outputs": [],
   "source": [
    "# edit default plot settings\n",
    "plt.rc('font', size=12)"
   ]
  },
  {
   "cell_type": "code",
   "execution_count": 4,
   "metadata": {
    "collapsed": false
   },
   "outputs": [
    {
     "data": {
      "image/png": "[encoded data removed]",
      "text/plain": [
       "<matplotlib.figure.Figure at 0x7fc0011abf98>"
      ]
     },
     "metadata": {},
     "output_type": "display_data"
    }
   ],
   "source": [
    "# plotting grid\n",
    "x = np.linspace(0.36, 0.54, 150)\n",
    "\n",
    "# draw n random samples from Beta(438,544)\n",
    "n = 10000\n",
    "th = beta.rvs(438, 544, size=n)  # rvs comes from `random variates`\n",
    "\n",
    "# plot 2 subplots\n",
    "fig, axes = plt.subplots(nrows=2, ncols=1, figsize=(8, 8))\n",
    "fig.subplots_adjust(hspace=0.4)\n",
    "\n",
    "# plot histogram\n",
    "axes[0].hist(th, bins=30, color=plot_tools.lighten('C0'))\n",
    "# compute 2.5% and 97.5% quantile approximation using samples\n",
    "th25, th975 = np.percentile(th, [2.5, 97.5])\n",
    "# draw lines for these\n",
    "axes[0].axvline(th25, color='C1')\n",
    "axes[0].axvline(th975, color='C1')\n",
    "axes[0].text(\n",
    "    th25,\n",
    "    axes[0].get_ylim()[1]+15,\n",
    "    '2.5%',\n",
    "    horizontalalignment='center'\n",
    ")\n",
    "axes[0].text(\n",
    "    th975,\n",
    "    axes[0].get_ylim()[1]+15,\n",
    "    '97.5%',\n",
    "    horizontalalignment='center'\n",
    ")\n",
    "axes[0].set_xlabel(r'$\\theta$')\n",
    "# remove yticks\n",
    "axes[0].set_yticks(())\n",
    "# set axis spines (borders)\n",
    "axes[0].spines['top'].set_visible(False)\n",
    "axes[0].spines['left'].set_visible(False)\n",
    "axes[0].spines['right'].set_visible(False)\n",
    "\n",
    "# plot histogram for the transformed variable\n",
    "phi = (1-th)/th\n",
    "axes[1].hist(phi, bins=30, color=plot_tools.lighten('C0'))\n",
    "# compute 2.5% and 97.5% quantile approximation using samples\n",
    "phi25, phi975 = np.percentile(phi, [2.5, 97.5])\n",
    "# draw lines for these\n",
    "axes[1].axvline(phi25, color='C1')\n",
    "axes[1].axvline(phi975, color='C1')\n",
    "axes[1].text(\n",
    "    phi25,\n",
    "    axes[1].get_ylim()[1]+15,\n",
    "    '2.5%',\n",
    "     horizontalalignment='center'\n",
    ")\n",
    "axes[1].text(\n",
    "    phi975,\n",
    "    axes[1].get_ylim()[1]+15,\n",
    "    '97.5%',\n",
    "    horizontalalignment='center'\n",
    ")\n",
    "axes[1].set_xlabel(r'$\\phi$')\n",
    "# remove yticks\n",
    "axes[1].set_yticks(())\n",
    "# set axis spines (borders)\n",
    "axes[1].spines['top'].set_visible(False)\n",
    "axes[1].spines['left'].set_visible(False)\n",
    "axes[1].spines['right'].set_visible(False);"
   ]
  }
 ],
 "metadata": {
  "kernelspec": {
   "display_name": "Python 3",
   "language": "python",
   "name": "python3"
  },
  "language_info": {
   "codemirror_mode": {
    "name": "ipython",
    "version": 3
   },
   "file_extension": ".py",
   "mimetype": "text/x-python",
   "name": "python",
   "nbconvert_exporter": "python",
   "pygments_lexer": "ipython3",
   "version": "3.5.2"
  }
 },
 "nbformat": 4,
 "nbformat_minor": 0
}
