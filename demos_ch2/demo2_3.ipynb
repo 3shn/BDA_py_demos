{
 "metadata": {
  "name": "",
  "signature": "sha256:3d4aad2fd60aa2d78505a9d047fdab2a41d4502ca66bb3b53d0be74963cdcc91"
 },
 "nbformat": 3,
 "nbformat_minor": 0,
 "worksheets": [
  {
   "cells": [
    {
     "cell_type": "heading",
     "level": 3,
     "metadata": {},
     "source": [
      "Becs-114.1311 Introduction to Bayesian Statistics"
     ]
    },
    {
     "cell_type": "heading",
     "level": 2,
     "metadata": {},
     "source": [
      "Chapter 2, demo 3"
     ]
    },
    {
     "cell_type": "markdown",
     "metadata": {},
     "source": [
      "Simulate samples from Beta(438,544), draw a histogram with quantiles, and do the same for a transformed variable."
     ]
    },
    {
     "cell_type": "code",
     "collapsed": false,
     "input": [
      "# Import necessary packages\n",
      "\n",
      "import numpy as np\n",
      "from scipy.stats import beta\n",
      "\n",
      "%matplotlib inline\n",
      "import matplotlib.pyplot as plt"
     ],
     "language": "python",
     "metadata": {},
     "outputs": [],
     "prompt_number": 1
    },
    {
     "cell_type": "code",
     "collapsed": false,
     "input": [
      "# Plotting grid\n",
      "x = np.linspace(0.375, 0.525, 100)\n",
      "\n",
      "# Draw n random samples from Beta(438,544)\n",
      "n = 10000\n",
      "th = beta.rvs(438, 544, size=n)  # rvs comes from `random variates`\n",
      "\n",
      "# Plot 2 subplots\n",
      "fig, axes = plt.subplots(nrows=2, ncols=1, figsize=(8, 10))\n",
      "\n",
      "# Plot histogram\n",
      "axes[0].hist(th, bins=30)\n",
      "# Compute 2.5% and 97.5% quantile approximation using samples\n",
      "th25, th975 = np.percentile(th, [2.5, 97.5])\n",
      "# Draw lines for these\n",
      "axes[0].axvline(th25, color='r')\n",
      "axes[0].axvline(th975, color='r')\n",
      "axes[0].text(th25, axes[0].get_ylim()[1]+15, '2.5%',\n",
      "             horizontalalignment='center')\n",
      "axes[0].text(th975, axes[0].get_ylim()[1]+15, '97.5%',\n",
      "             horizontalalignment='center')\n",
      "axes[0].set_xlabel('$\\\\theta$', fontsize=20)\n",
      "axes[0].set_yticks([])\n",
      "\n",
      "# Plot histogram for the transformed variable\n",
      "phi = (1-th)/th\n",
      "axes[1].hist(phi, bins=30)\n",
      "# Compute 2.5% and 97.5% quantile approximation using samples\n",
      "phi25, phi975 = np.percentile(phi, [2.5, 97.5])\n",
      "# Draw lines for these\n",
      "axes[1].axvline(phi25, color='r')\n",
      "axes[1].axvline(phi975, color='r')\n",
      "axes[1].text(phi25, axes[1].get_ylim()[1]+15, '2.5%',\n",
      "             horizontalalignment='center')\n",
      "axes[1].text(phi975, axes[1].get_ylim()[1]+15, '97.5%',\n",
      "             horizontalalignment='center')\n",
      "axes[1].set_xlabel('$\\\\phi$', fontsize=20)\n",
      "axes[1].set_yticks([])"
     ],
     "language": "python",
     "metadata": {},
     "outputs": [
      {
       "metadata": {},
       "output_type": "pyout",
       "prompt_number": 2,
       "text": [
        "[]"
       ]
      },
      {
       "metadata": {},
       "output_type": "display_data",
       "png": "[encoded data removed]",
       "text": [
        "<matplotlib.figure.Figure at 0xab0b2d8c>"
       ]
      }
     ],
     "prompt_number": 2
    }
   ],
   "metadata": {}
  }
 ]
}