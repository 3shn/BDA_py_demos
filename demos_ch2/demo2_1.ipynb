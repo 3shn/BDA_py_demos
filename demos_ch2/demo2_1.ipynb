{
 "metadata": {
  "name": "",
  "signature": "sha256:d18b19d47fd436efec46f3a732195852b5b8968e68eb7ad6216b1743100e870e"
 },
 "nbformat": 3,
 "nbformat_minor": 0,
 "worksheets": [
  {
   "cells": [
    {
     "cell_type": "heading",
     "level": 3,
     "metadata": {},
     "source": [
      "Becs-114.1311 Introduction to Bayesian Statistics"
     ]
    },
    {
     "cell_type": "heading",
     "level": 2,
     "metadata": {},
     "source": [
      "Chapter 2, demo 1"
     ]
    },
    {
     "cell_type": "markdown",
     "metadata": {},
     "source": [
      "437 girls and 543 boys have been observed. Calculate and plot the posterior distribution of the proportion of girls $\\theta $, using\n",
      "uniform prior on $\\theta $."
     ]
    },
    {
     "cell_type": "code",
     "collapsed": false,
     "input": [
      "# Import necessary packages\n",
      "\n",
      "# Plotting\n",
      "%matplotlib inline\n",
      "import matplotlib.pyplot as plt\n",
      "\n",
      "# Fast array routines for numerical calculation\n",
      "import numpy as np\n",
      "# Scipy contains various scietific tools, such as beta distribution\n",
      "from scipy.stats import beta"
     ],
     "language": "python",
     "metadata": {},
     "outputs": [],
     "prompt_number": 1
    },
    {
     "cell_type": "markdown",
     "metadata": {},
     "source": [
      "The posterior distribution is Beta(438,544)"
     ]
    },
    {
     "cell_type": "code",
     "collapsed": false,
     "input": [
      "# Create grid of 100 points from 0.375 to 0.525\n",
      "x = np.linspace(0.375, 0.525, 100)\n",
      "# Freeze a beta distribution object with given parameters\n",
      "dist = beta(438, 544)\n",
      "# Probability density function at x\n",
      "pd = dist.pdf(x)\n",
      "\n",
      "# Plot pd\n",
      "plt.plot(x, pd)\n",
      "\n",
      "# Plot proportion of girl babies in general population\n",
      "plt.axvline(0.485, color='k', linestyle='--')\n",
      "\n",
      "# Find the points in x that are between 2.5% and 97.5% quantile\n",
      "# dist.ppf is percent point function (inverse of cdf)\n",
      "x_95_idx = (x > dist.ppf(0.025)) & (x < dist.ppf(0.975))\n",
      "# Shade the 95% central interval\n",
      "plt.fill_between(x[x_95_idx], pd[x_95_idx], color=[0.9,0.9,0.9])\n",
      "# Add text into the shaded area\n",
      "plt.text(dist.median(), 8, \"95%\", horizontalalignment='center')"
     ],
     "language": "python",
     "metadata": {},
     "outputs": [
      {
       "metadata": {},
       "output_type": "pyout",
       "prompt_number": 2,
       "text": [
        "<matplotlib.text.Text at 0xab04ed4c>"
       ]
      },
      {
       "metadata": {},
       "output_type": "display_data",
       "png": "[encoded data removed]",
       "text": [
        "<matplotlib.figure.Figure at 0xaae60c6c>"
       ]
      }
     ],
     "prompt_number": 2
    }
   ],
   "metadata": {}
  }
 ]
}