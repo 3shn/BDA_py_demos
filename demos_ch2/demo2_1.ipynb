{
 "cells": [
  {
   "cell_type": "markdown",
   "metadata": {},
   "source": [
    "### Bayesian Data Analysis, 3rd ed\n",
    "## Chapter 2, demo 1\n",
    "\n",
    "Authors:\n",
    "- Aki Vehtari <aki.vehtari@aalto.fi>\n",
    "- Tuomas Sivula <tuomas.sivula@aalto.fi>\n",
    "\n",
    "Probability of a girl birth given placenta previa (BDA3 p. 37).\n",
    "437 girls and 543 boys have been observed. Calculate and plot the posterior distribution of the proportion of girls $\\theta $, using\n",
    "uniform prior on $\\theta $."
   ]
  },
  {
   "cell_type": "code",
   "execution_count": 1,
   "metadata": {
    "collapsed": false
   },
   "outputs": [],
   "source": [
    "# import necessary packages\n",
    "\n",
    "# plotting\n",
    "%matplotlib inline\n",
    "import matplotlib.pyplot as plt\n",
    "\n",
    "# fast array routines for numerical calculation\n",
    "import numpy as np\n",
    "# scipy contains various scietific tools, such as beta distribution\n",
    "from scipy.stats import beta"
   ]
  },
  {
   "cell_type": "code",
   "execution_count": 2,
   "metadata": {
    "collapsed": false
   },
   "outputs": [],
   "source": [
    "# edit default plot settings\n",
    "plt.rc('font', size=12)"
   ]
  },
  {
   "cell_type": "markdown",
   "metadata": {},
   "source": [
    "The posterior distribution is Beta(438, 544). Plot the distribution."
   ]
  },
  {
   "cell_type": "code",
   "execution_count": 3,
   "metadata": {
    "collapsed": false
   },
   "outputs": [
    {
     "name": "stdout",
     "output_type": "stream",
     "text": [
      "Uniform prior -> Posterior is Beta(438,544)\n"
     ]
    },
    {
     "data": {
      "image/png": "[encoded data removed]",
      "text/plain": [
       "<matplotlib.figure.Figure at 0x7f4136667780>"
      ]
     },
     "metadata": {},
     "output_type": "display_data"
    }
   ],
   "source": [
    "# create grid of 80 points from 0.36 to 0.54\n",
    "x = np.linspace(0.36, 0.54, 80)\n",
    "# freeze a beta distribution object with given parameters\n",
    "dist = beta(438, 544)\n",
    "# probability density function at x\n",
    "pd = dist.pdf(x)\n",
    "\n",
    "print('Uniform prior -> Posterior is Beta(438,544)')\n",
    "\n",
    "# plot pd\n",
    "plt.plot(x, pd)\n",
    "# annotate the line\n",
    "plt.annotate(\n",
    "    r'$p(\\theta|y,n)$',\n",
    "    (x[35] - 0.005, pd[35]),\n",
    "    ha='right'  # horizontalalignment\n",
    ")\n",
    "\n",
    "# plot proportion of girl babies in general population as a vertical line\n",
    "# ``color='C1'`` corresponds to default color #2\n",
    "plt.axvline(0.485, color='C1')\n",
    "# annotate the line\n",
    "plt.annotate(\n",
    "    'proportion in general\\npopulation',\n",
    "    (0.485 + 0.005, 14),\n",
    "    ha='left'  # horizontalalignment\n",
    ")\n",
    "\n",
    "# find the points in x that are between 2.5% and 97.5% quantile\n",
    "# dist.ppf is percent point function (inverse of cdf)\n",
    "x_95_idx = (x > dist.ppf(0.025)) & (x < dist.ppf(0.975))\n",
    "# shade the 95% central posterior interval\n",
    "plt.fill_between(x[x_95_idx], pd[x_95_idx], color='0.92')\n",
    "# add text into the shaded area\n",
    "plt.text(dist.median(), 8, \"95%\", horizontalalignment='center')\n",
    "# add labels and title\n",
    "plt.xlabel(r'$\\theta$')\n",
    "\n",
    "# remove y-axis ticks\n",
    "plt.yticks(())\n",
    "# set axis spines (borders)\n",
    "plt.gca().spines['top'].set_visible(False)\n",
    "plt.gca().spines['left'].set_visible(False)\n",
    "plt.gca().spines['right'].set_visible(False)\n",
    "# set bottom ylim to zero\n",
    "_, ymax = plt.ylim()\n",
    "plt.ylim((0, ymax))\n",
    "\n",
    "# scale x-axis tightly to the data.\n",
    "plt.autoscale(axis='x', tight=True);\n",
    "# N.B. the last semicolon is here just to prevent ipython notebook\n",
    "# from displaying the return value of the last command."
   ]
  }
 ],
 "metadata": {
  "kernelspec": {
   "display_name": "Python 3",
   "language": "python",
   "name": "python3"
  },
  "language_info": {
   "codemirror_mode": {
    "name": "ipython",
    "version": 3
   },
   "file_extension": ".py",
   "mimetype": "text/x-python",
   "name": "python",
   "nbconvert_exporter": "python",
   "pygments_lexer": "ipython3",
   "version": "3.5.2"
  }
 },
 "nbformat": 4,
 "nbformat_minor": 0
}
