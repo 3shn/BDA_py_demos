{
 "cells": [
  {
   "cell_type": "markdown",
   "metadata": {},
   "source": [
    "# Diabetes stan demo\n",
    "\n",
    "TODO: Work in progress \n",
    "\n",
    "The respective R-demo is available [here](https://github.com/avehtari/BDA_R_demos/blob/master/demos_rstan/diabetes.Rmd)."
   ]
  },
  {
   "cell_type": "code",
   "execution_count": 1,
   "metadata": {
    "collapsed": true
   },
   "outputs": [],
   "source": [
    "%matplotlib inline\n",
    "\n",
    "import numpy as np\n",
    "import pandas as pd\n",
    "import matplotlib as mpl\n",
    "import matplotlib.pyplot as plt\n",
    "\n",
    "# import stan interface\n",
    "import pystan\n",
    "import stan_utility"
   ]
  },
  {
   "cell_type": "code",
   "execution_count": 2,
   "metadata": {
    "collapsed": true
   },
   "outputs": [],
   "source": [
    "# add utilities directory to path\n",
    "import os\n",
    "util_path = '../utilities_and_data'  # provide path to utilities\n",
    "util_path = os.path.abspath(util_path)\n",
    "if util_path not in os.sys.path and os.path.exists(util_path):\n",
    "    os.sys.path.insert(0, util_path)\n",
    "\n",
    "# import from utilities\n",
    "import psis  # pareto smoothed importance sampling"
   ]
  },
  {
   "cell_type": "markdown",
   "metadata": {},
   "source": [
    "# Get the data"
   ]
  },
  {
   "cell_type": "code",
   "execution_count": 3,
   "metadata": {
    "collapsed": false,
    "scrolled": false
   },
   "outputs": [
    {
     "name": "stdout",
     "output_type": "stream",
     "text": [
      "<class 'pandas.core.frame.DataFrame'>\n",
      "RangeIndex: 768 entries, 0 to 767\n",
      "Data columns (total 9 columns):\n",
      "Pregnancies                 768 non-null int64\n",
      "Glucose                     768 non-null int64\n",
      "BloodPressure               768 non-null int64\n",
      "SkinThickness               768 non-null int64\n",
      "Insulin                     768 non-null int64\n",
      "BMI                         768 non-null float64\n",
      "DiabetesPedigreeFunction    768 non-null float64\n",
      "Age                         768 non-null int64\n",
      "Outcome                     768 non-null int64\n",
      "dtypes: float64(2), int64(7)\n",
      "memory usage: 54.1 KB\n"
     ]
    }
   ],
   "source": [
    "# load data\n",
    "path = '../utilities_and_data/diabetes.csv'\n",
    "data = pd.read_csv(path)\n",
    "# print some basic info()\n",
    "data.info()"
   ]
  },
  {
   "cell_type": "code",
   "execution_count": 4,
   "metadata": {
    "collapsed": false
   },
   "outputs": [
    {
     "data": {
      "text/html": [
       "<div>\n",
       "<table border=\"1\" class=\"dataframe\">\n",
       "  <thead>\n",
       "    <tr style=\"text-align: right;\">\n",
       "      <th></th>\n",
       "      <th>Pregnancies</th>\n",
       "      <th>Glucose</th>\n",
       "      <th>BloodPressure</th>\n",
       "      <th>SkinThickness</th>\n",
       "      <th>Insulin</th>\n",
       "      <th>BMI</th>\n",
       "      <th>DiabetesPedigreeFunction</th>\n",
       "      <th>Age</th>\n",
       "      <th>Outcome</th>\n",
       "    </tr>\n",
       "  </thead>\n",
       "  <tbody>\n",
       "    <tr>\n",
       "      <th>0</th>\n",
       "      <td>6</td>\n",
       "      <td>148</td>\n",
       "      <td>72</td>\n",
       "      <td>35</td>\n",
       "      <td>0</td>\n",
       "      <td>33.6</td>\n",
       "      <td>0.627</td>\n",
       "      <td>50</td>\n",
       "      <td>1</td>\n",
       "    </tr>\n",
       "    <tr>\n",
       "      <th>1</th>\n",
       "      <td>1</td>\n",
       "      <td>85</td>\n",
       "      <td>66</td>\n",
       "      <td>29</td>\n",
       "      <td>0</td>\n",
       "      <td>26.6</td>\n",
       "      <td>0.351</td>\n",
       "      <td>31</td>\n",
       "      <td>0</td>\n",
       "    </tr>\n",
       "    <tr>\n",
       "      <th>2</th>\n",
       "      <td>8</td>\n",
       "      <td>183</td>\n",
       "      <td>64</td>\n",
       "      <td>0</td>\n",
       "      <td>0</td>\n",
       "      <td>23.3</td>\n",
       "      <td>0.672</td>\n",
       "      <td>32</td>\n",
       "      <td>1</td>\n",
       "    </tr>\n",
       "    <tr>\n",
       "      <th>3</th>\n",
       "      <td>1</td>\n",
       "      <td>89</td>\n",
       "      <td>66</td>\n",
       "      <td>23</td>\n",
       "      <td>94</td>\n",
       "      <td>28.1</td>\n",
       "      <td>0.167</td>\n",
       "      <td>21</td>\n",
       "      <td>0</td>\n",
       "    </tr>\n",
       "    <tr>\n",
       "      <th>4</th>\n",
       "      <td>0</td>\n",
       "      <td>137</td>\n",
       "      <td>40</td>\n",
       "      <td>35</td>\n",
       "      <td>168</td>\n",
       "      <td>43.1</td>\n",
       "      <td>2.288</td>\n",
       "      <td>33</td>\n",
       "      <td>1</td>\n",
       "    </tr>\n",
       "  </tbody>\n",
       "</table>\n",
       "</div>"
      ],
      "text/plain": [
       "   Pregnancies  Glucose  BloodPressure  SkinThickness  Insulin   BMI  \\\n",
       "0            6      148             72             35        0  33.6   \n",
       "1            1       85             66             29        0  26.6   \n",
       "2            8      183             64              0        0  23.3   \n",
       "3            1       89             66             23       94  28.1   \n",
       "4            0      137             40             35      168  43.1   \n",
       "\n",
       "   DiabetesPedigreeFunction  Age  Outcome  \n",
       "0                     0.627   50        1  \n",
       "1                     0.351   31        0  \n",
       "2                     0.672   32        1  \n",
       "3                     0.167   21        0  \n",
       "4                     2.288   33        1  "
      ]
     },
     "execution_count": 4,
     "metadata": {},
     "output_type": "execute_result"
    }
   ],
   "source": [
    "# preview some first rows\n",
    "data.head()"
   ]
  },
  {
   "cell_type": "code",
   "execution_count": 5,
   "metadata": {
    "collapsed": false
   },
   "outputs": [
    {
     "data": {
      "text/html": [
       "<div>\n",
       "<table border=\"1\" class=\"dataframe\">\n",
       "  <thead>\n",
       "    <tr style=\"text-align: right;\">\n",
       "      <th></th>\n",
       "      <th>Pregnancies</th>\n",
       "      <th>Glucose</th>\n",
       "      <th>BloodPressure</th>\n",
       "      <th>SkinThickness</th>\n",
       "      <th>Insulin</th>\n",
       "      <th>BMI</th>\n",
       "      <th>DiabetesPedigreeFunction</th>\n",
       "      <th>Age</th>\n",
       "      <th>Outcome</th>\n",
       "    </tr>\n",
       "  </thead>\n",
       "  <tbody>\n",
       "    <tr>\n",
       "      <th>count</th>\n",
       "      <td>768.000000</td>\n",
       "      <td>768.000000</td>\n",
       "      <td>768.000000</td>\n",
       "      <td>768.000000</td>\n",
       "      <td>768.000000</td>\n",
       "      <td>768.000000</td>\n",
       "      <td>768.000000</td>\n",
       "      <td>768.000000</td>\n",
       "      <td>768.000000</td>\n",
       "    </tr>\n",
       "    <tr>\n",
       "      <th>mean</th>\n",
       "      <td>3.845052</td>\n",
       "      <td>120.894531</td>\n",
       "      <td>69.105469</td>\n",
       "      <td>20.536458</td>\n",
       "      <td>79.799479</td>\n",
       "      <td>31.992578</td>\n",
       "      <td>0.471876</td>\n",
       "      <td>33.240885</td>\n",
       "      <td>0.348958</td>\n",
       "    </tr>\n",
       "    <tr>\n",
       "      <th>std</th>\n",
       "      <td>3.369578</td>\n",
       "      <td>31.972618</td>\n",
       "      <td>19.355807</td>\n",
       "      <td>15.952218</td>\n",
       "      <td>115.244002</td>\n",
       "      <td>7.884160</td>\n",
       "      <td>0.331329</td>\n",
       "      <td>11.760232</td>\n",
       "      <td>0.476951</td>\n",
       "    </tr>\n",
       "    <tr>\n",
       "      <th>min</th>\n",
       "      <td>0.000000</td>\n",
       "      <td>0.000000</td>\n",
       "      <td>0.000000</td>\n",
       "      <td>0.000000</td>\n",
       "      <td>0.000000</td>\n",
       "      <td>0.000000</td>\n",
       "      <td>0.078000</td>\n",
       "      <td>21.000000</td>\n",
       "      <td>0.000000</td>\n",
       "    </tr>\n",
       "    <tr>\n",
       "      <th>25%</th>\n",
       "      <td>1.000000</td>\n",
       "      <td>99.000000</td>\n",
       "      <td>62.000000</td>\n",
       "      <td>0.000000</td>\n",
       "      <td>0.000000</td>\n",
       "      <td>27.300000</td>\n",
       "      <td>0.243750</td>\n",
       "      <td>24.000000</td>\n",
       "      <td>0.000000</td>\n",
       "    </tr>\n",
       "    <tr>\n",
       "      <th>50%</th>\n",
       "      <td>3.000000</td>\n",
       "      <td>117.000000</td>\n",
       "      <td>72.000000</td>\n",
       "      <td>23.000000</td>\n",
       "      <td>30.500000</td>\n",
       "      <td>32.000000</td>\n",
       "      <td>0.372500</td>\n",
       "      <td>29.000000</td>\n",
       "      <td>0.000000</td>\n",
       "    </tr>\n",
       "    <tr>\n",
       "      <th>75%</th>\n",
       "      <td>6.000000</td>\n",
       "      <td>140.250000</td>\n",
       "      <td>80.000000</td>\n",
       "      <td>32.000000</td>\n",
       "      <td>127.250000</td>\n",
       "      <td>36.600000</td>\n",
       "      <td>0.626250</td>\n",
       "      <td>41.000000</td>\n",
       "      <td>1.000000</td>\n",
       "    </tr>\n",
       "    <tr>\n",
       "      <th>max</th>\n",
       "      <td>17.000000</td>\n",
       "      <td>199.000000</td>\n",
       "      <td>122.000000</td>\n",
       "      <td>99.000000</td>\n",
       "      <td>846.000000</td>\n",
       "      <td>67.100000</td>\n",
       "      <td>2.420000</td>\n",
       "      <td>81.000000</td>\n",
       "      <td>1.000000</td>\n",
       "    </tr>\n",
       "  </tbody>\n",
       "</table>\n",
       "</div>"
      ],
      "text/plain": [
       "       Pregnancies     Glucose  BloodPressure  SkinThickness     Insulin  \\\n",
       "count   768.000000  768.000000     768.000000     768.000000  768.000000   \n",
       "mean      3.845052  120.894531      69.105469      20.536458   79.799479   \n",
       "std       3.369578   31.972618      19.355807      15.952218  115.244002   \n",
       "min       0.000000    0.000000       0.000000       0.000000    0.000000   \n",
       "25%       1.000000   99.000000      62.000000       0.000000    0.000000   \n",
       "50%       3.000000  117.000000      72.000000      23.000000   30.500000   \n",
       "75%       6.000000  140.250000      80.000000      32.000000  127.250000   \n",
       "max      17.000000  199.000000     122.000000      99.000000  846.000000   \n",
       "\n",
       "              BMI  DiabetesPedigreeFunction         Age     Outcome  \n",
       "count  768.000000                768.000000  768.000000  768.000000  \n",
       "mean    31.992578                  0.471876   33.240885    0.348958  \n",
       "std      7.884160                  0.331329   11.760232    0.476951  \n",
       "min      0.000000                  0.078000   21.000000    0.000000  \n",
       "25%     27.300000                  0.243750   24.000000    0.000000  \n",
       "50%     32.000000                  0.372500   29.000000    0.000000  \n",
       "75%     36.600000                  0.626250   41.000000    1.000000  \n",
       "max     67.100000                  2.420000   81.000000    1.000000  "
      ]
     },
     "execution_count": 5,
     "metadata": {},
     "output_type": "execute_result"
    }
   ],
   "source": [
    "# some summary\n",
    "data.describe()"
   ]
  },
  {
   "cell_type": "markdown",
   "metadata": {},
   "source": [
    "# Preprocess data"
   ]
  },
  {
   "cell_type": "code",
   "execution_count": 6,
   "metadata": {
    "collapsed": true
   },
   "outputs": [],
   "source": [
    "# modify the data column names slightly for easier typing\n",
    "# rename DiabetesPedigreeFunction to dpf\n",
    "data.rename(columns={'DiabetesPedigreeFunction': 'dpf'}, inplace=True)\n",
    "# make lower\n",
    "data.rename(columns=lambda old_name: old_name.lower(), inplace=True)"
   ]
  },
  {
   "cell_type": "code",
   "execution_count": 7,
   "metadata": {
    "collapsed": false
   },
   "outputs": [],
   "source": [
    "# removing those observation rows with 0 in selected variables\n",
    "normed_predictors = [\n",
    "    'glucose',\n",
    "    'bloodpressure',\n",
    "    'skinthickness',\n",
    "    'insulin',\n",
    "    'bmi'\n",
    "]\n",
    "data = data[(data[normed_predictors] != 0).all(axis=1)]"
   ]
  },
  {
   "cell_type": "code",
   "execution_count": 8,
   "metadata": {
    "collapsed": false
   },
   "outputs": [],
   "source": [
    "# scale the covariates for easier comparison of coefficient posteriors\n",
    "# N.B. int columns turn into floats\n",
    "data.ix[:,:-1] -= data.ix[:,:-1].mean()\n",
    "data.ix[:,:-1] /= data.ix[:,:-1].std()"
   ]
  },
  {
   "cell_type": "code",
   "execution_count": 9,
   "metadata": {
    "collapsed": false
   },
   "outputs": [
    {
     "data": {
      "text/html": [
       "<div>\n",
       "<table border=\"1\" class=\"dataframe\">\n",
       "  <thead>\n",
       "    <tr style=\"text-align: right;\">\n",
       "      <th></th>\n",
       "      <th>pregnancies</th>\n",
       "      <th>glucose</th>\n",
       "      <th>bloodpressure</th>\n",
       "      <th>skinthickness</th>\n",
       "      <th>insulin</th>\n",
       "      <th>bmi</th>\n",
       "      <th>dpf</th>\n",
       "      <th>age</th>\n",
       "      <th>outcome</th>\n",
       "    </tr>\n",
       "  </thead>\n",
       "  <tbody>\n",
       "    <tr>\n",
       "      <th>3</th>\n",
       "      <td>-0.716511</td>\n",
       "      <td>-1.089653</td>\n",
       "      <td>-0.373178</td>\n",
       "      <td>-0.584363</td>\n",
       "      <td>-0.522175</td>\n",
       "      <td>-0.709514</td>\n",
       "      <td>-1.030559</td>\n",
       "      <td>-0.967063</td>\n",
       "      <td>0</td>\n",
       "    </tr>\n",
       "    <tr>\n",
       "      <th>4</th>\n",
       "      <td>-1.027899</td>\n",
       "      <td>0.465719</td>\n",
       "      <td>-2.453828</td>\n",
       "      <td>0.556709</td>\n",
       "      <td>0.100502</td>\n",
       "      <td>1.424909</td>\n",
       "      <td>5.108582</td>\n",
       "      <td>0.209318</td>\n",
       "      <td>1</td>\n",
       "    </tr>\n",
       "    <tr>\n",
       "      <th>6</th>\n",
       "      <td>-0.093734</td>\n",
       "      <td>-1.446093</td>\n",
       "      <td>-1.653578</td>\n",
       "      <td>0.271441</td>\n",
       "      <td>-0.572662</td>\n",
       "      <td>-0.296859</td>\n",
       "      <td>-0.796108</td>\n",
       "      <td>-0.476904</td>\n",
       "      <td>1</td>\n",
       "    </tr>\n",
       "    <tr>\n",
       "      <th>8</th>\n",
       "      <td>-0.405123</td>\n",
       "      <td>2.409934</td>\n",
       "      <td>-0.053078</td>\n",
       "      <td>1.507603</td>\n",
       "      <td>3.255961</td>\n",
       "      <td>-0.368007</td>\n",
       "      <td>-1.056609</td>\n",
       "      <td>2.169953</td>\n",
       "      <td>1</td>\n",
       "    </tr>\n",
       "    <tr>\n",
       "      <th>13</th>\n",
       "      <td>-0.716511</td>\n",
       "      <td>2.150705</td>\n",
       "      <td>-0.853328</td>\n",
       "      <td>-0.584363</td>\n",
       "      <td>5.805571</td>\n",
       "      <td>-0.424924</td>\n",
       "      <td>-0.361940</td>\n",
       "      <td>2.758143</td>\n",
       "      <td>1</td>\n",
       "    </tr>\n",
       "  </tbody>\n",
       "</table>\n",
       "</div>"
      ],
      "text/plain": [
       "    pregnancies   glucose  bloodpressure  skinthickness   insulin       bmi  \\\n",
       "3     -0.716511 -1.089653      -0.373178      -0.584363 -0.522175 -0.709514   \n",
       "4     -1.027899  0.465719      -2.453828       0.556709  0.100502  1.424909   \n",
       "6     -0.093734 -1.446093      -1.653578       0.271441 -0.572662 -0.296859   \n",
       "8     -0.405123  2.409934      -0.053078       1.507603  3.255961 -0.368007   \n",
       "13    -0.716511  2.150705      -0.853328      -0.584363  5.805571 -0.424924   \n",
       "\n",
       "         dpf       age  outcome  \n",
       "3  -1.030559 -0.967063        0  \n",
       "4   5.108582  0.209318        1  \n",
       "6  -0.796108 -0.476904        1  \n",
       "8  -1.056609  2.169953        1  \n",
       "13 -0.361940  2.758143        1  "
      ]
     },
     "execution_count": 9,
     "metadata": {},
     "output_type": "execute_result"
    }
   ],
   "source": [
    "# preview some first rows againg\n",
    "data.head()"
   ]
  },
  {
   "cell_type": "code",
   "execution_count": 10,
   "metadata": {
    "collapsed": true
   },
   "outputs": [],
   "source": [
    "# preparing the inputs\n",
    "X = data.ix[:,:-1]\n",
    "y = data.ix[:,-1]"
   ]
  },
  {
   "cell_type": "code",
   "execution_count": 11,
   "metadata": {
    "collapsed": false
   },
   "outputs": [
    {
     "name": "stdout",
     "output_type": "stream",
     "text": [
      "number of observations = 392\n",
      "number of predictors = 8\n"
     ]
    }
   ],
   "source": [
    "# get shape into variables\n",
    "n, p = X.shape\n",
    "print('number of observations = {}'.format(n))\n",
    "print('number of predictors = {}'.format(p))"
   ]
  },
  {
   "cell_type": "markdown",
   "metadata": {},
   "source": [
    "# Model\n",
    "\n",
    "Logistic regression with student-t prior"
   ]
  },
  {
   "cell_type": "code",
   "execution_count": 12,
   "metadata": {
    "collapsed": false
   },
   "outputs": [
    {
     "name": "stdout",
     "output_type": "stream",
     "text": [
      "// Logistic regression with student t prior\r\n",
      "data {\r\n",
      "  int<lower=0> N;               // number of data points\r\n",
      "  int<lower=1> D;               // explanatory variable dimension\r\n",
      "  matrix[N, D] X;               // explanatory variable\r\n",
      "  int<lower=0,upper=1> y[N];    // responce variable\r\n",
      "  int<lower=1> p_alpha_df;      // prior degrees of freedom for alpha\r\n",
      "  real p_alpha_loc;             // prior location for alpha\r\n",
      "  real<lower=0> p_alpha_scale;  // prior scale for alpha\r\n",
      "  int<lower=1> p_beta_df;       // prior degrees of freedom for beta\r\n",
      "  real p_beta_loc;              // prior location for beta\r\n",
      "  real<lower=0> p_beta_scale;   // prior scale for beta\r\n",
      "}\r\n",
      "parameters {\r\n",
      "  real alpha;\r\n",
      "  vector[D] beta;\r\n",
      "}\r\n",
      "model {\r\n",
      "  alpha ~ student_t(p_alpha_df, p_alpha_loc, p_alpha_scale);\r\n",
      "  beta ~ student_t(p_beta_df, p_beta_loc, p_beta_scale);\r\n",
      "  y ~ bernoulli_logit(alpha + X * beta);\r\n",
      "}\r\n"
     ]
    }
   ],
   "source": [
    "%cat logistic_t.stan"
   ]
  },
  {
   "cell_type": "code",
   "execution_count": 13,
   "metadata": {
    "collapsed": false
   },
   "outputs": [
    {
     "name": "stdout",
     "output_type": "stream",
     "text": [
      "Using cached StanModel\n"
     ]
    }
   ],
   "source": [
    "model = stan_utility.compile_model('logistic_t.stan')"
   ]
  },
  {
   "cell_type": "code",
   "execution_count": 14,
   "metadata": {
    "collapsed": false
   },
   "outputs": [],
   "source": [
    "data = dict(\n",
    "    N=n,\n",
    "    D=p,\n",
    "    X=X,\n",
    "    y=y,\n",
    "    p_alpha_df=7,\n",
    "    p_alpha_loc=0,\n",
    "    p_alpha_scale=2.5,\n",
    "    p_beta_df=7,\n",
    "    p_beta_loc=0,\n",
    "    p_beta_scale=2.5\n",
    ")\n",
    "fit = model.sampling(data=data)\n",
    "samples = fit.extract(permuted=True)"
   ]
  },
  {
   "cell_type": "code",
   "execution_count": 45,
   "metadata": {
    "collapsed": false
   },
   "outputs": [
    {
     "data": {
      "image/png": "[encoded data removed]",
      "text/plain": [
       "<matplotlib.figure.Figure at 0x7f885683a780>"
      ]
     },
     "metadata": {},
     "output_type": "display_data"
    }
   ],
   "source": [
    "# plot marginal posterior distributions\n",
    "bins = 40\n",
    "\n",
    "# get range of all samples\n",
    "x_range = [\n",
    "    min(np.min(samples['alpha']), np.min(samples['beta'])),\n",
    "    max(np.max(samples['alpha']), np.max(samples['beta'])),\n",
    "]\n",
    "\n",
    "# set up multiple plots\n",
    "fig, axes = plt.subplots(\n",
    "    nrows=p+1, ncols=1, sharex=True, sharey=True, figsize=(7, 10))\n",
    "# plot intercept\n",
    "ax = axes[0]\n",
    "ax.hist(samples['alpha'], bins=np.linspace(*xrange, bins+1))\n",
    "ax.set_ylabel('intercept', rotation='horizontal', ha='right')\n",
    "ax.spines['top'].set_visible(False)\n",
    "ax.spines['left'].set_visible(False)\n",
    "ax.spines['right'].set_visible(False)\n",
    "ax.set_yticks(())\n",
    "# plot slopes\n",
    "for i, ax  in enumerate(axes[1:]):\n",
    "    ax.hist(samples['beta'][:, i], bins=np.linspace(*xrange, bins+1))\n",
    "    ax.set_ylabel(\n",
    "        'slope: {}'.format(X.columns[i]),\n",
    "        rotation='horizontal',\n",
    "        ha='right'\n",
    "    )\n",
    "    ax.spines['top'].set_visible(False)\n",
    "    ax.spines['left'].set_visible(False)\n",
    "    ax.spines['right'].set_visible(False)\n",
    "    ax.set_yticks(())\n",
    "\n",
    "# draw x=0 line accross all the figures\n",
    "xzero = mpl.patches.ConnectionPatch(\n",
    "    xyA=(0, 0),\n",
    "    xyB=(0, axes[0].get_ylim()[1]),\n",
    "    coordsA=\"data\",\n",
    "    coordsB=\"data\",\n",
    "    axesA=axes[-1],\n",
    "    axesB=axes[0],\n",
    "    color='C1'\n",
    ")\n",
    "axes[-1].add_artist(xzero);"
   ]
  }
 ],
 "metadata": {
  "kernelspec": {
   "display_name": "Python 3",
   "language": "python",
   "name": "python3"
  },
  "language_info": {
   "codemirror_mode": {
    "name": "ipython",
    "version": 3
   },
   "file_extension": ".py",
   "mimetype": "text/x-python",
   "name": "python",
   "nbconvert_exporter": "python",
   "pygments_lexer": "ipython3",
   "version": "3.5.2"
  }
 },
 "nbformat": 4,
 "nbformat_minor": 2
}
