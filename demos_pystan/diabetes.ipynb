{
 "cells": [
  {
   "cell_type": "markdown",
   "metadata": {},
   "source": [
    "# Bayesian Logistic Regression with PyStan\n",
    "\n",
    "TODO: Work in progress \n",
    "\n",
    "Authors: Jonah Gabry, Ben Goodrich, Aki Vehtari, Tuomas Sivula\n",
    "\n",
    "The introduction to Bayesian logistic regression is from a [CRAN vignette](https://cran.r-project.org/web/packages/rstanarm/vignettes/binomial.html) by Jonah Gabry and Ben Goodrich. CRAN vignette was modified to a [R notebook](https://github.com/avehtari/BDA_R_demos/blob/master/demos_rstan/diabetes.Rmd) by Aki Vehtari.  Instead of wells data in CRAN vignette, Pima Indians data is used. The end of the notebook differs significantly from the CRAN vignette.  The R notebook was ported to this Python notebook by Aki Vehtari and Tuomas Sivula."
   ]
  },
  {
   "cell_type": "markdown",
   "metadata": {},
   "source": [
    "## Introduction\n",
    "\n",
    "This vignette explains how to estimate generalized linear models (GLMs) for binary (Bernoulli) response variables using PyStan.\n",
    "\n",
    "The four steps of a Bayesian analysis are\n",
    "\n",
    "1. Specify a joint distribution for the outcome(s) and all the unknowns, which typically takes the form of a marginal prior distribution for the unknowns multiplied by a likelihood for the outcome(s) conditional on the unknowns. This joint distribution is proportional to a posterior distribution of the unknowns conditional on the observed data\n",
    "2. Draw from posterior distribution using Markov Chain Monte Carlo (MCMC).\n",
    "3. Evaluate how well the model fits the data and possibly revise the model.\n",
    "4. Draw from the posterior predictive distribution of the outcome(s) given interesting values of the predictors in order to visualize how a manipulation of a predictor affects (a function of) the outcome(s).\n",
    "This notebook demonstrates Steps 1-3 when the likelihood is the product of conditionally independent binomial distributions (possibly with only one trial per observation).\n",
    "\n",
    "### Likelihood\n",
    "\n",
    "For a binomial GLM the likelihood for one observation $y$ can be written as a conditionally binomial PMF $$\\binom{n}{y} \\pi^{y} (1 - \\pi)^{n - y},$$ where $n$ is the known number of trials, $\\pi = g^{-1}(\\eta)$ is the probability of success and $\\eta = \\alpha + \\mathbf{x}^\\top \\boldsymbol{\\beta}$ is a linear predictor. For a sample of size $N$, the likelihood of the entire sample is the product of $N$ individual likelihood contributions.\n",
    "\n",
    "Because $\\pi$ is a probability, for a binomial model the link function $g$ maps between the unit interval (the support of $\\pi$) and the set of all real numbers $\\mathbb{R}$. When applied to a linear predictor $\\eta$ with values in $\\mathbb{R}$, the inverse link function $g^{-1}(\\eta)$ therefore returns a valid probability between 0 and 1.\n",
    "\n",
    "The two most common link functions used for binomial GLMs are the logit and probit functions. With the logit (or log-odds) link function $g(x) = \\ln{\\left(\\frac{x}{1-x}\\right)}$, the likelihood for a single observation becomes\n",
    "\n",
    "$$\\binom{n}{y}\\left(\\text{logit}^{-1}(\\eta)\\right)^y \\left(1 - \\text{logit}^{-1}(\\eta)\\right)^{n-y} = \\binom{n}{y} \\left(\\frac{e^{\\eta}}{1 + e^{\\eta}}\\right)^{y} \\left(\\frac{1}{1 + e^{\\eta}}\\right)^{n - y}$$\n",
    "\n",
    "and the probit link function $g(x) = \\Phi^{-1}(x)$ yields the likelihood\n",
    "\n",
    "$$\\binom{n}{y} \\left(\\Phi(\\eta)\\right)^{y} \\left(1 - \\Phi(\\eta)\\right)^{n - y},$$\n",
    "\n",
    "where $\\Phi$ is the CDF of the standard normal distribution. The differences between the logit and probit functions are minor and -- if, as rstanarm does by default, the probit is scaled so its slope at the origin matches the logit's -- the two link functions should yield similar results. Unless the user has a specific reason to prefer the probit link, we recommend the logit simply because it will be slightly faster and more numerically stable.\n",
    "\n",
    "In theory, there are infinitely many possible link functions, although in practice only a few are typically used. \n",
    "\n",
    "\n",
    "### Priors\n",
    "\n",
    "A full Bayesian analysis requires specifying prior distributions $f(\\alpha)$ and $f(\\boldsymbol{\\beta})$ for the intercept and vector of regression coefficients. \n",
    "\n",
    "As an example, suppose we have $K$ predictors and believe --- prior to seeing the data --- that $\\alpha, \\beta_1, \\dots, \\beta_K$ are as likely to be positive as they are to be negative, but are highly unlikely to be far from zero. These beliefs can be represented by normal distributions with mean zero and a small scale (standard deviation).\n",
    "\n",
    "If, on the other hand, we have less a priori confidence that the parameters will be close to zero then we could use a larger scale for the normal distribution and/or a distribution with heavier tails than the normal like the Student's $t$ distribution.\n",
    "\n",
    "### Posterior\n",
    "\n",
    "With independent prior distributions, the joint posterior distribution for $\\alpha$ and $\\boldsymbol{\\beta}$ is proportional to the product of the priors and the $N$ likelihood contributions:\n",
    "\n",
    "$$f\\left(\\alpha,\\boldsymbol{\\beta} | \\mathbf{y},\\mathbf{X}\\right) \\propto f\\left(\\alpha\\right) \\times \\prod_{k=1}^K f\\left(\\beta_k\\right) \\times \\prod_{i=1}^N { g^{-1}\\left(\\eta_i\\right)^{y_i} \\left(1 - g^{-1}\\left(\\eta_i\\right)\\right)^{n_i-y_i}}.$$\n",
    "\n",
    "This is posterior distribution that PyStan will draw from when using MCMC."
   ]
  },
  {
   "cell_type": "markdown",
   "metadata": {},
   "source": [
    "## Logistic Regression Example\n",
    "\n",
    "When the logit link function is used the model is often referred to as a logistic regression model (the inverse logit function is the CDF of the standard logistic distribution). As an example, here we will show how to carry out a analysis for Pima Indians data set similar to analysis from Chapter 5.4 of Gelman and Hill (2007) using PyStan."
   ]
  },
  {
   "cell_type": "code",
   "execution_count": 1,
   "metadata": {
    "collapsed": true
   },
   "outputs": [],
   "source": [
    "%matplotlib inline\n",
    "\n",
    "import numpy as np\n",
    "import pandas as pd\n",
    "import matplotlib as mpl\n",
    "import matplotlib.pyplot as plt\n",
    "\n",
    "# import stan interface\n",
    "import pystan"
   ]
  },
  {
   "cell_type": "code",
   "execution_count": 2,
   "metadata": {
    "collapsed": true
   },
   "outputs": [],
   "source": [
    "# add utilities directory to path\n",
    "import os\n",
    "util_path = '../utilities_and_data'  # provide path to utilities\n",
    "util_path = os.path.abspath(util_path)\n",
    "if util_path not in os.sys.path and os.path.exists(util_path):\n",
    "    os.sys.path.insert(0, util_path)\n",
    "\n",
    "# import from utilities\n",
    "import stan_utility\n",
    "import psis  # pareto smoothed importance sampling\n",
    "import plot_tools"
   ]
  },
  {
   "cell_type": "markdown",
   "metadata": {},
   "source": [
    "### Data\n",
    "\n",
    "First we load and pre-process data."
   ]
  },
  {
   "cell_type": "code",
   "execution_count": 3,
   "metadata": {
    "collapsed": false,
    "scrolled": false
   },
   "outputs": [
    {
     "name": "stdout",
     "output_type": "stream",
     "text": [
      "<class 'pandas.core.frame.DataFrame'>\n",
      "RangeIndex: 768 entries, 0 to 767\n",
      "Data columns (total 9 columns):\n",
      "Pregnancies                 768 non-null int64\n",
      "Glucose                     768 non-null int64\n",
      "BloodPressure               768 non-null int64\n",
      "SkinThickness               768 non-null int64\n",
      "Insulin                     768 non-null int64\n",
      "BMI                         768 non-null float64\n",
      "DiabetesPedigreeFunction    768 non-null float64\n",
      "Age                         768 non-null int64\n",
      "Outcome                     768 non-null int64\n",
      "dtypes: float64(2), int64(7)\n",
      "memory usage: 54.1 KB\n"
     ]
    }
   ],
   "source": [
    "# load data\n",
    "path = '../utilities_and_data/diabetes.csv'\n",
    "data = pd.read_csv(path)\n",
    "# print some basic info()\n",
    "data.info()"
   ]
  },
  {
   "cell_type": "code",
   "execution_count": 4,
   "metadata": {
    "collapsed": false
   },
   "outputs": [
    {
     "data": {
      "text/html": [
       "<div>\n",
       "<table border=\"1\" class=\"dataframe\">\n",
       "  <thead>\n",
       "    <tr style=\"text-align: right;\">\n",
       "      <th></th>\n",
       "      <th>Pregnancies</th>\n",
       "      <th>Glucose</th>\n",
       "      <th>BloodPressure</th>\n",
       "      <th>SkinThickness</th>\n",
       "      <th>Insulin</th>\n",
       "      <th>BMI</th>\n",
       "      <th>DiabetesPedigreeFunction</th>\n",
       "      <th>Age</th>\n",
       "      <th>Outcome</th>\n",
       "    </tr>\n",
       "  </thead>\n",
       "  <tbody>\n",
       "    <tr>\n",
       "      <th>0</th>\n",
       "      <td>6</td>\n",
       "      <td>148</td>\n",
       "      <td>72</td>\n",
       "      <td>35</td>\n",
       "      <td>0</td>\n",
       "      <td>33.6</td>\n",
       "      <td>0.627</td>\n",
       "      <td>50</td>\n",
       "      <td>1</td>\n",
       "    </tr>\n",
       "    <tr>\n",
       "      <th>1</th>\n",
       "      <td>1</td>\n",
       "      <td>85</td>\n",
       "      <td>66</td>\n",
       "      <td>29</td>\n",
       "      <td>0</td>\n",
       "      <td>26.6</td>\n",
       "      <td>0.351</td>\n",
       "      <td>31</td>\n",
       "      <td>0</td>\n",
       "    </tr>\n",
       "    <tr>\n",
       "      <th>2</th>\n",
       "      <td>8</td>\n",
       "      <td>183</td>\n",
       "      <td>64</td>\n",
       "      <td>0</td>\n",
       "      <td>0</td>\n",
       "      <td>23.3</td>\n",
       "      <td>0.672</td>\n",
       "      <td>32</td>\n",
       "      <td>1</td>\n",
       "    </tr>\n",
       "    <tr>\n",
       "      <th>3</th>\n",
       "      <td>1</td>\n",
       "      <td>89</td>\n",
       "      <td>66</td>\n",
       "      <td>23</td>\n",
       "      <td>94</td>\n",
       "      <td>28.1</td>\n",
       "      <td>0.167</td>\n",
       "      <td>21</td>\n",
       "      <td>0</td>\n",
       "    </tr>\n",
       "    <tr>\n",
       "      <th>4</th>\n",
       "      <td>0</td>\n",
       "      <td>137</td>\n",
       "      <td>40</td>\n",
       "      <td>35</td>\n",
       "      <td>168</td>\n",
       "      <td>43.1</td>\n",
       "      <td>2.288</td>\n",
       "      <td>33</td>\n",
       "      <td>1</td>\n",
       "    </tr>\n",
       "  </tbody>\n",
       "</table>\n",
       "</div>"
      ],
      "text/plain": [
       "   Pregnancies  Glucose  BloodPressure  SkinThickness  Insulin   BMI  \\\n",
       "0            6      148             72             35        0  33.6   \n",
       "1            1       85             66             29        0  26.6   \n",
       "2            8      183             64              0        0  23.3   \n",
       "3            1       89             66             23       94  28.1   \n",
       "4            0      137             40             35      168  43.1   \n",
       "\n",
       "   DiabetesPedigreeFunction  Age  Outcome  \n",
       "0                     0.627   50        1  \n",
       "1                     0.351   31        0  \n",
       "2                     0.672   32        1  \n",
       "3                     0.167   21        0  \n",
       "4                     2.288   33        1  "
      ]
     },
     "execution_count": 4,
     "metadata": {},
     "output_type": "execute_result"
    }
   ],
   "source": [
    "# preview some first rows\n",
    "data.head()"
   ]
  },
  {
   "cell_type": "code",
   "execution_count": 5,
   "metadata": {
    "collapsed": false
   },
   "outputs": [
    {
     "data": {
      "text/html": [
       "<div>\n",
       "<table border=\"1\" class=\"dataframe\">\n",
       "  <thead>\n",
       "    <tr style=\"text-align: right;\">\n",
       "      <th></th>\n",
       "      <th>Pregnancies</th>\n",
       "      <th>Glucose</th>\n",
       "      <th>BloodPressure</th>\n",
       "      <th>SkinThickness</th>\n",
       "      <th>Insulin</th>\n",
       "      <th>BMI</th>\n",
       "      <th>DiabetesPedigreeFunction</th>\n",
       "      <th>Age</th>\n",
       "      <th>Outcome</th>\n",
       "    </tr>\n",
       "  </thead>\n",
       "  <tbody>\n",
       "    <tr>\n",
       "      <th>count</th>\n",
       "      <td>768.000000</td>\n",
       "      <td>768.000000</td>\n",
       "      <td>768.000000</td>\n",
       "      <td>768.000000</td>\n",
       "      <td>768.000000</td>\n",
       "      <td>768.000000</td>\n",
       "      <td>768.000000</td>\n",
       "      <td>768.000000</td>\n",
       "      <td>768.000000</td>\n",
       "    </tr>\n",
       "    <tr>\n",
       "      <th>mean</th>\n",
       "      <td>3.845052</td>\n",
       "      <td>120.894531</td>\n",
       "      <td>69.105469</td>\n",
       "      <td>20.536458</td>\n",
       "      <td>79.799479</td>\n",
       "      <td>31.992578</td>\n",
       "      <td>0.471876</td>\n",
       "      <td>33.240885</td>\n",
       "      <td>0.348958</td>\n",
       "    </tr>\n",
       "    <tr>\n",
       "      <th>std</th>\n",
       "      <td>3.369578</td>\n",
       "      <td>31.972618</td>\n",
       "      <td>19.355807</td>\n",
       "      <td>15.952218</td>\n",
       "      <td>115.244002</td>\n",
       "      <td>7.884160</td>\n",
       "      <td>0.331329</td>\n",
       "      <td>11.760232</td>\n",
       "      <td>0.476951</td>\n",
       "    </tr>\n",
       "    <tr>\n",
       "      <th>min</th>\n",
       "      <td>0.000000</td>\n",
       "      <td>0.000000</td>\n",
       "      <td>0.000000</td>\n",
       "      <td>0.000000</td>\n",
       "      <td>0.000000</td>\n",
       "      <td>0.000000</td>\n",
       "      <td>0.078000</td>\n",
       "      <td>21.000000</td>\n",
       "      <td>0.000000</td>\n",
       "    </tr>\n",
       "    <tr>\n",
       "      <th>25%</th>\n",
       "      <td>1.000000</td>\n",
       "      <td>99.000000</td>\n",
       "      <td>62.000000</td>\n",
       "      <td>0.000000</td>\n",
       "      <td>0.000000</td>\n",
       "      <td>27.300000</td>\n",
       "      <td>0.243750</td>\n",
       "      <td>24.000000</td>\n",
       "      <td>0.000000</td>\n",
       "    </tr>\n",
       "    <tr>\n",
       "      <th>50%</th>\n",
       "      <td>3.000000</td>\n",
       "      <td>117.000000</td>\n",
       "      <td>72.000000</td>\n",
       "      <td>23.000000</td>\n",
       "      <td>30.500000</td>\n",
       "      <td>32.000000</td>\n",
       "      <td>0.372500</td>\n",
       "      <td>29.000000</td>\n",
       "      <td>0.000000</td>\n",
       "    </tr>\n",
       "    <tr>\n",
       "      <th>75%</th>\n",
       "      <td>6.000000</td>\n",
       "      <td>140.250000</td>\n",
       "      <td>80.000000</td>\n",
       "      <td>32.000000</td>\n",
       "      <td>127.250000</td>\n",
       "      <td>36.600000</td>\n",
       "      <td>0.626250</td>\n",
       "      <td>41.000000</td>\n",
       "      <td>1.000000</td>\n",
       "    </tr>\n",
       "    <tr>\n",
       "      <th>max</th>\n",
       "      <td>17.000000</td>\n",
       "      <td>199.000000</td>\n",
       "      <td>122.000000</td>\n",
       "      <td>99.000000</td>\n",
       "      <td>846.000000</td>\n",
       "      <td>67.100000</td>\n",
       "      <td>2.420000</td>\n",
       "      <td>81.000000</td>\n",
       "      <td>1.000000</td>\n",
       "    </tr>\n",
       "  </tbody>\n",
       "</table>\n",
       "</div>"
      ],
      "text/plain": [
       "       Pregnancies     Glucose  BloodPressure  SkinThickness     Insulin  \\\n",
       "count   768.000000  768.000000     768.000000     768.000000  768.000000   \n",
       "mean      3.845052  120.894531      69.105469      20.536458   79.799479   \n",
       "std       3.369578   31.972618      19.355807      15.952218  115.244002   \n",
       "min       0.000000    0.000000       0.000000       0.000000    0.000000   \n",
       "25%       1.000000   99.000000      62.000000       0.000000    0.000000   \n",
       "50%       3.000000  117.000000      72.000000      23.000000   30.500000   \n",
       "75%       6.000000  140.250000      80.000000      32.000000  127.250000   \n",
       "max      17.000000  199.000000     122.000000      99.000000  846.000000   \n",
       "\n",
       "              BMI  DiabetesPedigreeFunction         Age     Outcome  \n",
       "count  768.000000                768.000000  768.000000  768.000000  \n",
       "mean    31.992578                  0.471876   33.240885    0.348958  \n",
       "std      7.884160                  0.331329   11.760232    0.476951  \n",
       "min      0.000000                  0.078000   21.000000    0.000000  \n",
       "25%     27.300000                  0.243750   24.000000    0.000000  \n",
       "50%     32.000000                  0.372500   29.000000    0.000000  \n",
       "75%     36.600000                  0.626250   41.000000    1.000000  \n",
       "max     67.100000                  2.420000   81.000000    1.000000  "
      ]
     },
     "execution_count": 5,
     "metadata": {},
     "output_type": "execute_result"
    }
   ],
   "source": [
    "# some summary\n",
    "data.describe()"
   ]
  },
  {
   "cell_type": "markdown",
   "metadata": {},
   "source": [
    "### Preprocess data"
   ]
  },
  {
   "cell_type": "code",
   "execution_count": 6,
   "metadata": {
    "collapsed": true
   },
   "outputs": [],
   "source": [
    "# modify the data column names slightly for easier typing\n",
    "# rename DiabetesPedigreeFunction to dpf\n",
    "data.rename(columns={'DiabetesPedigreeFunction': 'dpf'}, inplace=True)\n",
    "# make lower\n",
    "data.rename(columns=lambda old_name: old_name.lower(), inplace=True)"
   ]
  },
  {
   "cell_type": "code",
   "execution_count": 7,
   "metadata": {
    "collapsed": true
   },
   "outputs": [],
   "source": [
    "# removing those observation rows with 0 in selected variables\n",
    "normed_predictors = [\n",
    "    'glucose',\n",
    "    'bloodpressure',\n",
    "    'skinthickness',\n",
    "    'insulin',\n",
    "    'bmi'\n",
    "]\n",
    "data = data[(data[normed_predictors] != 0).all(axis=1)]"
   ]
  },
  {
   "cell_type": "code",
   "execution_count": 8,
   "metadata": {
    "collapsed": false
   },
   "outputs": [],
   "source": [
    "# scale the covariates for easier comparison of coefficient posteriors\n",
    "# N.B. int columns turn into floats\n",
    "data.iloc[:,:-1] -= data.ix[:,:-1].mean()\n",
    "data.iloc[:,:-1] /= data.ix[:,:-1].std()"
   ]
  },
  {
   "cell_type": "code",
   "execution_count": 9,
   "metadata": {
    "collapsed": false
   },
   "outputs": [
    {
     "data": {
      "text/html": [
       "<div>\n",
       "<table border=\"1\" class=\"dataframe\">\n",
       "  <thead>\n",
       "    <tr style=\"text-align: right;\">\n",
       "      <th></th>\n",
       "      <th>pregnancies</th>\n",
       "      <th>glucose</th>\n",
       "      <th>bloodpressure</th>\n",
       "      <th>skinthickness</th>\n",
       "      <th>insulin</th>\n",
       "      <th>bmi</th>\n",
       "      <th>dpf</th>\n",
       "      <th>age</th>\n",
       "      <th>outcome</th>\n",
       "    </tr>\n",
       "  </thead>\n",
       "  <tbody>\n",
       "    <tr>\n",
       "      <th>3</th>\n",
       "      <td>-0.716511</td>\n",
       "      <td>-1.089653</td>\n",
       "      <td>-0.373178</td>\n",
       "      <td>-0.584363</td>\n",
       "      <td>-0.522175</td>\n",
       "      <td>-0.709514</td>\n",
       "      <td>-1.030559</td>\n",
       "      <td>-0.967063</td>\n",
       "      <td>0</td>\n",
       "    </tr>\n",
       "    <tr>\n",
       "      <th>4</th>\n",
       "      <td>-1.027899</td>\n",
       "      <td>0.465719</td>\n",
       "      <td>-2.453828</td>\n",
       "      <td>0.556709</td>\n",
       "      <td>0.100502</td>\n",
       "      <td>1.424909</td>\n",
       "      <td>5.108582</td>\n",
       "      <td>0.209318</td>\n",
       "      <td>1</td>\n",
       "    </tr>\n",
       "    <tr>\n",
       "      <th>6</th>\n",
       "      <td>-0.093734</td>\n",
       "      <td>-1.446093</td>\n",
       "      <td>-1.653578</td>\n",
       "      <td>0.271441</td>\n",
       "      <td>-0.572662</td>\n",
       "      <td>-0.296859</td>\n",
       "      <td>-0.796108</td>\n",
       "      <td>-0.476904</td>\n",
       "      <td>1</td>\n",
       "    </tr>\n",
       "    <tr>\n",
       "      <th>8</th>\n",
       "      <td>-0.405123</td>\n",
       "      <td>2.409934</td>\n",
       "      <td>-0.053078</td>\n",
       "      <td>1.507603</td>\n",
       "      <td>3.255961</td>\n",
       "      <td>-0.368007</td>\n",
       "      <td>-1.056609</td>\n",
       "      <td>2.169953</td>\n",
       "      <td>1</td>\n",
       "    </tr>\n",
       "    <tr>\n",
       "      <th>13</th>\n",
       "      <td>-0.716511</td>\n",
       "      <td>2.150705</td>\n",
       "      <td>-0.853328</td>\n",
       "      <td>-0.584363</td>\n",
       "      <td>5.805571</td>\n",
       "      <td>-0.424924</td>\n",
       "      <td>-0.361940</td>\n",
       "      <td>2.758143</td>\n",
       "      <td>1</td>\n",
       "    </tr>\n",
       "  </tbody>\n",
       "</table>\n",
       "</div>"
      ],
      "text/plain": [
       "    pregnancies   glucose  bloodpressure  skinthickness   insulin       bmi  \\\n",
       "3     -0.716511 -1.089653      -0.373178      -0.584363 -0.522175 -0.709514   \n",
       "4     -1.027899  0.465719      -2.453828       0.556709  0.100502  1.424909   \n",
       "6     -0.093734 -1.446093      -1.653578       0.271441 -0.572662 -0.296859   \n",
       "8     -0.405123  2.409934      -0.053078       1.507603  3.255961 -0.368007   \n",
       "13    -0.716511  2.150705      -0.853328      -0.584363  5.805571 -0.424924   \n",
       "\n",
       "         dpf       age  outcome  \n",
       "3  -1.030559 -0.967063        0  \n",
       "4   5.108582  0.209318        1  \n",
       "6  -0.796108 -0.476904        1  \n",
       "8  -1.056609  2.169953        1  \n",
       "13 -0.361940  2.758143        1  "
      ]
     },
     "execution_count": 9,
     "metadata": {},
     "output_type": "execute_result"
    }
   ],
   "source": [
    "# preview some first rows againg\n",
    "data.head()"
   ]
  },
  {
   "cell_type": "code",
   "execution_count": 10,
   "metadata": {
    "collapsed": true
   },
   "outputs": [],
   "source": [
    "# preparing the inputs\n",
    "X = data.iloc[:,:-1]\n",
    "y = data.iloc[:,-1]"
   ]
  },
  {
   "cell_type": "code",
   "execution_count": 11,
   "metadata": {
    "collapsed": false
   },
   "outputs": [
    {
     "name": "stdout",
     "output_type": "stream",
     "text": [
      "number of observations = 392\n",
      "number of predictors = 8\n"
     ]
    }
   ],
   "source": [
    "# get shape into variables\n",
    "n, p = X.shape\n",
    "print('number of observations = {}'.format(n))\n",
    "print('number of predictors = {}'.format(p))"
   ]
  },
  {
   "cell_type": "markdown",
   "metadata": {},
   "source": [
    "### Stan model code for logistic regression\n",
    "\n",
    "Logistic regression with Student's $t$ prior as discussed above."
   ]
  },
  {
   "cell_type": "code",
   "execution_count": 12,
   "metadata": {
    "collapsed": false
   },
   "outputs": [
    {
     "name": "stdout",
     "output_type": "stream",
     "text": [
      "/**\n",
      " * Logistic regression t-prior\n",
      " *\n",
      " * Priors:\n",
      " *     weights - student t\n",
      " *     intercept - student t\n",
      " */\n",
      "data {\n",
      "    int<lower=0> n;               // number of data points\n",
      "    int<lower=1> d;               // explanatory variable dimension\n",
      "    matrix[n, d] X;               // explanatory variable\n",
      "    int<lower=0,upper=1> y[n];    // response variable\n",
      "    int<lower=1> p_alpha_df;      // prior degrees of freedom for alpha\n",
      "    real p_alpha_loc;             // prior location for alpha\n",
      "    real<lower=0> p_alpha_scale;  // prior scale for alpha\n",
      "    int<lower=1> p_beta_df;       // prior degrees of freedom for beta\n",
      "    real p_beta_loc;              // prior location for beta\n",
      "    real<lower=0> p_beta_scale;   // prior scale for beta\n",
      "}\n",
      "parameters {\n",
      "    real alpha;      // intercept\n",
      "    vector[d] beta;  // explanatory variable weights\n",
      "}\n",
      "transformed parameters {\n",
      "    // linear predictor\n",
      "    vector[n] eta;\n",
      "    eta = alpha + X * beta;\n",
      "}\n",
      "model {\n",
      "    alpha ~ student_t(p_alpha_df, p_alpha_loc, p_alpha_scale);\n",
      "    beta ~ student_t(p_beta_df, p_beta_loc, p_beta_scale);\n",
      "    y ~ bernoulli_logit(eta);\n",
      "}\n",
      "generated quantities {\n",
      "    vector[n] log_lik;\n",
      "    for (i in 1:n)\n",
      "        log_lik[i] = bernoulli_logit_lpmf(y[i] | eta[i]);\n",
      "}\n",
      "\n"
     ]
    }
   ],
   "source": [
    "with open('logistic_t.stan') as file:\n",
    "    print(file.read())"
   ]
  },
  {
   "cell_type": "code",
   "execution_count": 13,
   "metadata": {
    "collapsed": false
   },
   "outputs": [
    {
     "name": "stderr",
     "output_type": "stream",
     "text": [
      "INFO:pystan:COMPILING THE C++ CODE FOR MODEL anon_model_e2861d1751f69db4bf5aa576c9d140e7 NOW.\n"
     ]
    }
   ],
   "source": [
    "model = stan_utility.compile_model('logistic_t.stan')"
   ]
  },
  {
   "cell_type": "markdown",
   "metadata": {},
   "source": [
    "### Set priors and sample from the posterior\n",
    "\n",
    "Here we'll use a Student t prior with 7 degrees of freedom and a scale of 2.5, which, as discussed above, is a reasonable default prior when coefficients should be close to zero but have some chance of being large. PyStan  returns the posterior distribution for the parameters describing the uncertainty related to unknown parameter values."
   ]
  },
  {
   "cell_type": "code",
   "execution_count": 14,
   "metadata": {
    "collapsed": true
   },
   "outputs": [],
   "source": [
    "data1 = dict(\n",
    "    n=n,\n",
    "    d=p,\n",
    "    X=X,\n",
    "    y=y,\n",
    "    p_alpha_df=7,\n",
    "    p_alpha_loc=0,\n",
    "    p_alpha_scale=2.5,\n",
    "    p_beta_df=7,\n",
    "    p_beta_loc=0,\n",
    "    p_beta_scale=2.5\n",
    ")\n",
    "fit1 = model.sampling(data=data1, seed=74749)\n",
    "samples1 = fit1.extract(permuted=True)"
   ]
  },
  {
   "cell_type": "markdown",
   "metadata": {},
   "source": [
    "### Inspect the resulting posterior\n",
    "\n",
    "Visualise the marginal posterior distributions of each parameter"
   ]
  },
  {
   "cell_type": "code",
   "execution_count": 15,
   "metadata": {
    "collapsed": false
   },
   "outputs": [
    {
     "data": {
      "text/html": [
       "<div>\n",
       "<table border=\"1\" class=\"dataframe\">\n",
       "  <thead>\n",
       "    <tr style=\"text-align: right;\">\n",
       "      <th></th>\n",
       "      <th>mean</th>\n",
       "      <th>se_mean</th>\n",
       "      <th>sd</th>\n",
       "      <th>2.5%</th>\n",
       "      <th>25%</th>\n",
       "      <th>50%</th>\n",
       "      <th>75%</th>\n",
       "      <th>97.5%</th>\n",
       "      <th>n_eff</th>\n",
       "      <th>Rhat</th>\n",
       "    </tr>\n",
       "  </thead>\n",
       "  <tbody>\n",
       "    <tr>\n",
       "      <th>alpha</th>\n",
       "      <td>-1.015174</td>\n",
       "      <td>0.002262</td>\n",
       "      <td>0.143076</td>\n",
       "      <td>-1.299494</td>\n",
       "      <td>-1.109587</td>\n",
       "      <td>-1.014207</td>\n",
       "      <td>-0.919651</td>\n",
       "      <td>-0.744491</td>\n",
       "      <td>4000.0</td>\n",
       "      <td>0.999538</td>\n",
       "    </tr>\n",
       "    <tr>\n",
       "      <th>beta[0]</th>\n",
       "      <td>0.268131</td>\n",
       "      <td>0.003343</td>\n",
       "      <td>0.179087</td>\n",
       "      <td>-0.092588</td>\n",
       "      <td>0.145121</td>\n",
       "      <td>0.268793</td>\n",
       "      <td>0.390940</td>\n",
       "      <td>0.617576</td>\n",
       "      <td>2869.0</td>\n",
       "      <td>1.000258</td>\n",
       "    </tr>\n",
       "    <tr>\n",
       "      <th>beta[1]</th>\n",
       "      <td>1.214370</td>\n",
       "      <td>0.003466</td>\n",
       "      <td>0.185477</td>\n",
       "      <td>0.858116</td>\n",
       "      <td>1.087410</td>\n",
       "      <td>1.212147</td>\n",
       "      <td>1.340282</td>\n",
       "      <td>1.577813</td>\n",
       "      <td>2863.0</td>\n",
       "      <td>1.000793</td>\n",
       "    </tr>\n",
       "    <tr>\n",
       "      <th>beta[2]</th>\n",
       "      <td>-0.018038</td>\n",
       "      <td>0.002448</td>\n",
       "      <td>0.154842</td>\n",
       "      <td>-0.317233</td>\n",
       "      <td>-0.127057</td>\n",
       "      <td>-0.015590</td>\n",
       "      <td>0.090371</td>\n",
       "      <td>0.279008</td>\n",
       "      <td>4000.0</td>\n",
       "      <td>0.999856</td>\n",
       "    </tr>\n",
       "    <tr>\n",
       "      <th>beta[3]</th>\n",
       "      <td>0.123833</td>\n",
       "      <td>0.003049</td>\n",
       "      <td>0.179358</td>\n",
       "      <td>-0.226432</td>\n",
       "      <td>0.000636</td>\n",
       "      <td>0.127423</td>\n",
       "      <td>0.245617</td>\n",
       "      <td>0.471099</td>\n",
       "      <td>3461.0</td>\n",
       "      <td>0.999971</td>\n",
       "    </tr>\n",
       "    <tr>\n",
       "      <th>beta[4]</th>\n",
       "      <td>-0.097538</td>\n",
       "      <td>0.002803</td>\n",
       "      <td>0.159845</td>\n",
       "      <td>-0.412036</td>\n",
       "      <td>-0.200400</td>\n",
       "      <td>-0.097875</td>\n",
       "      <td>0.007030</td>\n",
       "      <td>0.226323</td>\n",
       "      <td>3252.0</td>\n",
       "      <td>0.999609</td>\n",
       "    </tr>\n",
       "    <tr>\n",
       "      <th>beta[5]</th>\n",
       "      <td>0.507957</td>\n",
       "      <td>0.003516</td>\n",
       "      <td>0.197709</td>\n",
       "      <td>0.136263</td>\n",
       "      <td>0.368516</td>\n",
       "      <td>0.507830</td>\n",
       "      <td>0.640744</td>\n",
       "      <td>0.906786</td>\n",
       "      <td>3162.0</td>\n",
       "      <td>1.000351</td>\n",
       "    </tr>\n",
       "    <tr>\n",
       "      <th>beta[6]</th>\n",
       "      <td>0.407946</td>\n",
       "      <td>0.002358</td>\n",
       "      <td>0.149134</td>\n",
       "      <td>0.123293</td>\n",
       "      <td>0.304112</td>\n",
       "      <td>0.404529</td>\n",
       "      <td>0.506626</td>\n",
       "      <td>0.705823</td>\n",
       "      <td>4000.0</td>\n",
       "      <td>0.999301</td>\n",
       "    </tr>\n",
       "    <tr>\n",
       "      <th>beta[7]</th>\n",
       "      <td>0.356895</td>\n",
       "      <td>0.003518</td>\n",
       "      <td>0.192169</td>\n",
       "      <td>-0.001486</td>\n",
       "      <td>0.224827</td>\n",
       "      <td>0.352623</td>\n",
       "      <td>0.481480</td>\n",
       "      <td>0.749368</td>\n",
       "      <td>2984.0</td>\n",
       "      <td>1.001202</td>\n",
       "    </tr>\n",
       "  </tbody>\n",
       "</table>\n",
       "</div>"
      ],
      "text/plain": [
       "             mean   se_mean        sd      2.5%       25%       50%       75%  \\\n",
       "alpha   -1.015174  0.002262  0.143076 -1.299494 -1.109587 -1.014207 -0.919651   \n",
       "beta[0]  0.268131  0.003343  0.179087 -0.092588  0.145121  0.268793  0.390940   \n",
       "beta[1]  1.214370  0.003466  0.185477  0.858116  1.087410  1.212147  1.340282   \n",
       "beta[2] -0.018038  0.002448  0.154842 -0.317233 -0.127057 -0.015590  0.090371   \n",
       "beta[3]  0.123833  0.003049  0.179358 -0.226432  0.000636  0.127423  0.245617   \n",
       "beta[4] -0.097538  0.002803  0.159845 -0.412036 -0.200400 -0.097875  0.007030   \n",
       "beta[5]  0.507957  0.003516  0.197709  0.136263  0.368516  0.507830  0.640744   \n",
       "beta[6]  0.407946  0.002358  0.149134  0.123293  0.304112  0.404529  0.506626   \n",
       "beta[7]  0.356895  0.003518  0.192169 -0.001486  0.224827  0.352623  0.481480   \n",
       "\n",
       "            97.5%   n_eff      Rhat  \n",
       "alpha   -0.744491  4000.0  0.999538  \n",
       "beta[0]  0.617576  2869.0  1.000258  \n",
       "beta[1]  1.577813  2863.0  1.000793  \n",
       "beta[2]  0.279008  4000.0  0.999856  \n",
       "beta[3]  0.471099  3461.0  0.999971  \n",
       "beta[4]  0.226323  3252.0  0.999609  \n",
       "beta[5]  0.906786  3162.0  1.000351  \n",
       "beta[6]  0.705823  4000.0  0.999301  \n",
       "beta[7]  0.749368  2984.0  1.001202  "
      ]
     },
     "execution_count": 15,
     "metadata": {},
     "output_type": "execute_result"
    }
   ],
   "source": [
    "# print summary of selected variables\n",
    "# use pandas data frame for layout\n",
    "summary = fit1.summary(pars=['alpha', 'beta'])\n",
    "pd.DataFrame(\n",
    "    summary['summary'],\n",
    "    index=summary['summary_rownames'],\n",
    "    columns=summary['summary_colnames']\n",
    ")"
   ]
  },
  {
   "cell_type": "code",
   "execution_count": 32,
   "metadata": {
    "collapsed": false
   },
   "outputs": [
    {
     "data": {
      "image/png": "[encoded data removed]",
      "text/plain": [
       "<matplotlib.figure.Figure at 0x7f6d25f576d8>"
      ]
     },
     "metadata": {},
     "output_type": "display_data"
    }
   ],
   "source": [
    "# use same explicit bin edges for all the plots\n",
    "n_bins = 60  # number of bins in the whole range\n",
    "\n",
    "# get range of all samples\n",
    "xrange = [\n",
    "    min(np.min(samples1['alpha']), np.min(samples1['beta'])),\n",
    "    max(np.max(samples1['alpha']), np.max(samples1['beta'])),\n",
    "]\n",
    "\n",
    "# set up multiple plots\n",
    "fig, axes = plt.subplots(\n",
    "    nrows=p+1, ncols=1, sharex=True, sharey=True, figsize=(7, 10))\n",
    "# plot intercept\n",
    "ax = axes[0]\n",
    "ax.hist(\n",
    "    samples1['alpha'],\n",
    "    bins=np.linspace(*xrange, n_bins+1),\n",
    "    color=plot_tools.lighten('C0')\n",
    ")\n",
    "ax.set_ylabel('(intercept)', rotation='horizontal', ha='right')\n",
    "ax.spines['top'].set_visible(False)\n",
    "ax.spines['left'].set_visible(False)\n",
    "ax.spines['right'].set_visible(False)\n",
    "ax.set_yticks(())\n",
    "# plot slopes\n",
    "for i, ax  in enumerate(axes[1:]):\n",
    "    ax.hist(\n",
    "        samples1['beta'][:, i],\n",
    "        bins=np.linspace(*xrange, n_bins+1),\n",
    "        color=plot_tools.lighten('C0')\n",
    "    )\n",
    "    ax.set_ylabel(\n",
    "        X.columns[i],\n",
    "        rotation='horizontal',\n",
    "        ha='right'\n",
    "    )\n",
    "    ax.spines['top'].set_visible(False)\n",
    "    ax.spines['left'].set_visible(False)\n",
    "    ax.spines['right'].set_visible(False)\n",
    "    ax.set_yticks(())\n",
    "\n",
    "# draw x=0 line accross all the figures\n",
    "xzero = mpl.patches.ConnectionPatch(\n",
    "    xyA=(0, 0),\n",
    "    xyB=(0, axes[0].get_ylim()[1]),\n",
    "    coordsA=\"data\",\n",
    "    coordsB=\"data\",\n",
    "    axesA=axes[-1],\n",
    "    axesB=axes[0],\n",
    "    color='C1'\n",
    ")\n",
    "axes[-1].add_artist(xzero);"
   ]
  },
  {
   "cell_type": "markdown",
   "metadata": {},
   "source": [
    "Compute PSIS-LOO estimate"
   ]
  },
  {
   "cell_type": "code",
   "execution_count": 33,
   "metadata": {
    "collapsed": false
   },
   "outputs": [
    {
     "name": "stdout",
     "output_type": "stream",
     "text": [
      "elpd_loo: -182.3\n"
     ]
    }
   ],
   "source": [
    "loo1, loos1, ks1 = psis.psisloo(samples1['log_lik'])\n",
    "print('elpd_loo: {:.4}'.format(loo1))"
   ]
  },
  {
   "cell_type": "code",
   "execution_count": 19,
   "metadata": {
    "collapsed": false
   },
   "outputs": [
    {
     "data": {
      "text/plain": [
       "0"
      ]
     },
     "execution_count": 19,
     "metadata": {},
     "output_type": "execute_result"
    }
   ],
   "source": [
    "# check the number of large (> 0.5) Pareto k estimates\n",
    "np.sum(ks1 > 0.5)"
   ]
  },
  {
   "cell_type": "markdown",
   "metadata": {},
   "source": [
    "### Alternative horseshoe prior on weights\n",
    "\n",
    "In this example, with $n >> p$ the difference is small, and thus we don’t expect much difference with a different prior and horseshoe prior is usually more useful for $n<p$.\n",
    "\n",
    "The global scale parameter for horseshoe prior is chosen as recommended by Juho Piironen and Aki Vehtari (2017). On the Hyperprior Choice for the Global Shrinkage Parameter in the Horseshoe Prior. Journal of Machine Learning Research: Workshop and Conference Proceedings (AISTATS 2017 Proceedings), accepted for publication. [arXiv preprint arXiv:1610.05559](http://arxiv.org/abs/1610.05559)."
   ]
  },
  {
   "cell_type": "code",
   "execution_count": 20,
   "metadata": {
    "collapsed": false,
    "scrolled": false
   },
   "outputs": [
    {
     "name": "stdout",
     "output_type": "stream",
     "text": [
      "/**\n",
      " * Logistic regression HS-prior\n",
      " *\n",
      " * Priors:\n",
      " *     weights - hierarchical shrinkage\n",
      " *     intercept - student t\n",
      " */\n",
      "\n",
      "data {\n",
      "    int<lower=0> n;                     // number of data points\n",
      "    int<lower=1> d;                     // explanatory variable dimension\n",
      "    matrix[n, d] X;                     // explanatory variable\n",
      "    int<lower=0,upper=1> y[n];          // response variable\n",
      "    int<lower=1> p_alpha_df;            // prior alpha degrees of freedom\n",
      "    real p_alpha_loc;                   // prior alpha location\n",
      "    real<lower=0> p_alpha_scale;        // prior scale alpha\n",
      "    int<lower=1> p_beta_df;             // prior beta degrees of freedom\n",
      "    int<lower=1> p_beta_global_df;      // prior beta global degrees of freedom\n",
      "    real<lower=0> p_beta_global_scale;  // prior beta global scale\n",
      "}\n",
      "\n",
      "parameters {\n",
      "\n",
      "    // intercept\n",
      "    real alpha;\n",
      "\n",
      "    // auxiliary variables for the variance parameters\n",
      "    vector[d] z;\n",
      "    vector<lower=0>[d] lambda_r1;\n",
      "    vector<lower=0>[d] lambda_r2;\n",
      "    real<lower=0> tau_r1;\n",
      "    real<lower=0> tau_r2;\n",
      "}\n",
      "\n",
      "transformed parameters {\n",
      "\n",
      "    vector<lower=0>[d] lambda;  // local variance parameter\n",
      "    real<lower=0> tau;          // global variance parameter\n",
      "    vector[d] beta;             // explanatory variable weights\n",
      "    vector[n] eta;              // linear predictor\n",
      "\n",
      "    lambda = lambda_r1 * sqrt(lambda_r2);\n",
      "    tau = tau_r1 * sqrt(tau_r2);\n",
      "    beta = z .* (lambda*tau);\n",
      "    eta = alpha + X * beta;\n",
      "}\n",
      "\n",
      "model {\n",
      "\n",
      "    // student t prior for intercept\n",
      "    alpha ~ student_t(p_alpha_df, p_alpha_loc, p_alpha_scale);\n",
      "\n",
      "    z ~ normal(0.0, 1.0);\n",
      "\n",
      "    // half t priors for lambdas\n",
      "    lambda_r1 ~ normal(0.0, 1.0);\n",
      "    lambda_r2 ~ inv_gamma(0.5*p_beta_df, 0.5*p_beta_df);\n",
      "\n",
      "    // half t priors for tau\n",
      "    tau_r1 ~ normal(0.0, p_beta_global_scale);\n",
      "    tau_r2 ~ inv_gamma(0.5*p_beta_global_df, 0.5*p_beta_global_df);\n",
      "\n",
      "    // observation model\n",
      "    y ~ bernoulli_logit(eta);\n",
      "}\n",
      "\n",
      "generated quantities {\n",
      "    vector[n] log_lik;\n",
      "    for (i in 1:n)\n",
      "        log_lik[i] = bernoulli_logit_lpmf(y[i] | eta[i]);\n",
      "}\n",
      "\n"
     ]
    }
   ],
   "source": [
    "with open('logistic_hs.stan') as file:\n",
    "    print(file.read())"
   ]
  },
  {
   "cell_type": "code",
   "execution_count": 22,
   "metadata": {
    "collapsed": false
   },
   "outputs": [
    {
     "name": "stderr",
     "output_type": "stream",
     "text": [
      "INFO:pystan:COMPILING THE C++ CODE FOR MODEL anon_model_ae0f20e1469db1503828c32de9248556 NOW.\n"
     ]
    }
   ],
   "source": [
    "model = stan_utility.compile_model('logistic_hs.stan')"
   ]
  },
  {
   "cell_type": "code",
   "execution_count": 23,
   "metadata": {
    "collapsed": true
   },
   "outputs": [],
   "source": [
    "p0 = 2 # prior guess for the number of relevant variables\n",
    "tau0 = p0 / (p - p0) * 1 / np.sqrt(n)\n",
    "data2 = dict(\n",
    "    n=n,\n",
    "    d=p,\n",
    "    X=X,\n",
    "    y=y,\n",
    "    p_alpha_df=7,\n",
    "    p_alpha_loc=0,\n",
    "    p_alpha_scale=2.5,\n",
    "    p_beta_df=1,\n",
    "    p_beta_global_df=1,\n",
    "    p_beta_global_scale=tau0\n",
    ")\n",
    "fit2 = model.sampling(data=data2, seed=74749)\n",
    "samples2 = fit2.extract(permuted=True)"
   ]
  },
  {
   "cell_type": "markdown",
   "metadata": {},
   "source": [
    "We see that the horseshoe prior has shrunk the posterior distribution of irrelevant features closer to zero, without affecting the posterior distribution of the relevant features."
   ]
  },
  {
   "cell_type": "code",
   "execution_count": 29,
   "metadata": {
    "collapsed": false
   },
   "outputs": [
    {
     "data": {
      "image/png": "[encoded data removed]",
      "text/plain": [
       "<matplotlib.figure.Figure at 0x7f6d36cc7e48>"
      ]
     },
     "metadata": {},
     "output_type": "display_data"
    }
   ],
   "source": [
    "# use same explicit bin edges for all the plots\n",
    "n_bins = 60  # number of bins in the whole range\n",
    "\n",
    "# get range of all samples\n",
    "xrange = [\n",
    "    min(np.min(samples2['alpha']), np.min(samples2['beta'])),\n",
    "    max(np.max(samples2['alpha']), np.max(samples2['beta'])),\n",
    "]\n",
    "\n",
    "# set up multiple plots\n",
    "fig, axes = plt.subplots(\n",
    "    nrows=p+1, ncols=1, sharex=True, sharey=True, figsize=(7, 10))\n",
    "# plot intercept\n",
    "ax = axes[0]\n",
    "ax.hist(\n",
    "    samples2['alpha'],\n",
    "    bins=np.linspace(*xrange, n_bins+1),\n",
    "    color=plot_tools.lighten('C0')\n",
    ")\n",
    "ax.set_ylabel('(intercept)', rotation='horizontal', ha='right')\n",
    "ax.spines['top'].set_visible(False)\n",
    "ax.spines['left'].set_visible(False)\n",
    "ax.spines['right'].set_visible(False)\n",
    "ax.set_yticks(())\n",
    "# plot slopes\n",
    "for i, ax  in enumerate(axes[1:]):\n",
    "    ax.hist(\n",
    "        samples2['beta'][:, i],\n",
    "        bins=np.linspace(*xrange, n_bins+1),\n",
    "        color=plot_tools.lighten('C0')\n",
    "    )\n",
    "    ax.set_ylabel(\n",
    "        X.columns[i],\n",
    "        rotation='horizontal',\n",
    "        ha='right'\n",
    "    )\n",
    "    ax.spines['top'].set_visible(False)\n",
    "    ax.spines['left'].set_visible(False)\n",
    "    ax.spines['right'].set_visible(False)\n",
    "    ax.set_yticks(())\n",
    "\n",
    "# draw x=0 line accross all the figures\n",
    "xzero = mpl.patches.ConnectionPatch(\n",
    "    xyA=(0, 0),\n",
    "    xyB=(0, axes[0].get_ylim()[1]),\n",
    "    coordsA=\"data\",\n",
    "    coordsB=\"data\",\n",
    "    axesA=axes[-1],\n",
    "    axesB=axes[0],\n",
    "    color='C1'\n",
    ")\n",
    "axes[-1].add_artist(xzero);"
   ]
  },
  {
   "cell_type": "markdown",
   "metadata": {},
   "source": [
    "Compute PSIS-LOO estimate"
   ]
  },
  {
   "cell_type": "code",
   "execution_count": 34,
   "metadata": {
    "collapsed": false
   },
   "outputs": [
    {
     "name": "stdout",
     "output_type": "stream",
     "text": [
      "elpd_loo: -181.8\n"
     ]
    }
   ],
   "source": [
    "loo2, loos2, ks2 = psis.psisloo(samples2['log_lik'])\n",
    "print('elpd_loo: {:.4}'.format(loo2))"
   ]
  },
  {
   "cell_type": "code",
   "execution_count": 35,
   "metadata": {
    "collapsed": false
   },
   "outputs": [
    {
     "data": {
      "text/plain": [
       "0"
      ]
     },
     "execution_count": 35,
     "metadata": {},
     "output_type": "execute_result"
    }
   ],
   "source": [
    "# check the number of large (> 0.5) Pareto k estimates\n",
    "np.sum(ks2 > 0.5)"
   ]
  }
 ],
 "metadata": {
  "kernelspec": {
   "display_name": "Python 3",
   "language": "python",
   "name": "python3"
  },
  "language_info": {
   "codemirror_mode": {
    "name": "ipython",
    "version": 3
   },
   "file_extension": ".py",
   "mimetype": "text/x-python",
   "name": "python",
   "nbconvert_exporter": "python",
   "pygments_lexer": "ipython3",
   "version": "3.5.2"
  }
 },
 "nbformat": 4,
 "nbformat_minor": 2
}
