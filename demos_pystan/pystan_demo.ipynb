{
 "cells": [
  {
   "cell_type": "markdown",
   "metadata": {},
   "source": [
    "# Bayesian data analysis - PyStan demos\n",
    "Author: Aki Vehtari, Markus Paasiniemi\n",
    "\n",
    "License: CC-BY\n",
    "\n",
    "Examples how to use [Stan](http://mc-stan.org) in Python with [PyStan](http://pystan.readthedocs.org). This notebook assumes basic knowledge of Bayesian inference and MCMC. The Stan models are stored in separate .stan-files."
   ]
  },
  {
   "cell_type": "markdown",
   "metadata": {},
   "source": [
    "## Setting up the PyStan environment\n",
    "\n",
    "We begin by importing the PyStan module as well at the matplotlib module for basic graphics facilities."
   ]
  },
  {
   "cell_type": "code",
   "execution_count": 1,
   "metadata": {
    "collapsed": true
   },
   "outputs": [],
   "source": [
    "import numpy as np\n",
    "import pystan\n",
    "%matplotlib inline\n",
    "import matplotlib.pyplot as plt"
   ]
  },
  {
   "cell_type": "markdown",
   "metadata": {},
   "source": [
    "We also import some utilities by Michael Betancourt and introduced in [PyStan workflow case study](http://mc-stan.org/users/documentation/case-studies/pystan_workflow.html)"
   ]
  },
  {
   "cell_type": "code",
   "execution_count": 2,
   "metadata": {
    "collapsed": true
   },
   "outputs": [],
   "source": [
    "import stan_utility"
   ]
  },
  {
   "cell_type": "code",
   "execution_count": 3,
   "metadata": {},
   "outputs": [
    {
     "name": "stderr",
     "output_type": "stream",
     "text": [
      "/u/77/ave/unix/anaconda3/lib/python3.6/site-packages/matplotlib/__init__.py:913: UserWarning: axes.color_cycle is deprecated and replaced with axes.prop_cycle; please use the latter.\n",
      "  warnings.warn(self.msg_depr % (key, alt_key))\n"
     ]
    }
   ],
   "source": [
    "# edit default plot settings (colours from colorbrewer2.org)\n",
    "plt.rc('figure', figsize=(8,6))\n",
    "plt.rc('font', size=14)\n",
    "plt.rc('lines', color='#377eb8', linewidth=2)\n",
    "plt.rc('axes', color_cycle=('#377eb8','#e41a1c','#4daf4a',\n",
    "                            '#984ea3','#ff7f00','#ffff33'))"
   ]
  },
  {
   "cell_type": "markdown",
   "metadata": {},
   "source": [
    "## Bernoulli model\n",
    "\n",
    "Toy data with sequence of failures (0) and successes (1). We would like to learn about the unknown probability of success."
   ]
  },
  {
   "cell_type": "code",
   "execution_count": 4,
   "metadata": {
    "collapsed": true
   },
   "outputs": [],
   "source": [
    "data = dict(N=10, y=[0,1,0,0,1,1,1,0,1,0])"
   ]
  },
  {
   "cell_type": "markdown",
   "metadata": {},
   "source": [
    "Bernoulli model with a Beta(1,1) (uniform) prior"
   ]
  },
  {
   "cell_type": "code",
   "execution_count": 5,
   "metadata": {},
   "outputs": [
    {
     "name": "stdout",
     "output_type": "stream",
     "text": [
      "// Bernoulli model\n",
      "data {\n",
      "  int<lower=0> N;\n",
      "  int<lower=0,upper=1> y[N];\n",
      "}\n",
      "parameters {\n",
      "  real<lower=0,upper=1> theta;\n",
      "}\n",
      "model {\n",
      "  theta ~ beta(1,1);\n",
      "  y ~ bernoulli(theta);\n",
      "}\n",
      "\n"
     ]
    }
   ],
   "source": [
    "with open('bern.stan', 'r') as file:\n",
    "    print(file.read())"
   ]
  },
  {
   "cell_type": "markdown",
   "metadata": {},
   "source": [
    "Given the Stan program we then use the compile_model method of stan_utility module to compile the Stan program into a C++ executable."
   ]
  },
  {
   "cell_type": "code",
   "execution_count": 6,
   "metadata": {},
   "outputs": [
    {
     "name": "stderr",
     "output_type": "stream",
     "text": [
      "INFO:pystan:COMPILING THE C++ CODE FOR MODEL anon_model_4586f2dc76604848221fafe6413762a9 NOW.\n"
     ]
    }
   ],
   "source": [
    "model = stan_utility.compile_model('bern.stan')"
   ]
  },
  {
   "cell_type": "markdown",
   "metadata": {},
   "source": [
    "Sample form the posterior, show the summary and plot the histogram of the posterior draws."
   ]
  },
  {
   "cell_type": "code",
   "execution_count": 7,
   "metadata": {},
   "outputs": [
    {
     "name": "stdout",
     "output_type": "stream",
     "text": [
      "Inference for Stan model: anon_model_4586f2dc76604848221fafe6413762a9.\n",
      "4 chains, each with iter=2000; warmup=1000; thin=1; \n",
      "post-warmup draws per chain=1000, total post-warmup draws=4000.\n",
      "\n",
      "        mean se_mean     sd   2.5%    25%    50%    75%  97.5%  n_eff   Rhat\n",
      "theta   0.49  3.8e-3   0.14   0.22   0.39   0.49    0.6   0.77   1412    1.0\n",
      "lp__   -8.87    0.02   0.78 -11.06  -9.06  -8.57  -8.37  -8.32   1664    1.0\n",
      "\n",
      "Samples were drawn using NUTS at Sun Aug 13 16:40:14 2017.\n",
      "For each parameter, n_eff is a crude measure of effective sample size,\n",
      "and Rhat is the potential scale reduction factor on split chains (at \n",
      "convergence, Rhat=1).\n"
     ]
    },
    {
     "data": {
      "image/png": "[encoded data removed]",
      "text/plain": [
       "<matplotlib.figure.Figure at 0x7f01064697f0>"
      ]
     },
     "metadata": {},
     "output_type": "display_data"
    }
   ],
   "source": [
    "fit = model.sampling(data=data)\n",
    "print(fit)\n",
    "samples = fit.extract(permuted=True)\n",
    "plt.hist(samples['theta'], 50);"
   ]
  },
  {
   "cell_type": "markdown",
   "metadata": {},
   "source": [
    "## Binomial model\n",
    "\n",
    "Instead of sequence of 0's and 1's, we can summarize the data with the number of experiments and the number successes:"
   ]
  },
  {
   "cell_type": "code",
   "execution_count": 10,
   "metadata": {
    "collapsed": true
   },
   "outputs": [],
   "source": [
    "data = dict(N=10, y=8)"
   ]
  },
  {
   "cell_type": "markdown",
   "metadata": {},
   "source": [
    "And then we use Binomial model with Beta(1,1) prior for the probability of success."
   ]
  },
  {
   "cell_type": "code",
   "execution_count": 11,
   "metadata": {},
   "outputs": [
    {
     "name": "stdout",
     "output_type": "stream",
     "text": [
      "// Binomial model with beta(1,1,) prior\n",
      "data {\n",
      "  int<lower=0> N;\n",
      "  int<lower=0> y;\n",
      "}\n",
      "parameters {\n",
      "  real<lower=0,upper=1> theta;\n",
      "}\n",
      "model {\n",
      "  theta ~ beta(1,1);\n",
      "  y ~ binomial(N,theta);\n",
      "}\n",
      "\n"
     ]
    }
   ],
   "source": [
    "with open('binom.stan', 'r') as file:\n",
    "    print(file.read())"
   ]
  },
  {
   "cell_type": "markdown",
   "metadata": {},
   "source": [
    "Sample from the posterior and plot the posterior. The histogram should look similar as in the Bernoulli case."
   ]
  },
  {
   "cell_type": "code",
   "execution_count": 12,
   "metadata": {},
   "outputs": [
    {
     "name": "stderr",
     "output_type": "stream",
     "text": [
      "INFO:pystan:COMPILING THE C++ CODE FOR MODEL anon_model_a05259dcade68de9675d2ad9b1145f54 NOW.\n"
     ]
    },
    {
     "data": {
      "image/png": "[encoded data removed]",
      "text/plain": [
       "<matplotlib.figure.Figure at 0x7f0106eb12b0>"
      ]
     },
     "metadata": {},
     "output_type": "display_data"
    }
   ],
   "source": [
    "model = stan_utility.compile_model('binom.stan')\n",
    "fit = model.sampling(data=data)\n",
    "samples = fit.extract(permuted=True)\n",
    "plt.hist(samples['theta'], 50);"
   ]
  },
  {
   "cell_type": "markdown",
   "metadata": {},
   "source": [
    "Re-run the model with a new data. The compiled Stan program is re-used making the re-use faster."
   ]
  },
  {
   "cell_type": "code",
   "execution_count": 14,
   "metadata": {},
   "outputs": [
    {
     "data": {
      "image/png": "[encoded data removed]",
      "text/plain": [
       "<matplotlib.figure.Figure at 0x7f0106b8fe80>"
      ]
     },
     "metadata": {},
     "output_type": "display_data"
    }
   ],
   "source": [
    "data = dict(N=10, y=10)\n",
    "fit = model.sampling(data=data)\n",
    "samples = fit.extract(permuted=True)\n",
    "plt.hist(samples['theta'], 50);"
   ]
  },
  {
   "cell_type": "markdown",
   "metadata": {},
   "source": [
    "## Comparison of two groups with Binomial\n",
    "\n",
    "An experiment was performed to estimate the effect of beta-blockers on mortality of cardiac patients. A group of patients were randomly assigned to treatment and control groups:\n",
    "\n",
    "- out of 674 patients receiving the control, 39 died\n",
    "- out of 680 receiving the treatment, 22 died"
   ]
  },
  {
   "cell_type": "code",
   "execution_count": 15,
   "metadata": {
    "collapsed": true
   },
   "outputs": [],
   "source": [
    "data = dict(N1=674, y1=39, N2=680, y2=22)"
   ]
  },
  {
   "cell_type": "markdown",
   "metadata": {},
   "source": [
    "To analyse whether the treatment is useful, we can use Binomial model for both groups and compute odds-ratio:"
   ]
  },
  {
   "cell_type": "code",
   "execution_count": 16,
   "metadata": {},
   "outputs": [
    {
     "name": "stdout",
     "output_type": "stream",
     "text": [
      "//  Comparison of two groups with Binomial\n",
      "data {\n",
      "  int<lower=0> N1;\n",
      "  int<lower=0> y1;\n",
      "  int<lower=0> N2;\n",
      "  int<lower=0> y2;\n",
      "}\n",
      "parameters {\n",
      "  real<lower=0,upper=1> theta1;\n",
      "  real<lower=0,upper=1> theta2;\n",
      "}\n",
      "model {\n",
      "  theta1 ~ beta(1,1);\n",
      "  theta2 ~ beta(1,1);\n",
      "  y1 ~ binomial(N1,theta1);\n",
      "  y2 ~ binomial(N2,theta2);\n",
      "}\n",
      "generated quantities {\n",
      "  real oddsratio;\n",
      "  oddsratio = (theta2/(1-theta2))/(theta1/(1-theta1));\n",
      "}\n",
      "\n"
     ]
    }
   ],
   "source": [
    "with open('binom2.stan', 'r') as file:\n",
    "    print(file.read())"
   ]
  },
  {
   "cell_type": "markdown",
   "metadata": {},
   "source": [
    "Sample from the posterior and plot the posterior"
   ]
  },
  {
   "cell_type": "code",
   "execution_count": 17,
   "metadata": {},
   "outputs": [
    {
     "name": "stderr",
     "output_type": "stream",
     "text": [
      "INFO:pystan:COMPILING THE C++ CODE FOR MODEL anon_model_f7225537f3d9d3af861d4f45c7f8da01 NOW.\n"
     ]
    },
    {
     "data": {
      "image/png": "[encoded data removed]",
      "text/plain": [
       "<matplotlib.figure.Figure at 0x7f0106eb62e8>"
      ]
     },
     "metadata": {},
     "output_type": "display_data"
    }
   ],
   "source": [
    "model = stan_utility.compile_model('binom2.stan')\n",
    "fit = model.sampling(data=data)\n",
    "samples = fit.extract(permuted=True)\n",
    "plt.hist(samples['oddsratio'], 50);"
   ]
  },
  {
   "cell_type": "markdown",
   "metadata": {},
   "source": [
    "## Linear Gaussian model\n",
    "\n",
    "The following file has Kilpisjärvi summer month temperatures 1952-2013:"
   ]
  },
  {
   "cell_type": "code",
   "execution_count": 18,
   "metadata": {
    "collapsed": true
   },
   "outputs": [],
   "source": [
    "data_path = '../utilities_and_data/kilpisjarvi-summer-temp.csv'\n",
    "d = np.loadtxt(data_path, dtype=np.double, delimiter=';', skiprows=1)\n",
    "x = d[:,0]\n",
    "y = d[:,4]\n",
    "N = len(x)\n",
    "xpred = 2016"
   ]
  },
  {
   "cell_type": "markdown",
   "metadata": {},
   "source": [
    "Plot the data"
   ]
  },
  {
   "cell_type": "code",
   "execution_count": 31,
   "metadata": {},
   "outputs": [
    {
     "data": {
      "image/png": "[encoded data removed]",
      "text/plain": [
       "<matplotlib.figure.Figure at 0x7f01024d6940>"
      ]
     },
     "metadata": {},
     "output_type": "display_data"
    }
   ],
   "source": [
    "plt.figure(figsize=(10,5))\n",
    "plt.scatter(x, y, 5, color='#377eb8')\n",
    "plt.xlabel('Year')\n",
    "plt.ylabel('Summer temperature at Kilpisjarvi')\n",
    "plt.xlim(1952,2013);"
   ]
  },
  {
   "cell_type": "markdown",
   "metadata": {},
   "source": [
    "To analyse whether the average summer month temperature is rising, we use a linear model with Gaussian model for the unexplained variation. \n",
    "\n",
    "### Gaussian linear model with adjustable priors\n",
    "\n",
    "The folloing Stan code allows also setting hyperparameter values as data allowing easier way to use different priors in different analyses:"
   ]
  },
  {
   "cell_type": "code",
   "execution_count": 22,
   "metadata": {},
   "outputs": [
    {
     "name": "stdout",
     "output_type": "stream",
     "text": [
      "// Gaussian linear model with adjustable priors\n",
      "data {\n",
      "  int<lower=0> N; // number of data points\n",
      "  vector[N] x; //\n",
      "  vector[N] y; //\n",
      "  real xpred; // input location for prediction\n",
      "  real pmualpha; // prior mean for alpha\n",
      "  real psalpha;  // prior std for alpha\n",
      "  real pmubeta;  // prior mean for beta\n",
      "  real psbeta;   // prior std for beta\n",
      "}\n",
      "parameters {\n",
      "  real alpha;\n",
      "  real beta;\n",
      "  real<lower=0> sigma;\n",
      "}\n",
      "transformed parameters {\n",
      "  vector[N] mu;\n",
      "  mu = alpha + beta*x;\n",
      "}\n",
      "model {\n",
      "  alpha ~ normal(pmualpha, psalpha);\n",
      "  beta ~ normal(pmubeta, psbeta);\n",
      "  y ~ normal(mu, sigma);\n",
      "}\n",
      "generated quantities {\n",
      "  real ypred;\n",
      "  vector[N] log_lik;\n",
      "  ypred = normal_rng(alpha + beta*xpred, sigma);\n",
      "  for (i in 1:N)\n",
      "    log_lik[i] = normal_lpdf(y[i] | mu[i], sigma);\n",
      "}\n",
      "\n"
     ]
    }
   ],
   "source": [
    "with open('lin.stan', 'r') as file:\n",
    "    print(file.read())"
   ]
  },
  {
   "cell_type": "markdown",
   "metadata": {},
   "source": [
    "Create a list with data and priors:"
   ]
  },
  {
   "cell_type": "code",
   "execution_count": 25,
   "metadata": {
    "collapsed": true
   },
   "outputs": [],
   "source": [
    "data = dict(\n",
    "    N = N,\n",
    "    x = x,\n",
    "    y = y,\n",
    "    xpred = xpred,\n",
    "    pmualpha = y.mean(),    # Centered\n",
    "    psalpha  = 100,        # weakly informative prior\n",
    "    pmubeta  = 0,           # a priori increase and decrese as likely\n",
    "    psbeta   = (.1--.1)/6.0 # avg temp probably does not increase more than 1\n",
    "                            # degree per 10 years\n",
    ")"
   ]
  },
  {
   "cell_type": "markdown",
   "metadata": {},
   "source": [
    "Run Stan"
   ]
  },
  {
   "cell_type": "code",
   "execution_count": 26,
   "metadata": {},
   "outputs": [
    {
     "name": "stdout",
     "output_type": "stream",
     "text": [
      "Using cached StanModel\n"
     ]
    }
   ],
   "source": [
    "model = stan_utility.compile_model('lin.stan')\n",
    "fit = model.sampling(data=data)\n",
    "samples = fit.extract(permuted=True)"
   ]
  },
  {
   "cell_type": "markdown",
   "metadata": {},
   "source": [
    "Check the n_eff and Rhat"
   ]
  },
  {
   "cell_type": "code",
   "execution_count": 28,
   "metadata": {},
   "outputs": [
    {
     "name": "stdout",
     "output_type": "stream",
     "text": [
      "Inference for Stan model: anon_model_6d95d5cbf9b9fb7d99a793b066a7bb72.\n",
      "4 chains, each with iter=2000; warmup=1000; thin=1; \n",
      "post-warmup draws per chain=1000, total post-warmup draws=4000.\n",
      "\n",
      "              mean se_mean     sd   2.5%    25%    50%    75%  97.5%  n_eff   Rhat\n",
      "alpha       -28.32    0.54  15.94 -57.54 -39.64 -28.74 -18.54   4.67    862    1.0\n",
      "beta          0.02  2.7e-4 8.0e-3 2.3e-3   0.01   0.02   0.02   0.03    862    1.0\n",
      "sigma         1.13  2.8e-3   0.11   0.95   1.05   1.12   1.19   1.37   1399    1.0\n",
      "mu[0]         8.74  8.8e-3   0.29   8.17   8.54   8.73   8.92   9.33   1067    1.0\n",
      "mu[1]         8.75  8.5e-3   0.28   8.21   8.57   8.75   8.93   9.33   1081    1.0\n",
      "mu[2]         8.77  8.2e-3   0.27   8.24   8.59   8.77   8.95   9.33   1102    1.0\n",
      "mu[3]         8.79  8.0e-3   0.27   8.27   8.62   8.79   8.96   9.34   1118    1.0\n",
      "mu[4]         8.81  7.7e-3   0.26    8.3   8.64   8.81   8.98   9.34   1135    1.0\n",
      "mu[5]         8.83  7.5e-3   0.25   8.33   8.66   8.83   8.99   9.34   1154    1.0\n",
      "mu[6]         8.85  7.2e-3   0.25   8.36   8.69   8.85   9.01   9.35   1175    1.0\n",
      "mu[7]         8.87  7.0e-3   0.24   8.39   8.71   8.87   9.03   9.35   1199    1.0\n",
      "mu[8]         8.89  6.7e-3   0.23   8.43   8.74   8.89   9.04   9.36   1225    1.0\n",
      "mu[9]         8.91  6.4e-3   0.23   8.46   8.76   8.91   9.06   9.37   1263    1.0\n",
      "mu[10]        8.93  6.2e-3   0.22   8.49   8.78   8.93   9.07   9.37   1295    1.0\n",
      "mu[11]        8.94  5.9e-3   0.22   8.52    8.8   8.95   9.09   9.38   1331    1.0\n",
      "mu[12]        8.96  5.7e-3   0.21   8.55   8.83   8.97    9.1   9.38   1372    1.0\n",
      "mu[13]        8.98  5.4e-3    0.2   8.58   8.85   8.99   9.12   9.38   1418    1.0\n",
      "mu[14]         9.0  5.2e-3    0.2    8.6   8.87    9.0   9.13   9.39   1470    1.0\n",
      "mu[15]        9.02  4.9e-3   0.19   8.63    8.9   9.02   9.15    9.4   1557    1.0\n",
      "mu[16]        9.04  4.7e-3   0.19   8.66   8.92   9.04   9.17    9.4   1623    1.0\n",
      "mu[17]        9.06  4.5e-3   0.18   8.69   8.94   9.06   9.18   9.41   1700    1.0\n",
      "mu[18]        9.08  4.2e-3   0.18   8.72   8.96   9.08    9.2   9.42   1787    1.0\n",
      "mu[19]         9.1  4.0e-3   0.17   8.75   8.98    9.1   9.21   9.43   1887    1.0\n",
      "mu[20]        9.12  3.8e-3   0.17   8.77    9.0   9.12   9.23   9.44   2003    1.0\n",
      "mu[21]        9.13  3.6e-3   0.17    8.8   9.03   9.14   9.25   9.45   2135    1.0\n",
      "mu[22]        9.15  3.4e-3   0.16   8.83   9.05   9.16   9.26   9.47   2287    1.0\n",
      "mu[23]        9.17  3.2e-3   0.16   8.85   9.07   9.17   9.28   9.48   2460    1.0\n",
      "mu[24]        9.19  3.0e-3   0.16   8.88   9.09   9.19    9.3    9.5   2654    1.0\n",
      "mu[25]        9.21  2.9e-3   0.15    8.9   9.11   9.21   9.31   9.51   2870    1.0\n",
      "mu[26]        9.23  2.6e-3   0.15   8.93   9.13   9.23   9.33   9.52   3318    1.0\n",
      "mu[27]        9.25  2.5e-3   0.15   8.95   9.15   9.25   9.35   9.53   3514    1.0\n",
      "mu[28]        9.27  2.3e-3   0.15   8.97   9.17   9.27   9.36   9.55   4000    1.0\n",
      "mu[29]        9.29  2.3e-3   0.15    9.0   9.19   9.29   9.38   9.57   4000    1.0\n",
      "mu[30]         9.3  2.3e-3   0.15   9.01   9.21   9.31    9.4   9.59   4000    1.0\n",
      "mu[31]        9.32  2.3e-3   0.15   9.03   9.23   9.33   9.42   9.61   4000    1.0\n",
      "mu[32]        9.34  2.3e-3   0.15   9.05   9.25   9.34   9.44   9.63   4000    1.0\n",
      "mu[33]        9.36  2.3e-3   0.15   9.07   9.26   9.36   9.46   9.65   4000    1.0\n",
      "mu[34]        9.38  2.4e-3   0.15   9.09   9.28   9.38   9.48   9.67   4000    1.0\n",
      "mu[35]         9.4  2.4e-3   0.15   9.11    9.3    9.4    9.5    9.7   4000    1.0\n",
      "mu[36]        9.42  2.6e-3   0.15   9.12   9.31   9.42   9.52   9.72   3570    1.0\n",
      "mu[37]        9.44  2.7e-3   0.16   9.14   9.33   9.44   9.54   9.74   3385    1.0\n",
      "mu[38]        9.46  2.8e-3   0.16   9.16   9.35   9.46   9.56   9.77   3199    1.0\n",
      "mu[39]        9.48  2.9e-3   0.16   9.17   9.36   9.48   9.58   9.79   3018    1.0\n",
      "mu[40]        9.49  3.1e-3   0.16   9.18   9.38   9.49    9.6   9.82   2848    1.0\n",
      "mu[41]        9.51  3.4e-3   0.17   9.19    9.4   9.51   9.63   9.84   2391    1.0\n",
      "mu[42]        9.53  3.7e-3   0.17    9.2   9.41   9.53   9.65   9.87   2236    1.0\n",
      "mu[43]        9.55  3.9e-3   0.18   9.21   9.43   9.55   9.67    9.9   2100    1.0\n",
      "mu[44]        9.57  4.1e-3   0.18   9.22   9.45   9.57   9.69   9.93   1980    1.0\n",
      "mu[45]        9.59  4.3e-3   0.19   9.23   9.46   9.59   9.72   9.95   1876    1.0\n",
      "mu[46]        9.61  4.5e-3   0.19   9.24   9.48   9.61   9.74   9.98   1784    1.0\n",
      "mu[47]        9.63  4.8e-3    0.2   9.24   9.49   9.63   9.76  10.01   1704    1.0\n",
      "mu[48]        9.65  5.0e-3    0.2   9.25   9.51   9.65   9.78  10.04   1634    1.0\n",
      "mu[49]        9.67  5.2e-3   0.21   9.26   9.52   9.67    9.8  10.07   1572    1.0\n",
      "mu[50]        9.68  5.5e-3   0.21   9.26   9.54   9.68   9.83   10.1   1517    1.0\n",
      "mu[51]         9.7  5.7e-3   0.22   9.27   9.55    9.7   9.85  10.13   1468    1.0\n",
      "mu[52]        9.72  6.0e-3   0.23   9.27   9.57   9.72   9.87  10.16   1425    1.0\n",
      "mu[53]        9.74  6.2e-3   0.23   9.28   9.59   9.74   9.89  10.19   1385    1.0\n",
      "mu[54]        9.76  6.5e-3   0.24   9.28    9.6   9.76   9.92  10.22   1350    1.0\n",
      "mu[55]        9.78  6.7e-3   0.24   9.29   9.62   9.78   9.94  10.25   1318    1.0\n",
      "mu[56]         9.8  7.0e-3   0.25   9.29   9.63    9.8   9.97  10.28   1289    1.0\n",
      "mu[57]        9.82  7.2e-3   0.26    9.3   9.65   9.82   9.99  10.31   1263    1.0\n",
      "mu[58]        9.84  7.5e-3   0.26   9.31   9.66   9.84  10.01  10.34   1240    1.0\n",
      "mu[59]        9.86  7.8e-3   0.27   9.31   9.67   9.86  10.03  10.37   1219    1.0\n",
      "mu[60]        9.87  8.0e-3   0.28   9.31   9.69   9.88  10.06  10.41   1199    1.0\n",
      "mu[61]        9.89  8.3e-3   0.28   9.32    9.7    9.9  10.09  10.44   1182    1.0\n",
      "ypred         9.93    0.02   1.18   7.56   9.15   9.94  10.73  12.23   3773    1.0\n",
      "log_lik[0]   -1.14  4.0e-3   0.14  -1.47  -1.22  -1.13  -1.05  -0.93   1161    1.0\n",
      "log_lik[1]   -2.92    0.01   0.54  -4.06  -3.27  -2.89  -2.53  -1.98   1311   1.01\n",
      "log_lik[2]   -1.22  4.4e-3   0.15  -1.58  -1.31   -1.2  -1.12  -0.98   1208    1.0\n",
      "log_lik[3]   -1.26  4.8e-3   0.16  -1.65  -1.35  -1.23  -1.14   -1.0   1164    1.0\n",
      "log_lik[4]   -1.26  4.7e-3   0.16  -1.65  -1.36  -1.25  -1.15  -1.01   1180    1.0\n",
      "log_lik[5]   -1.57  6.6e-3   0.23   -2.1  -1.71  -1.55  -1.41   -1.2   1179    1.0\n",
      "log_lik[6]   -1.08  3.0e-3   0.11  -1.32  -1.15  -1.08  -1.01   -0.9   1282    1.0\n",
      "log_lik[7]   -1.08  2.9e-3    0.1   -1.3  -1.14  -1.07  -1.01  -0.89   1311    1.0\n",
      "log_lik[8]   -2.86    0.01   0.46  -3.83  -3.15  -2.83  -2.53  -2.06   1451    1.0\n",
      "log_lik[9]   -1.63  5.8e-3   0.22  -2.11  -1.76  -1.61  -1.48  -1.27   1382    1.0\n",
      "log_lik[10]  -1.76  6.4e-3   0.23  -2.28   -1.9  -1.74  -1.59  -1.36   1327    1.0\n",
      "log_lik[11]  -1.06  2.7e-3    0.1  -1.28  -1.13  -1.06  -0.99  -0.89   1335    1.0\n",
      "log_lik[12]  -1.23  3.4e-3   0.13  -1.51  -1.31  -1.22  -1.14  -1.01   1390    1.0\n",
      "log_lik[13]  -2.33  8.2e-3   0.32  -3.01  -2.53  -2.31  -2.11  -1.76   1482    1.0\n",
      "log_lik[14]  -1.09  2.7e-3    0.1   -1.3  -1.15  -1.08  -1.02  -0.91   1387    1.0\n",
      "log_lik[15]  -1.07  2.7e-3    0.1  -1.28  -1.13  -1.06   -1.0   -0.9   1370    1.0\n",
      "log_lik[16]  -1.88  5.4e-3   0.22  -2.36  -2.02  -1.87  -1.73  -1.49   1657    1.0\n",
      "log_lik[17]  -1.89  5.1e-3   0.22  -2.36  -2.02  -1.87  -1.73  -1.52   1831    1.0\n",
      "log_lik[18]  -2.54  7.7e-3   0.33  -3.24  -2.75  -2.51   -2.3  -1.98   1817    1.0\n",
      "log_lik[19]  -1.06  2.6e-3    0.1  -1.27  -1.13  -1.06   -1.0  -0.89   1387    1.0\n",
      "log_lik[20]  -2.97  9.1e-3   0.39  -3.79  -3.22  -2.94  -2.69   -2.3   1847    1.0\n",
      "log_lik[21]  -1.35  2.7e-3   0.12  -1.61  -1.42  -1.34  -1.27  -1.13   2073    1.0\n",
      "log_lik[22]  -1.41  2.7e-3   0.13  -1.68  -1.48   -1.4  -1.32  -1.19   2283    1.0\n",
      "log_lik[23]  -4.14    0.01   0.59  -5.41  -4.52   -4.1  -3.73  -3.11   1775    1.0\n",
      "log_lik[24]  -1.44  2.5e-3   0.12   -1.7  -1.52  -1.43  -1.35  -1.21   2559    1.0\n",
      "log_lik[25]  -1.31  2.2e-3   0.11  -1.53  -1.38   -1.3  -1.23  -1.11   2327    1.0\n",
      "log_lik[26]  -1.07  2.5e-3    0.1  -1.28  -1.13  -1.07  -1.01   -0.9   1481    1.0\n",
      "log_lik[27]  -1.22  2.2e-3    0.1  -1.43  -1.28  -1.21  -1.15  -1.03   2141    1.0\n",
      "log_lik[28]  -1.76  2.7e-3   0.16   -2.1  -1.86  -1.74  -1.64  -1.48   3564    1.0\n",
      "log_lik[29]  -2.19  4.3e-3   0.23  -2.71  -2.33  -2.17  -2.03  -1.79   2857    1.0\n",
      "log_lik[30]  -2.08  3.9e-3   0.21  -2.56  -2.21  -2.07  -1.93  -1.71   3041    1.0\n",
      "log_lik[31]  -1.65  2.3e-3   0.15  -1.97  -1.74  -1.64  -1.55   -1.4   4000    1.0\n",
      "log_lik[32]   -1.4  2.0e-3   0.11  -1.64  -1.47   -1.4  -1.32   -1.2   3354    1.0\n",
      "log_lik[33]  -1.09  2.4e-3    0.1  -1.29  -1.15  -1.09  -1.02  -0.92   1592    1.0\n",
      "log_lik[34]  -1.05  2.5e-3   0.09  -1.25  -1.11  -1.05  -0.99  -0.88   1410    1.0\n",
      "log_lik[35]  -2.82  7.3e-3   0.35   -3.6  -3.04  -2.79  -2.57  -2.22   2331    1.0\n",
      "log_lik[36]  -1.36  2.1e-3   0.11  -1.59  -1.43  -1.35  -1.28  -1.15   3043    1.0\n",
      "log_lik[37]  -1.06  2.5e-3   0.09  -1.26  -1.12  -1.05  -0.99  -0.89   1436    1.0\n",
      "log_lik[38]  -1.33  2.2e-3   0.12  -1.57  -1.41  -1.32  -1.25  -1.12   2724    1.0\n",
      "log_lik[39]  -1.09  2.4e-3    0.1  -1.29  -1.15  -1.08  -1.02  -0.91   1572    1.0\n",
      "log_lik[40]  -1.15  2.4e-3    0.1  -1.35  -1.21  -1.14  -1.08  -0.97   1625    1.0\n",
      "log_lik[41]  -1.12  2.5e-3    0.1  -1.32  -1.18  -1.11  -1.05  -0.94   1518    1.0\n",
      "log_lik[42]  -1.05  2.5e-3   0.09  -1.25  -1.11  -1.04  -0.98  -0.88   1365    1.0\n",
      "log_lik[43]  -1.34  2.9e-3   0.13  -1.61  -1.42  -1.33  -1.25  -1.12   1941    1.0\n",
      "log_lik[44]  -1.09  2.6e-3    0.1   -1.3  -1.16  -1.09  -1.02  -0.91   1540    1.0\n",
      "log_lik[45]  -1.38  3.3e-3   0.14  -1.68  -1.47  -1.37  -1.28  -1.14   1842    1.0\n",
      "log_lik[46]  -1.07  2.6e-3    0.1  -1.27  -1.13  -1.06   -1.0   -0.9   1368    1.0\n",
      "log_lik[47]  -1.21  3.0e-3   0.12  -1.47  -1.28   -1.2  -1.13   -1.0   1552    1.0\n",
      "log_lik[48]  -1.22  3.1e-3   0.12  -1.49  -1.29  -1.21  -1.14  -1.01   1530    1.0\n",
      "log_lik[49]  -1.05  2.6e-3    0.1  -1.26  -1.11  -1.05  -0.99  -0.88   1364    1.0\n",
      "log_lik[50]  -2.24  8.1e-3   0.31  -2.93  -2.43  -2.21  -2.02   -1.7   1480    1.0\n",
      "log_lik[51]  -1.45  4.6e-3   0.18  -1.85  -1.56  -1.44  -1.32  -1.15   1457    1.0\n",
      "log_lik[52]  -1.11  3.0e-3   0.11  -1.36  -1.18   -1.1  -1.03  -0.91   1422   1.01\n",
      "log_lik[53]  -1.51  5.3e-3    0.2  -1.95  -1.63  -1.49  -1.37  -1.18   1372    1.0\n",
      "log_lik[54]  -1.22  3.9e-3   0.14  -1.54  -1.31  -1.21  -1.12  -0.98   1362    1.0\n",
      "log_lik[55]  -1.17  3.6e-3   0.13  -1.46  -1.25  -1.15  -1.07  -0.95   1347    1.0\n",
      "log_lik[56]  -1.46  5.4e-3    0.2  -1.91  -1.58  -1.44  -1.32  -1.13   1382    1.0\n",
      "log_lik[57]  -1.06  2.8e-3    0.1  -1.28  -1.12  -1.06  -0.99  -0.89   1319    1.0\n",
      "log_lik[58]   -1.5  6.0e-3   0.22  -1.98  -1.63  -1.47  -1.34  -1.14   1342    1.0\n",
      "log_lik[59]  -1.42  6.1e-3   0.21  -1.91  -1.54  -1.39  -1.27  -1.09   1209    1.0\n",
      "log_lik[60]  -1.72  7.8e-3   0.28  -2.35   -1.9  -1.69  -1.51  -1.26   1330    1.0\n",
      "log_lik[61]  -1.65  8.1e-3   0.28  -2.28  -1.82  -1.62  -1.45  -1.21   1165    1.0\n",
      "lp__        -38.09    0.04   1.31 -41.61 -38.64 -37.75 -37.14 -36.62    988    1.0\n",
      "\n",
      "Samples were drawn using NUTS at Wed Aug 16 23:04:51 2017.\n",
      "For each parameter, n_eff is a crude measure of effective sample size,\n",
      "and Rhat is the potential scale reduction factor on split chains (at \n",
      "convergence, Rhat=1).\n"
     ]
    }
   ],
   "source": [
    "print(fit)"
   ]
  },
  {
   "cell_type": "code",
   "execution_count": null,
   "metadata": {
    "collapsed": true
   },
   "outputs": [],
   "source": [
    "Check the treedepth, E-BFMI, and divergences"
   ]
  },
  {
   "cell_type": "code",
   "execution_count": 29,
   "metadata": {},
   "outputs": [
    {
     "name": "stdout",
     "output_type": "stream",
     "text": [
      "39 of 4000 iterations saturated the maximum tree depth of 10 (0.975%)\n",
      "Run again with max_depth set to a larger value to avoid saturation\n",
      "0.0 of 4000 iterations ended with a divergence (0.0%)\n"
     ]
    }
   ],
   "source": [
    "stan_utility.check_treedepth(fit)\n",
    "stan_utility.check_energy(fit)\n",
    "stan_utility.check_div(fit)"
   ]
  },
  {
   "cell_type": "markdown",
   "metadata": {},
   "source": [
    "We get a warning that several iterations that saturated the maximum treedepth\". The reason for this is a very strong posterior correlation between alpha and beta as shown in the next plot. This doesn't imvalidate the results, but leads to suboptimal performance. We'll later look at alternative which reduces the posterior correlation. The following figure shows the strong posterior correlation in the current case."
   ]
  },
  {
   "cell_type": "code",
   "execution_count": 33,
   "metadata": {},
   "outputs": [
    {
     "data": {
      "image/png": "[encoded data removed]",
      "text/plain": [
       "<matplotlib.figure.Figure at 0x7f010625dbe0>"
      ]
     },
     "metadata": {},
     "output_type": "display_data"
    }
   ],
   "source": [
    "samples = fit.extract(permuted=True)\n",
    "plt.figure(figsize=(10,10))\n",
    "plt.scatter(samples['alpha'], samples['beta'], 5, color='#377eb8')\n",
    "plt.xlabel('alpha')\n",
    "plt.ylabel('beta');"
   ]
  },
  {
   "cell_type": "markdown",
   "metadata": {},
   "source": [
    "Compute the probability that the summer temperature is increasing."
   ]
  },
  {
   "cell_type": "code",
   "execution_count": 34,
   "metadata": {},
   "outputs": [
    {
     "name": "stdout",
     "output_type": "stream",
     "text": [
      "Pr(beta > 0) = 0.98375\n"
     ]
    }
   ],
   "source": [
    "print('Pr(beta > 0) = {}'.format(np.mean(samples['beta']>0)))"
   ]
  },
  {
   "cell_type": "markdown",
   "metadata": {},
   "source": [
    "Plot the data, the model fit and prediction for year 2016."
   ]
  },
  {
   "cell_type": "code",
   "execution_count": 37,
   "metadata": {},
   "outputs": [
    {
     "data": {
      "image/png": "[encoded data removed]",
      "text/plain": [
       "<matplotlib.figure.Figure at 0x7f01064a4be0>"
      ]
     },
     "metadata": {},
     "output_type": "display_data"
    }
   ],
   "source": [
    "plt.figure(figsize=(8,10))\n",
    "plt.subplot(3,1,1)\n",
    "plt.plot(x,\n",
    "    np.percentile(samples['mu'], 50, axis=0),\n",
    "    color='#e41a1c',\n",
    "    linewidth=1\n",
    ")\n",
    "plt.plot(\n",
    "    x,\n",
    "    np.asarray(np.percentile(samples['mu'], [5, 95], axis=0)).T,\n",
    "    color='#e41a1c',\n",
    "    linestyle='--',\n",
    "    linewidth=1,\n",
    ")\n",
    "plt.scatter(x, y, 5, color='#377eb8')\n",
    "plt.xlabel('Year')\n",
    "plt.ylabel('Summer temperature at Kilpisjarvi')\n",
    "plt.xlim((1952,2013))\n",
    "plt.subplot(3,1,2)\n",
    "plt.hist(samples['beta'], 50)\n",
    "plt.xlabel('beta')\n",
    "plt.subplot(3,1,3)\n",
    "plt.hist(samples['ypred'], 50)\n",
    "plt.xlabel('y-prediction for x={}'.format(xpred))\n",
    "plt.tight_layout();"
   ]
  },
  {
   "cell_type": "markdown",
   "metadata": {},
   "source": [
    "### Gaussian linear model with standardized data\n",
    "\n",
    "In the above we used the unnormalized data and as x values are far away from zero, this will cause very strong posterior dependency between alpha and beta (did you use ShinyStan for the above model?). The strong posterior dependency can be removed by normalizing the data to have zero mean. The following Stan code makes it in Stan. In generated quantities we do correspnding transformation back to the original scale."
   ]
  },
  {
   "cell_type": "code",
   "execution_count": 38,
   "metadata": {
    "scrolled": true
   },
   "outputs": [
    {
     "name": "stdout",
     "output_type": "stream",
     "text": [
      "// Gaussian linear model with standardized data\n",
      "data {\n",
      "  int<lower=0> N; // number of data points\n",
      "  vector[N] x; //\n",
      "  vector[N] y; //\n",
      "  real xpred; // input location for prediction\n",
      "}\n",
      "transformed data {\n",
      "  vector[N] x_std;\n",
      "  vector[N] y_std;\n",
      "  x_std = (x - mean(x)) / sd(x);\n",
      "  y_std = (y - mean(y)) / sd(y);\n",
      "}\n",
      "parameters {\n",
      "  real alpha;\n",
      "  real beta;\n",
      "  real<lower=0> sigma_std;\n",
      "}\n",
      "transformed parameters {\n",
      "  vector[N] mu_std;\n",
      "  mu_std = alpha + beta*x_std;\n",
      "}\n",
      "model {\n",
      "  alpha ~ normal(0, 1);\n",
      "  beta ~ normal(0, 1);\n",
      "  y_std ~ normal(mu_std, sigma_std);\n",
      "}\n",
      "generated quantities {\n",
      "  vector[N] mu;\n",
      "  real<lower=0> sigma;\n",
      "  real ypred;\n",
      "  vector[N] log_lik;\n",
      "  mu = mu_std*sd(y) + mean(y);\n",
      "  sigma = sigma_std*sd(y);\n",
      "  ypred = normal_rng((alpha + beta*xpred)*sd(y)+mean(y), sigma*sd(y));\n",
      "  for (i in 1:N)\n",
      "    log_lik[i] = normal_lpdf(y[i] | mu[i], sigma);\n",
      "}\n",
      "\n"
     ]
    }
   ],
   "source": [
    "with open('lin_std.stan', 'r') as file:\n",
    "    print(file.read())"
   ]
  },
  {
   "cell_type": "markdown",
   "metadata": {},
   "source": [
    "Run Stan"
   ]
  },
  {
   "cell_type": "code",
   "execution_count": 39,
   "metadata": {},
   "outputs": [
    {
     "name": "stderr",
     "output_type": "stream",
     "text": [
      "INFO:pystan:COMPILING THE C++ CODE FOR MODEL anon_model_66c6fe58314dd2305225ac4c980232cb NOW.\n"
     ]
    }
   ],
   "source": [
    "model = stan_utility.compile_model('lin_std.stan')\n",
    "fit = model.sampling(data=data)\n",
    "samples = fit.extract(permuted=True)"
   ]
  },
  {
   "cell_type": "markdown",
   "metadata": {},
   "source": [
    "Check the n_eff and Rhat"
   ]
  },
  {
   "cell_type": "code",
   "execution_count": 40,
   "metadata": {
    "scrolled": false
   },
   "outputs": [
    {
     "name": "stdout",
     "output_type": "stream",
     "text": [
      "Inference for Stan model: anon_model_66c6fe58314dd2305225ac4c980232cb.\n",
      "4 chains, each with iter=2000; warmup=1000; thin=1; \n",
      "post-warmup draws per chain=1000, total post-warmup draws=4000.\n",
      "\n",
      "              mean se_mean     sd   2.5%    25%    50%    75%  97.5%  n_eff   Rhat\n",
      "alpha      -2.3e-3  2.0e-3   0.12  -0.25  -0.08-2.1e-3   0.07   0.24   3780    1.0\n",
      "beta          0.32  2.0e-3   0.13   0.06   0.23   0.32    0.4   0.56   4000    1.0\n",
      "sigma_std     0.98  1.6e-3   0.09   0.82   0.91   0.97   1.03   1.19   3428    1.0\n",
      "mu_std[0]    -0.54  4.0e-3   0.25  -1.01   -0.7  -0.53  -0.37  -0.05   3680    1.0\n",
      "mu_std[1]    -0.52  3.9e-3   0.24  -0.98  -0.68  -0.52  -0.36  -0.05   3679    1.0\n",
      "mu_std[2]     -0.5  3.9e-3   0.23  -0.95  -0.66   -0.5  -0.34  -0.04   3679    1.0\n",
      "mu_std[3]    -0.48  3.7e-3   0.23  -0.92  -0.64  -0.48  -0.33  -0.04   3810    1.0\n",
      "mu_std[4]    -0.47  3.6e-3   0.22   -0.9  -0.62  -0.46  -0.32  -0.03   3802    1.0\n",
      "mu_std[5]    -0.45  3.5e-3   0.22  -0.87   -0.6  -0.45   -0.3  -0.02   3793    1.0\n",
      "mu_std[6]    -0.43  3.4e-3   0.21  -0.84  -0.58  -0.43  -0.29  -0.01   3785    1.0\n",
      "mu_std[7]    -0.41  3.3e-3    0.2  -0.81  -0.55  -0.41  -0.28-6.1e-3   3776    1.0\n",
      "mu_std[8]     -0.4  3.2e-3    0.2  -0.78  -0.53   -0.4  -0.26-2.7e-4   3767    1.0\n",
      "mu_std[9]    -0.38  3.2e-3   0.19  -0.76  -0.51  -0.38  -0.25 6.7e-3   3758    1.0\n",
      "mu_std[10]   -0.36  3.1e-3   0.19  -0.73  -0.49  -0.36  -0.23   0.01   3749    1.0\n",
      "mu_std[11]   -0.34  3.0e-3   0.18   -0.7  -0.47  -0.34  -0.22   0.02   3740    1.0\n",
      "mu_std[12]   -0.33  2.9e-3   0.18  -0.67  -0.45  -0.33  -0.21   0.03   3731    1.0\n",
      "mu_std[13]   -0.31  2.8e-3   0.17  -0.65  -0.43  -0.31  -0.19   0.03   3722    1.0\n",
      "mu_std[14]   -0.29  2.8e-3   0.17  -0.62  -0.41  -0.29  -0.18   0.04   3714    1.0\n",
      "mu_std[15]   -0.27  2.7e-3   0.16   -0.6  -0.38  -0.27  -0.17   0.05   3706    1.0\n",
      "mu_std[16]   -0.26  2.6e-3   0.16  -0.57  -0.36  -0.26  -0.15   0.06   3698    1.0\n",
      "mu_std[17]   -0.24  2.5e-3   0.15  -0.54  -0.34  -0.24  -0.14   0.07   3691    1.0\n",
      "mu_std[18]   -0.22  2.5e-3   0.15  -0.51  -0.32  -0.22  -0.12   0.08   3686    1.0\n",
      "mu_std[19]    -0.2  2.4e-3   0.15  -0.49   -0.3   -0.2   -0.1   0.09   3681    1.0\n",
      "mu_std[20]   -0.19  2.4e-3   0.14  -0.47  -0.28  -0.19  -0.09    0.1   3678    1.0\n",
      "mu_std[21]   -0.17  2.3e-3   0.14  -0.44  -0.26  -0.17  -0.08   0.11   3677    1.0\n",
      "mu_std[22]   -0.15  2.2e-3   0.14  -0.42  -0.24  -0.15  -0.06   0.12   3677    1.0\n",
      "mu_std[23]   -0.13  2.2e-3   0.13  -0.39  -0.22  -0.13  -0.05   0.13   3680    1.0\n",
      "mu_std[24]   -0.12  2.2e-3   0.13  -0.37   -0.2  -0.12  -0.03   0.14   3686    1.0\n",
      "mu_std[25]    -0.1  2.1e-3   0.13  -0.35  -0.18   -0.1  -0.01   0.16   3694    1.0\n",
      "mu_std[26]   -0.08  2.1e-3   0.13  -0.33  -0.16  -0.08 1.9e-3   0.17   3706    1.0\n",
      "mu_std[27]   -0.06  2.1e-3   0.13  -0.32  -0.15  -0.06   0.02   0.19   3720    1.0\n",
      "mu_std[28]   -0.05  2.0e-3   0.12   -0.3  -0.13  -0.05   0.03    0.2   3738    1.0\n",
      "mu_std[29]   -0.03  2.0e-3   0.12  -0.28  -0.11  -0.03   0.05   0.22   3754    1.0\n",
      "mu_std[30]   -0.01  2.0e-3   0.12  -0.26  -0.09  -0.01   0.07   0.24   3771    1.0\n",
      "mu_std[31]  6.4e-3  2.0e-3   0.12  -0.24  -0.07 6.2e-3   0.08   0.25   3790    1.0\n",
      "mu_std[32]    0.02  2.0e-3   0.12  -0.23  -0.06   0.02    0.1   0.27   3837    1.0\n",
      "mu_std[33]    0.04  2.0e-3   0.12  -0.21  -0.04   0.04   0.12   0.29   3855    1.0\n",
      "mu_std[34]    0.06  2.0e-3   0.13  -0.19  -0.02   0.06   0.14   0.31   3873    1.0\n",
      "mu_std[35]    0.08  2.0e-3   0.13  -0.18-6.9e-3   0.08   0.16   0.33   3892    1.0\n",
      "mu_std[36]    0.09  2.1e-3   0.13  -0.16 9.0e-3   0.09   0.18   0.35   3912    1.0\n",
      "mu_std[37]    0.11  2.1e-3   0.13  -0.15   0.02   0.11    0.2   0.37   3931    1.0\n",
      "mu_std[38]    0.13  2.1e-3   0.13  -0.14   0.04   0.13   0.22   0.39   3951    1.0\n",
      "mu_std[39]    0.15  2.2e-3   0.14  -0.12   0.06   0.15   0.24   0.41   3969    1.0\n",
      "mu_std[40]    0.16  2.2e-3   0.14  -0.11   0.07   0.16   0.26   0.44   3987    1.0\n",
      "mu_std[41]    0.18  2.3e-3   0.14   -0.1   0.09   0.18   0.28   0.46   4000    1.0\n",
      "mu_std[42]     0.2  2.3e-3   0.15  -0.09    0.1    0.2    0.3   0.49   4000    1.0\n",
      "mu_std[43]    0.22  2.4e-3   0.15  -0.08   0.12   0.21   0.32   0.51   4000    1.0\n",
      "mu_std[44]    0.23  2.5e-3   0.15  -0.07   0.13   0.23   0.34   0.54   4000    1.0\n",
      "mu_std[45]    0.25  2.5e-3   0.16  -0.06   0.14   0.25   0.36   0.57   4000    1.0\n",
      "mu_std[46]    0.27  2.6e-3   0.16  -0.05   0.16   0.27   0.38   0.59   4000    1.0\n",
      "mu_std[47]    0.29  2.7e-3   0.17  -0.04   0.17   0.28    0.4   0.62   4000    1.0\n",
      "mu_std[48]     0.3  2.7e-3   0.17  -0.04   0.19    0.3   0.42   0.65   4000    1.0\n",
      "mu_std[49]    0.32  2.8e-3   0.18  -0.03    0.2   0.32   0.44   0.67   4000    1.0\n",
      "mu_std[50]    0.34  2.9e-3   0.18  -0.02   0.21   0.34   0.46    0.7   4000    1.0\n",
      "mu_std[51]    0.36  3.0e-3   0.19  -0.01   0.23   0.35   0.48   0.73   4000    1.0\n",
      "mu_std[52]    0.37  3.1e-3   0.19-4.5e-3   0.24   0.37   0.51   0.76   4000    1.0\n",
      "mu_std[53]    0.39  3.2e-3    0.2 4.7e-4   0.25   0.39   0.53   0.79   4000    1.0\n",
      "mu_std[54]    0.41  3.2e-3   0.21 7.0e-3   0.27   0.41   0.55   0.81   4000    1.0\n",
      "mu_std[55]    0.43  3.3e-3   0.21   0.01   0.28   0.42   0.57   0.84   4000    1.0\n",
      "mu_std[56]    0.44  3.4e-3   0.22   0.02   0.29   0.44   0.59   0.87   4000    1.0\n",
      "mu_std[57]    0.46  3.5e-3   0.22   0.03   0.31   0.46   0.61    0.9   4000    1.0\n",
      "mu_std[58]    0.48  3.6e-3   0.23   0.03   0.32   0.48   0.63   0.93   4000    1.0\n",
      "mu_std[59]     0.5  3.7e-3   0.23   0.04   0.33   0.49   0.65   0.97   4000    1.0\n",
      "mu_std[60]    0.51  3.8e-3   0.24   0.04   0.34   0.51   0.68   0.99   4000    1.0\n",
      "mu_std[61]    0.53  3.9e-3   0.25   0.05   0.36   0.53    0.7   1.02   4000    1.0\n",
      "mu[0]         8.69  4.7e-3   0.28   8.15    8.5    8.7   8.88   9.25   3680    1.0\n",
      "mu[1]         8.71  4.6e-3   0.28   8.18   8.52   8.72    8.9   9.26   3679    1.0\n",
      "mu[2]         8.73  4.5e-3   0.27   8.21   8.55   8.73   8.91   9.26   3679    1.0\n",
      "mu[3]         8.75  4.3e-3   0.26   8.24   8.57   8.75   8.93   9.27   3810    1.0\n",
      "mu[4]         8.77  4.2e-3   0.26   8.28    8.6   8.77   8.94   9.28   3802    1.0\n",
      "mu[5]         8.79  4.1e-3   0.25   8.31   8.62   8.79   8.96   9.29   3793    1.0\n",
      "mu[6]         8.81  4.0e-3   0.24   8.34   8.65   8.81   8.98    9.3   3785    1.0\n",
      "mu[7]         8.83  3.9e-3   0.24   8.37   8.67   8.83   8.99   9.31   3776    1.0\n",
      "mu[8]         8.85  3.8e-3   0.23    8.4   8.69   8.85   9.01   9.31   3767    1.0\n",
      "mu[9]         8.87  3.7e-3   0.22   8.43   8.72   8.87   9.03   9.32   3758    1.0\n",
      "mu[10]         8.9  3.6e-3   0.22   8.47   8.74   8.89   9.04   9.33   3749    1.0\n",
      "mu[11]        8.92  3.5e-3   0.21    8.5   8.77   8.91   9.06   9.34   3740    1.0\n",
      "mu[12]        8.94  3.4e-3   0.21   8.53   8.79   8.93   9.07   9.34   3731    1.0\n",
      "mu[13]        8.96  3.3e-3    0.2   8.56   8.82   8.95   9.09   9.35   3722    1.0\n",
      "mu[14]        8.98  3.2e-3    0.2   8.59   8.84   8.97    9.1   9.36   3714    1.0\n",
      "mu[15]         9.0  3.1e-3   0.19   8.62   8.87   8.99   9.12   9.37   3706    1.0\n",
      "mu[16]        9.02  3.0e-3   0.18   8.66   8.89   9.02   9.14   9.38   3698    1.0\n",
      "mu[17]        9.04  3.0e-3   0.18   8.69   8.92   9.04   9.15   9.39   3691    1.0\n",
      "mu[18]        9.06  2.9e-3   0.17   8.72   8.94   9.06   9.17    9.4   3686    1.0\n",
      "mu[19]        9.08  2.8e-3   0.17   8.75   8.96   9.08   9.19   9.41   3681    1.0\n",
      "mu[20]         9.1  2.7e-3   0.17   8.77   8.99    9.1   9.21   9.42   3678    1.0\n",
      "mu[21]        9.12  2.7e-3   0.16    8.8   9.01   9.12   9.22   9.44   3677    1.0\n",
      "mu[22]        9.14  2.6e-3   0.16   8.83   9.03   9.14   9.24   9.45   3677    1.0\n",
      "mu[23]        9.16  2.6e-3   0.15   8.86   9.06   9.16   9.26   9.46   3680    1.0\n",
      "mu[24]        9.18  2.5e-3   0.15   8.88   9.08   9.18   9.28   9.48   3686    1.0\n",
      "mu[25]         9.2  2.5e-3   0.15    8.9    9.1    9.2    9.3   9.49   3694    1.0\n",
      "mu[26]        9.22  2.4e-3   0.15   8.92   9.12   9.22   9.32   9.51   3706    1.0\n",
      "mu[27]        9.24  2.4e-3   0.15   8.95   9.14   9.24   9.33   9.53   3720    1.0\n",
      "mu[28]        9.26  2.4e-3   0.14   8.97   9.17   9.26   9.35   9.55   3738    1.0\n",
      "mu[29]        9.28  2.3e-3   0.14   8.99   9.19   9.28   9.37   9.57   3754    1.0\n",
      "mu[30]         9.3  2.3e-3   0.14   9.01   9.21    9.3   9.39   9.59   3771    1.0\n",
      "mu[31]        9.32  2.3e-3   0.14   9.03   9.23   9.32   9.41    9.6   3790    1.0\n",
      "mu[32]        9.34  2.3e-3   0.14   9.05   9.25   9.34   9.43   9.62   3837    1.0\n",
      "mu[33]        9.36  2.3e-3   0.14   9.07   9.27   9.36   9.45   9.65   3855    1.0\n",
      "mu[34]        9.38  2.3e-3   0.15   9.09   9.29   9.38   9.48   9.67   3873    1.0\n",
      "mu[35]         9.4  2.4e-3   0.15   9.11    9.3    9.4    9.5   9.69   3892    1.0\n",
      "mu[36]        9.42  2.4e-3   0.15   9.13   9.32   9.42   9.52   9.72   3912    1.0\n",
      "mu[37]        9.44  2.4e-3   0.15   9.14   9.34   9.44   9.54   9.74   3931    1.0\n",
      "mu[38]        9.46  2.5e-3   0.16   9.16   9.36   9.46   9.57   9.77   3951    1.0\n",
      "mu[39]        9.48  2.5e-3   0.16   9.17   9.38   9.48   9.59   9.79   3969    1.0\n",
      "mu[40]         9.5  2.6e-3   0.16   9.19    9.4    9.5   9.61   9.82   3987    1.0\n",
      "mu[41]        9.52  2.6e-3   0.17    9.2   9.41   9.52   9.63   9.85   4000    1.0\n",
      "mu[42]        9.54  2.7e-3   0.17   9.21   9.43   9.54   9.66   9.88   4000    1.0\n",
      "mu[43]        9.56  2.8e-3   0.17   9.22   9.45   9.56   9.68   9.91   4000    1.0\n",
      "mu[44]        9.58  2.8e-3   0.18   9.23   9.46   9.58    9.7   9.94   4000    1.0\n",
      "mu[45]         9.6  2.9e-3   0.18   9.24   9.48    9.6   9.73   9.97   4000    1.0\n",
      "mu[46]        9.62  3.0e-3   0.19   9.25    9.5   9.62   9.75   10.0   4000    1.0\n",
      "mu[47]        9.64  3.1e-3    0.2   9.26   9.51   9.64   9.78  10.03   4000    1.0\n",
      "mu[48]        9.66  3.2e-3    0.2   9.27   9.53   9.66    9.8  10.07   4000    1.0\n",
      "mu[49]        9.68  3.3e-3   0.21   9.28   9.54   9.68   9.82  10.09   4000    1.0\n",
      "mu[50]        9.71  3.4e-3   0.21   9.29   9.56    9.7   9.85  10.13   4000    1.0\n",
      "mu[51]        9.73  3.5e-3   0.22    9.3   9.58   9.72   9.87  10.16   4000    1.0\n",
      "mu[52]        9.75  3.6e-3   0.23   9.31   9.59   9.74    9.9  10.19   4000    1.0\n",
      "mu[53]        9.77  3.7e-3   0.23   9.31   9.61   9.76   9.92  10.22   4000    1.0\n",
      "mu[54]        9.79  3.8e-3   0.24   9.32   9.62   9.78   9.95  10.26   4000    1.0\n",
      "mu[55]        9.81  3.9e-3   0.24   9.33   9.64   9.81   9.97  10.29   4000    1.0\n",
      "mu[56]        9.83  4.0e-3   0.25   9.33   9.65   9.83   10.0  10.33   4000    1.0\n",
      "mu[57]        9.85  4.1e-3   0.26   9.34   9.67   9.85  10.02  10.36   4000    1.0\n",
      "mu[58]        9.87  4.2e-3   0.26   9.35   9.68   9.87  10.05  10.39   4000    1.0\n",
      "mu[59]        9.89  4.3e-3   0.27   9.36    9.7   9.89  10.07  10.43   4000    1.0\n",
      "mu[60]        9.91  4.4e-3   0.28   9.36   9.71   9.91   10.1  10.47   4000    1.0\n",
      "mu[61]        9.93  4.5e-3   0.29   9.37   9.73   9.93  10.12   10.5   4000    1.0\n",
      "sigma         1.13  1.9e-3   0.11   0.95   1.06   1.12    1.2   1.37   3428    1.0\n",
      "ypred       745.94    4.65 294.09 156.19 549.05  746.6 943.42 1309.4   4000    1.0\n",
      "log_lik[0]   -1.13  2.4e-3   0.13  -1.42   -1.2  -1.12  -1.04  -0.91   3068    1.0\n",
      "log_lik[1]   -2.99  8.9e-3   0.55  -4.22  -3.33  -2.93  -2.59  -2.05   3845    1.0\n",
      "log_lik[2]   -1.25  2.6e-3   0.16   -1.6  -1.34  -1.23  -1.14  -0.99   3581    1.0\n",
      "log_lik[3]   -1.24  2.7e-3   0.16  -1.59  -1.33  -1.22  -1.12  -0.98   3427    1.0\n",
      "log_lik[4]   -1.25  2.7e-3   0.16   -1.6  -1.34  -1.23  -1.14  -0.99   3456    1.0\n",
      "log_lik[5]   -1.54  3.5e-3   0.22  -2.04  -1.67  -1.52  -1.38  -1.18   3879    1.0\n",
      "log_lik[6]   -1.08  1.9e-3   0.11  -1.31  -1.15  -1.07  -1.01  -0.89   2968    1.0\n",
      "log_lik[7]   -1.09  1.9e-3   0.11  -1.31  -1.16  -1.08  -1.01   -0.9   3133    1.0\n",
      "log_lik[8]   -2.91  7.7e-3   0.47  -3.93   -3.2  -2.87  -2.57  -2.11   3787    1.0\n",
      "log_lik[9]   -1.66  3.6e-3   0.22  -2.15  -1.79  -1.64   -1.5  -1.29   3833    1.0\n",
      "log_lik[10]  -1.73  3.6e-3   0.23  -2.23  -1.86  -1.71  -1.56  -1.34   4000    1.0\n",
      "log_lik[11]  -1.06  1.8e-3    0.1  -1.27  -1.12  -1.06  -0.99  -0.88   3038    1.0\n",
      "log_lik[12]  -1.22  2.2e-3   0.13  -1.48   -1.3  -1.21  -1.13   -1.0   3429    1.0\n",
      "log_lik[13]  -2.29  4.9e-3   0.31  -2.97  -2.48  -2.26  -2.07  -1.76   4000    1.0\n",
      "log_lik[14]   -1.1  1.8e-3    0.1  -1.31  -1.16  -1.09  -1.02  -0.91   3296    1.0\n",
      "log_lik[15]  -1.07  1.8e-3    0.1  -1.28  -1.13  -1.06   -1.0  -0.89   3135    1.0\n",
      "log_lik[16]  -1.85  3.4e-3   0.21  -2.32  -1.98  -1.84   -1.7  -1.49   4000    1.0\n",
      "log_lik[17]  -1.91  3.6e-3   0.22  -2.38  -2.05  -1.89  -1.75  -1.53   3797    1.0\n",
      "log_lik[18]  -2.57  5.5e-3   0.33  -3.29  -2.77  -2.54  -2.33  -1.99   3731    1.0\n",
      "log_lik[19]  -1.06  1.7e-3    0.1  -1.27  -1.12  -1.06   -1.0  -0.88   3194    1.0\n",
      "log_lik[20]   -3.0  6.6e-3    0.4  -3.86  -3.24  -2.96  -2.71  -2.29   3690    1.0\n",
      "log_lik[21]  -1.36  1.9e-3   0.12  -1.61  -1.44  -1.36  -1.28  -1.14   3705    1.0\n",
      "log_lik[22]  -1.42  2.0e-3   0.12  -1.69  -1.49  -1.41  -1.34   -1.2   3740    1.0\n",
      "log_lik[23]   -4.1  9.3e-3   0.57  -5.32  -4.46  -4.04  -3.69   -3.1   3777    1.0\n",
      "log_lik[24]  -1.43  2.0e-3   0.12  -1.68  -1.51  -1.42  -1.35  -1.21   3700    1.0\n",
      "log_lik[25]   -1.3  1.8e-3   0.11  -1.53  -1.37  -1.29  -1.23  -1.11   3549    1.0\n",
      "log_lik[26]  -1.08  1.6e-3   0.09  -1.27  -1.14  -1.08  -1.01  -0.91   3366    1.0\n",
      "log_lik[27]  -1.22  1.6e-3    0.1  -1.42  -1.28  -1.22  -1.15  -1.04   3599    1.0\n",
      "log_lik[28]  -1.77  2.6e-3   0.16  -2.12  -1.86  -1.76  -1.66  -1.49   3853    1.0\n",
      "log_lik[29]  -2.18  3.5e-3   0.22  -2.66  -2.31  -2.16  -2.02  -1.79   3876    1.0\n",
      "log_lik[30]  -2.07  3.2e-3    0.2  -2.51   -2.2  -2.06  -1.93  -1.71   3898    1.0\n",
      "log_lik[31]  -1.64  2.2e-3   0.14  -1.94  -1.73  -1.63  -1.55  -1.39   3912    1.0\n",
      "log_lik[32]   -1.4  1.8e-3   0.11  -1.64  -1.47  -1.39  -1.32  -1.19   3773    1.0\n",
      "log_lik[33]  -1.09  1.6e-3   0.09  -1.29  -1.15  -1.09  -1.03  -0.92   3414    1.0\n",
      "log_lik[34]  -1.05  1.6e-3   0.09  -1.25  -1.11  -1.05  -0.99  -0.88   3321    1.0\n",
      "log_lik[35]  -2.82  5.4e-3   0.33  -3.54  -3.03  -2.79  -2.58  -2.23   3893    1.0\n",
      "log_lik[36]  -1.36  1.7e-3   0.11  -1.59  -1.43  -1.35  -1.28  -1.16   3943    1.0\n",
      "log_lik[37]  -1.06  1.6e-3    0.1  -1.25  -1.12  -1.05  -0.99  -0.88   3320    1.0\n",
      "log_lik[38]  -1.33  1.8e-3   0.11  -1.57   -1.4  -1.33  -1.25  -1.13   3944    1.0\n",
      "log_lik[39]  -1.09  1.6e-3    0.1  -1.28  -1.15  -1.09  -1.02  -0.91   3398    1.0\n",
      "log_lik[40]  -1.15  1.7e-3    0.1  -1.36  -1.22  -1.14  -1.08  -0.96   3495    1.0\n",
      "log_lik[41]  -1.12  1.7e-3    0.1  -1.33  -1.19  -1.11  -1.05  -0.94   3429    1.0\n",
      "log_lik[42]  -1.05  1.7e-3    0.1  -1.25  -1.11  -1.05  -0.98  -0.87   3239    1.0\n",
      "log_lik[43]  -1.35  2.0e-3   0.13  -1.62  -1.43  -1.34  -1.26  -1.12   4000    1.0\n",
      "log_lik[44]  -1.09  1.7e-3    0.1  -1.29  -1.16  -1.09  -1.02  -0.91   3375    1.0\n",
      "log_lik[45]  -1.37  2.1e-3   0.14  -1.66  -1.46  -1.36  -1.28  -1.13   4000    1.0\n",
      "log_lik[46]  -1.07  1.7e-3    0.1  -1.28  -1.14  -1.07   -1.0  -0.89   3256    1.0\n",
      "log_lik[47]  -1.22  2.0e-3   0.12  -1.47   -1.3  -1.21  -1.13  -1.01   3751    1.0\n",
      "log_lik[48]  -1.23  2.0e-3   0.13   -1.5  -1.31  -1.22  -1.14  -1.01   3790    1.0\n",
      "log_lik[49]  -1.05  1.7e-3    0.1  -1.26  -1.12  -1.05  -0.99  -0.88   3119    1.0\n",
      "log_lik[50]  -2.21  4.9e-3   0.31  -2.88   -2.4  -2.19  -1.98  -1.67   4000    1.0\n",
      "log_lik[51]  -1.44  2.7e-3   0.17  -1.81  -1.54  -1.42  -1.31  -1.15   4000    1.0\n",
      "log_lik[52]  -1.11  1.9e-3   0.11  -1.34  -1.17   -1.1  -1.04  -0.91   3359    1.0\n",
      "log_lik[53]  -1.49  3.0e-3   0.19   -1.9  -1.61  -1.47  -1.35  -1.17   4000    1.0\n",
      "log_lik[54]  -1.21  2.2e-3   0.13  -1.51  -1.29   -1.2  -1.12  -0.98   3820    1.0\n",
      "log_lik[55]  -1.16  2.1e-3   0.12  -1.44  -1.23  -1.15  -1.07  -0.94   3647    1.0\n",
      "log_lik[56]  -1.48  3.3e-3   0.21  -1.95  -1.61  -1.46  -1.33  -1.15   4000    1.0\n",
      "log_lik[57]  -1.06  1.9e-3    0.1  -1.28  -1.13  -1.06  -0.99  -0.88   2918    1.0\n",
      "log_lik[58]  -1.52  3.6e-3   0.23  -2.03  -1.66  -1.49  -1.36  -1.16   4000    1.0\n",
      "log_lik[59]   -1.4  3.2e-3    0.2  -1.85  -1.52  -1.38  -1.25  -1.08   4000    1.0\n",
      "log_lik[60]  -1.75  4.6e-3   0.29  -2.41  -1.93  -1.72  -1.53  -1.29   4000    1.0\n",
      "log_lik[61]  -1.62  4.2e-3   0.27  -2.22  -1.78  -1.59  -1.42   -1.2   4000    1.0\n",
      "lp__        -28.84    0.03   1.27  -32.3  -29.4  -28.5  -27.9 -27.39   1889    1.0\n",
      "\n",
      "Samples were drawn using NUTS at Thu Aug 17 14:00:37 2017.\n",
      "For each parameter, n_eff is a crude measure of effective sample size,\n",
      "and Rhat is the potential scale reduction factor on split chains (at \n",
      "convergence, Rhat=1).\n"
     ]
    }
   ],
   "source": [
    "print(fit)"
   ]
  },
  {
   "cell_type": "markdown",
   "metadata": {},
   "source": [
    "We get now much better effective sample sizes n_eff.\n",
    "\n",
    "Check the treedepth, E-BFMI, and divergences"
   ]
  },
  {
   "cell_type": "code",
   "execution_count": 41,
   "metadata": {},
   "outputs": [
    {
     "name": "stdout",
     "output_type": "stream",
     "text": [
      "0 of 4000 iterations saturated the maximum tree depth of 10 (0.0%)\n",
      "0.0 of 4000 iterations ended with a divergence (0.0%)\n"
     ]
    }
   ],
   "source": [
    "stan_utility.check_treedepth(fit)\n",
    "stan_utility.check_energy(fit)\n",
    "stan_utility.check_div(fit)"
   ]
  },
  {
   "cell_type": "markdown",
   "metadata": {},
   "source": [
    "Everything is fine now. The next figure shows that with the standardized data there is not much posterior correlation:"
   ]
  },
  {
   "cell_type": "code",
   "execution_count": 42,
   "metadata": {},
   "outputs": [
    {
     "data": {
      "image/png": "[encoded data removed]",
      "text/plain": [
       "<matplotlib.figure.Figure at 0x7f0102812c88>"
      ]
     },
     "metadata": {},
     "output_type": "display_data"
    }
   ],
   "source": [
    "samples = fit.extract(permuted=True)\n",
    "plt.figure(figsize=(10,10))\n",
    "plt.scatter(samples['alpha'], samples['beta'], 5, color='#377eb8')\n",
    "plt.xlabel('alpha')\n",
    "plt.ylabel('beta');"
   ]
  },
  {
   "cell_type": "markdown",
   "metadata": {},
   "source": [
    "Compute the probability that the summer temperature is increasing."
   ]
  },
  {
   "cell_type": "code",
   "execution_count": 44,
   "metadata": {},
   "outputs": [
    {
     "name": "stdout",
     "output_type": "stream",
     "text": [
      "Pr(beta > 0) = 0.9925\n"
     ]
    }
   ],
   "source": [
    "print('Pr(beta > 0) = {}'.format(np.mean(samples['beta']>0)))"
   ]
  },
  {
   "cell_type": "markdown",
   "metadata": {},
   "source": [
    "Plot the data, the model fit and prediction for year 2016."
   ]
  },
  {
   "cell_type": "code",
   "execution_count": 45,
   "metadata": {},
   "outputs": [
    {
     "data": {
      "image/png": "[encoded data removed]",
      "text/plain": [
       "<matplotlib.figure.Figure at 0x7f01068d8f98>"
      ]
     },
     "metadata": {},
     "output_type": "display_data"
    }
   ],
   "source": [
    "plt.figure(figsize=(8,10))\n",
    "plt.subplot(3,1,1)\n",
    "plt.plot(x,\n",
    "    np.percentile(samples['mu'], 50, axis=0),\n",
    "    color='#e41a1c',\n",
    "    linewidth=1\n",
    ")\n",
    "plt.plot(\n",
    "    x,\n",
    "    np.asarray(np.percentile(samples['mu'], [5, 95], axis=0)).T,\n",
    "    color='#e41a1c',\n",
    "    linestyle='--',\n",
    "    linewidth=1,\n",
    ")\n",
    "plt.scatter(x, y, 5, color='#377eb8')\n",
    "plt.xlabel('Year')\n",
    "plt.ylabel('Summer temperature at Kilpisjarvi')\n",
    "plt.xlim((1952,2013))\n",
    "plt.subplot(3,1,2)\n",
    "plt.hist(samples['beta'], 50)\n",
    "plt.xlabel('beta')\n",
    "plt.subplot(3,1,3)\n",
    "plt.hist(samples['ypred'], 50)\n",
    "plt.xlabel('y-prediction for x={}'.format(xpred))\n",
    "plt.tight_layout();"
   ]
  },
  {
   "cell_type": "markdown",
   "metadata": {},
   "source": [
    "## Linear Student's t model.\n",
    "\n",
    "The temperatures used in the above analyses are averages over three months, which makes it more likely that they are normally distributed, but there can be extreme events in the feather and we can check whether more robust Student's t observation model woul give different results."
   ]
  },
  {
   "cell_type": "code",
   "execution_count": 46,
   "metadata": {},
   "outputs": [
    {
     "name": "stdout",
     "output_type": "stream",
     "text": [
      "// Linear student-t model\n",
      "data {\n",
      "  int<lower=0> N; // number of data points\n",
      "  vector[N] x; //\n",
      "  vector[N] y; //\n",
      "  real xpred; // input location for prediction\n",
      "}\n",
      "parameters {\n",
      "  real alpha;\n",
      "  real beta;\n",
      "  real<lower=0> sigma;\n",
      "  real<lower=1, upper=80> nu;\n",
      "}\n",
      "transformed parameters {\n",
      "  vector[N] mu;\n",
      "  mu = alpha + beta*x;\n",
      "}\n",
      "model {\n",
      "  nu ~ gamma(2, 0.1); // Juárez and Steel(2010)\n",
      "  y ~ student_t(nu, mu, sigma);\n",
      "}\n",
      "generated quantities {\n",
      "  real ypred;\n",
      "  vector[N] log_lik;\n",
      "  ypred = normal_rng(alpha + beta*xpred, sigma);\n",
      "  for (i in 1:N)\n",
      "    log_lik[i] = student_t_lpdf(y[i] | nu, mu[i], sigma);\n",
      "}\n",
      "\n"
     ]
    }
   ],
   "source": [
    "with open('lin_t.stan', 'r') as file:\n",
    "    print(file.read())"
   ]
  },
  {
   "cell_type": "code",
   "execution_count": 49,
   "metadata": {},
   "outputs": [
    {
     "name": "stderr",
     "output_type": "stream",
     "text": [
      "INFO:pystan:COMPILING THE C++ CODE FOR MODEL anon_model_985e43a8fe28088e3317d00edd324bab NOW.\n"
     ]
    }
   ],
   "source": [
    "model = stan_utility.compile_model('lin_t.stan')\n",
    "fit = model.sampling(data=data)\n",
    "samples = fit.extract(permuted=True)"
   ]
  },
  {
   "cell_type": "markdown",
   "metadata": {},
   "source": [
    "Check the n_eff and Rhat"
   ]
  },
  {
   "cell_type": "code",
   "execution_count": 50,
   "metadata": {
    "scrolled": false
   },
   "outputs": [
    {
     "name": "stdout",
     "output_type": "stream",
     "text": [
      "Inference for Stan model: anon_model_985e43a8fe28088e3317d00edd324bab.\n",
      "4 chains, each with iter=2000; warmup=1000; thin=1; \n",
      "post-warmup draws per chain=1000, total post-warmup draws=4000.\n",
      "\n",
      "              mean se_mean     sd   2.5%    25%    50%    75%  97.5%  n_eff   Rhat\n",
      "alpha       -32.84    0.44  16.03 -64.04 -43.33 -33.03 -22.06  -1.88   1335    1.0\n",
      "beta          0.02  2.2e-4 8.1e-3 5.7e-3   0.02   0.02   0.03   0.04   1335    1.0\n",
      "sigma         1.08  2.8e-3   0.11   0.88   1.01   1.07   1.15   1.31   1660    1.0\n",
      "nu           24.08    0.33  13.63   6.18  14.11  21.44  30.74  60.17   1675    1.0\n",
      "mu[0]         8.67  7.3e-3   0.29   8.09   8.48   8.66   8.86   9.25   1627    1.0\n",
      "mu[1]         8.69  7.1e-3   0.29   8.13    8.5   8.68   8.88   9.26   1644    1.0\n",
      "mu[2]         8.71  6.8e-3   0.28   8.16   8.53    8.7    8.9   9.27   1662    1.0\n",
      "mu[3]         8.73  6.6e-3   0.27    8.2   8.55   8.73   8.92   9.27   1683    1.0\n",
      "mu[4]         8.75  6.5e-3   0.27   8.23   8.58   8.75   8.93   9.28   1675    1.0\n",
      "mu[5]         8.77  6.3e-3   0.26   8.27    8.6   8.77   8.95   9.29   1695    1.0\n",
      "mu[6]         8.79  6.1e-3   0.25   8.31   8.62   8.79   8.96    9.3   1717    1.0\n",
      "mu[7]         8.81  5.9e-3   0.25   8.34   8.65   8.81   8.98   9.31   1741    1.0\n",
      "mu[8]         8.84  5.7e-3   0.24   8.37   8.67   8.83    9.0   9.31   1767    1.0\n",
      "mu[9]         8.86  5.5e-3   0.23    8.4    8.7   8.86   9.01   9.32   1796    1.0\n",
      "mu[10]        8.88  5.3e-3   0.23   8.44   8.73   8.88   9.03   9.34   1828    1.0\n",
      "mu[11]         8.9  5.1e-3   0.22   8.47   8.75    8.9   9.05   9.35   1864    1.0\n",
      "mu[12]        8.92  4.8e-3   0.21    8.5   8.77   8.92   9.06   9.36   2006    1.0\n",
      "mu[13]        8.94  4.6e-3   0.21   8.54    8.8   8.95   9.08   9.37   2059    1.0\n",
      "mu[14]        8.96  4.4e-3    0.2   8.57   8.83   8.97    9.1   9.38   2118    1.0\n",
      "mu[15]        8.98  4.2e-3    0.2    8.6   8.85   8.99   9.12   9.39   2184    1.0\n",
      "mu[16]        9.01  4.0e-3   0.19   8.63   8.88   9.01   9.14    9.4   2258    1.0\n",
      "mu[17]        9.03  3.9e-3   0.19   8.66    8.9   9.03   9.15   9.41   2340    1.0\n",
      "mu[18]        9.05  3.7e-3   0.18   8.69   8.93   9.05   9.17   9.42   2433    1.0\n",
      "mu[19]        9.07  3.5e-3   0.18   8.72   8.95   9.07   9.19   9.42   2536    1.0\n",
      "mu[20]        9.09  3.4e-3   0.17   8.75   8.98   9.09   9.21   9.43   2650    1.0\n",
      "mu[21]        9.11  3.2e-3   0.17   8.78    9.0   9.11   9.23   9.44   2777    1.0\n",
      "mu[22]        9.13  3.1e-3   0.17   8.81   9.03   9.13   9.24   9.46   2916    1.0\n",
      "mu[23]        9.15  2.9e-3   0.16   8.84   9.05   9.15   9.26   9.47   3067    1.0\n",
      "mu[24]        9.18  2.8e-3   0.16   8.87   9.07   9.17   9.28   9.49   3227    1.0\n",
      "mu[25]         9.2  2.7e-3   0.16   8.89    9.1   9.19    9.3    9.5   3423    1.0\n",
      "mu[26]        9.22  2.6e-3   0.15   8.92   9.12   9.21   9.32   9.52   3572    1.0\n",
      "mu[27]        9.24  2.5e-3   0.15   8.94   9.14   9.24   9.34   9.53   3714    1.0\n",
      "mu[28]        9.26  2.4e-3   0.15   8.97   9.16   9.26   9.36   9.55   4000    1.0\n",
      "mu[29]        9.28  2.3e-3   0.15   8.99   9.19   9.28   9.38   9.57   4000    1.0\n",
      "mu[30]         9.3  2.3e-3   0.15   9.01   9.21    9.3    9.4   9.59   4000    1.0\n",
      "mu[31]        9.33  2.3e-3   0.15   9.04   9.23   9.32   9.42   9.61   4000    1.0\n",
      "mu[32]        9.35  2.3e-3   0.15   9.06   9.25   9.34   9.44   9.63   4000    1.0\n",
      "mu[33]        9.37  2.3e-3   0.15   9.08   9.27   9.37   9.47   9.66   4000    1.0\n",
      "mu[34]        9.39  2.3e-3   0.15   9.09   9.29   9.39   9.49   9.68   4000    1.0\n",
      "mu[35]        9.41  2.4e-3   0.15   9.11   9.31   9.41   9.51    9.7   4000    1.0\n",
      "mu[36]        9.43  2.5e-3   0.15   9.13   9.33   9.43   9.53   9.73   3642    1.0\n",
      "mu[37]        9.45  2.6e-3   0.15   9.15   9.35   9.45   9.55   9.75   3494    1.0\n",
      "mu[38]        9.47  2.7e-3   0.16   9.17   9.37   9.47   9.58   9.78   3342    1.0\n",
      "mu[39]         9.5  2.8e-3   0.16   9.18   9.39    9.5    9.6   9.81   3192    1.0\n",
      "mu[40]        9.52  2.9e-3   0.16   9.19   9.41   9.52   9.62   9.84   3049    1.0\n",
      "mu[41]        9.54  3.1e-3   0.17   9.21   9.43   9.54   9.65   9.86   2846    1.0\n",
      "mu[42]        9.56  3.3e-3   0.17   9.23   9.44   9.56   9.67   9.89   2711    1.0\n",
      "mu[43]        9.58  3.4e-3   0.17   9.24   9.46   9.58   9.69   9.92   2589    1.0\n",
      "mu[44]         9.6  3.6e-3   0.18   9.25   9.48   9.61   9.72   9.95   2400    1.0\n",
      "mu[45]        9.62  3.8e-3   0.18   9.26    9.5   9.63   9.74   9.99   2305    1.0\n",
      "mu[46]        9.64  4.0e-3   0.19   9.27   9.52   9.65   9.77  10.02   2220    1.0\n",
      "mu[47]        9.67  4.2e-3   0.19   9.28   9.54   9.67   9.79  10.05   2144    1.0\n",
      "mu[48]        9.69  4.4e-3    0.2   9.29   9.55   9.69   9.82  10.08   2076    1.0\n",
      "mu[49]        9.71  4.6e-3    0.2    9.3   9.57   9.71   9.84  10.12   2016    1.0\n",
      "mu[50]        9.73  4.7e-3   0.21   9.31   9.59   9.73   9.87  10.15   1962    1.0\n",
      "mu[51]        9.75  4.9e-3   0.22   9.33   9.61   9.75    9.9  10.18   1913    1.0\n",
      "mu[52]        9.77  5.1e-3   0.22   9.34   9.63   9.77   9.92  10.21   1869    1.0\n",
      "mu[53]        9.79  5.3e-3   0.23   9.34   9.64   9.79   9.95  10.24   1829    1.0\n",
      "mu[54]        9.81  5.5e-3   0.23   9.35   9.66   9.81   9.97  10.27   1793    1.0\n",
      "mu[55]        9.84  5.7e-3   0.24   9.37   9.68   9.83   10.0  10.31   1760    1.0\n",
      "mu[56]        9.86  5.9e-3   0.25   9.37   9.69   9.86  10.03  10.34   1731    1.0\n",
      "mu[57]        9.88  6.1e-3   0.25   9.38   9.71   9.88  10.05  10.37   1705    1.0\n",
      "mu[58]         9.9  6.4e-3   0.26   9.39   9.73    9.9  10.08   10.4   1680    1.0\n",
      "mu[59]        9.92  6.6e-3   0.27    9.4   9.75   9.92   10.1  10.44   1658    1.0\n",
      "mu[60]        9.94  6.8e-3   0.27    9.4   9.76   9.94  10.13  10.47   1638    1.0\n",
      "mu[61]        9.96  7.0e-3   0.28   9.41   9.78   9.96  10.16  10.51   1620    1.0\n",
      "ypred        10.01    0.02   1.14   7.78   9.25  10.03  10.76  12.24   3756    1.0\n",
      "log_lik[0]   -1.11  3.7e-3   0.14  -1.43  -1.19  -1.09  -1.01  -0.86   1457    1.0\n",
      "log_lik[1]   -3.05    0.01   0.53  -4.18   -3.4  -3.03  -2.67   -2.1   1666    1.0\n",
      "log_lik[2]   -1.26  4.5e-3   0.19   -1.7  -1.36  -1.24  -1.13  -0.97   1701    1.0\n",
      "log_lik[3]   -1.22  4.4e-3   0.17  -1.62  -1.32   -1.2   -1.1  -0.93   1551    1.0\n",
      "log_lik[4]   -1.23  4.3e-3   0.17  -1.63  -1.33  -1.21  -1.11  -0.94   1574    1.0\n",
      "log_lik[5]   -1.55  5.7e-3   0.24   -2.1   -1.7  -1.53  -1.38  -1.16   1761    1.0\n",
      "log_lik[6]   -1.05  3.0e-3   0.12  -1.29  -1.13  -1.05  -0.98  -0.84   1516    1.0\n",
      "log_lik[7]   -1.07  2.7e-3   0.12  -1.31  -1.14  -1.07  -0.99  -0.87   1873    1.0\n",
      "log_lik[8]   -2.97    0.01   0.46  -3.93  -3.27  -2.94  -2.65  -2.15   1749    1.0\n",
      "log_lik[9]   -1.72  6.2e-3   0.25  -2.29  -1.88   -1.7  -1.54  -1.29   1678    1.0\n",
      "log_lik[10]  -1.75  5.5e-3   0.24   -2.3   -1.9  -1.73  -1.58  -1.33   1988    1.0\n",
      "log_lik[11]  -1.03  2.7e-3   0.11  -1.25   -1.1  -1.03  -0.96  -0.83   1575    1.0\n",
      "log_lik[12]   -1.2  3.4e-3   0.14  -1.51  -1.29  -1.19  -1.11  -0.96   1727    1.0\n",
      "log_lik[13]  -2.33  6.7e-3   0.31  -3.02  -2.53  -2.31   -2.1  -1.77   2232    1.0\n",
      "log_lik[14]  -1.08  2.4e-3   0.11  -1.31  -1.15  -1.07   -1.0  -0.88   2178    1.0\n",
      "log_lik[15]  -1.04  2.7e-3   0.11  -1.26  -1.11  -1.04  -0.97  -0.83   1565    1.0\n",
      "log_lik[16]  -1.89  4.7e-3   0.23   -2.4  -2.04  -1.88  -1.73  -1.49   2382    1.0\n",
      "log_lik[17]  -1.98  5.7e-3   0.25  -2.51  -2.13  -1.96   -1.8  -1.55   1873    1.0\n",
      "log_lik[18]  -2.63  7.7e-3   0.34  -3.34  -2.85  -2.62  -2.39  -2.02   1929    1.0\n",
      "log_lik[19]  -1.03  2.7e-3   0.11  -1.25   -1.1  -1.03  -0.96  -0.83   1586    1.0\n",
      "log_lik[20]  -3.04  8.5e-3   0.39  -3.84  -3.28  -3.03  -2.77  -2.34   2043    1.0\n",
      "log_lik[21]  -1.38  2.7e-3   0.14  -1.68  -1.47  -1.37  -1.28  -1.14   2587    1.0\n",
      "log_lik[22]  -1.44  2.8e-3   0.14  -1.75  -1.53  -1.43  -1.34  -1.19   2636    1.0\n",
      "log_lik[23]  -3.99  9.2e-3    0.5  -5.04   -4.3  -3.97  -3.64   -3.1   2875    1.0\n",
      "log_lik[24]  -1.45  2.4e-3   0.14  -1.74  -1.54  -1.44  -1.35  -1.21   3206    1.0\n",
      "log_lik[25]  -1.31  2.3e-3   0.12  -1.56  -1.38   -1.3  -1.23  -1.09   2647    1.0\n",
      "log_lik[26]  -1.05  2.3e-3    0.1  -1.26  -1.12  -1.05  -0.99  -0.86   1991    1.0\n",
      "log_lik[27]  -1.22  1.9e-3   0.11  -1.45  -1.29  -1.21  -1.15  -1.02   3268    1.0\n",
      "log_lik[28]  -1.81  3.3e-3   0.18   -2.2  -1.92   -1.8  -1.69  -1.51   2920    1.0\n",
      "log_lik[29]  -2.24  4.2e-3   0.24  -2.75  -2.39  -2.22  -2.08  -1.83   3094    1.0\n",
      "log_lik[30]  -2.14  3.9e-3   0.22  -2.61  -2.27  -2.12  -1.98  -1.75   3130    1.0\n",
      "log_lik[31]  -1.69  2.7e-3   0.16  -2.02  -1.79  -1.67  -1.58  -1.41   3476    1.0\n",
      "log_lik[32]  -1.42  2.1e-3   0.13  -1.69   -1.5  -1.42  -1.33   -1.2   3617    1.0\n",
      "log_lik[33]  -1.07  2.2e-3    0.1  -1.27  -1.13  -1.07   -1.0  -0.88   2030    1.0\n",
      "log_lik[34]  -1.02  2.5e-3    0.1  -1.22  -1.09  -1.02  -0.95  -0.83   1698    1.0\n",
      "log_lik[35]  -2.87  6.4e-3   0.33  -3.57  -3.08  -2.85  -2.65  -2.28   2617    1.0\n",
      "log_lik[36]  -1.36  2.0e-3   0.12  -1.62  -1.44  -1.36  -1.28  -1.14   3621    1.0\n",
      "log_lik[37]  -1.03  2.5e-3    0.1  -1.23  -1.09  -1.03  -0.96  -0.84   1715    1.0\n",
      "log_lik[38]  -1.33  2.1e-3   0.12  -1.59  -1.41  -1.32  -1.25  -1.11   3339    1.0\n",
      "log_lik[39]  -1.06  2.4e-3    0.1  -1.27  -1.13  -1.06  -0.99  -0.87   1880    1.0\n",
      "log_lik[40]  -1.14  2.3e-3   0.11  -1.37  -1.21  -1.14  -1.07  -0.94   2173    1.0\n",
      "log_lik[41]  -1.11  2.4e-3   0.11  -1.33  -1.18  -1.11  -1.03  -0.91   2040    1.0\n",
      "log_lik[42]  -1.02  2.5e-3    0.1  -1.22  -1.09  -1.02  -0.95  -0.82   1675    1.0\n",
      "log_lik[43]  -1.37  3.0e-3   0.14  -1.68  -1.46  -1.36  -1.28  -1.12   2287    1.0\n",
      "log_lik[44]  -1.06  2.5e-3   0.11  -1.28  -1.13  -1.06  -0.99  -0.86   1796    1.0\n",
      "log_lik[45]  -1.37  3.0e-3   0.15  -1.69  -1.46  -1.36  -1.27  -1.12   2371    1.0\n",
      "log_lik[46]  -1.05  2.5e-3   0.11  -1.26  -1.12  -1.05  -0.98  -0.85   1812    1.0\n",
      "log_lik[47]  -1.23  2.9e-3   0.13  -1.52  -1.31  -1.22  -1.14  -0.99   2105    1.0\n",
      "log_lik[48]  -1.24  3.0e-3   0.14  -1.54  -1.33  -1.23  -1.15   -1.0   2052    1.0\n",
      "log_lik[49]  -1.03  2.5e-3    0.1  -1.23  -1.09  -1.02  -0.96  -0.83   1677    1.0\n",
      "log_lik[50]  -2.23  6.8e-3   0.31  -2.91  -2.42  -2.21  -2.01   -1.7   2092    1.0\n",
      "log_lik[51]  -1.44  4.1e-3   0.18  -1.84  -1.55  -1.42  -1.31  -1.13   1975    1.0\n",
      "log_lik[52]  -1.08  2.8e-3   0.12  -1.32  -1.15  -1.07   -1.0  -0.87   1688    1.0\n",
      "log_lik[53]  -1.49  4.6e-3    0.2  -1.93  -1.61  -1.47  -1.34  -1.15   1897    1.0\n",
      "log_lik[54]  -1.19  3.5e-3   0.15  -1.51  -1.27  -1.18  -1.09  -0.94   1733    1.0\n",
      "log_lik[55]  -1.13  3.3e-3   0.13  -1.43  -1.21  -1.12  -1.04   -0.9   1671    1.0\n",
      "log_lik[56]  -1.54  5.7e-3   0.23  -2.05  -1.68  -1.51  -1.37  -1.16   1652    1.0\n",
      "log_lik[57]  -1.04  2.6e-3   0.11  -1.26  -1.11  -1.04  -0.97  -0.83   1703    1.0\n",
      "log_lik[58]  -1.58  6.3e-3   0.25  -2.14  -1.74  -1.55   -1.4  -1.17   1610    1.0\n",
      "log_lik[59]  -1.39  5.2e-3   0.21  -1.87  -1.51  -1.36  -1.23  -1.05   1684    1.0\n",
      "log_lik[60]  -1.83  8.0e-3   0.32  -2.53  -2.03   -1.8  -1.61  -1.31   1578    1.0\n",
      "log_lik[61]  -1.62  6.7e-3   0.28  -2.23  -1.78  -1.59  -1.41  -1.18   1691    1.0\n",
      "lp__        -56.56    0.05   1.57 -60.74 -57.27 -56.18 -55.43  -54.7   1152    1.0\n",
      "\n",
      "Samples were drawn using NUTS at Thu Aug 17 14:15:45 2017.\n",
      "For each parameter, n_eff is a crude measure of effective sample size,\n",
      "and Rhat is the potential scale reduction factor on split chains (at \n",
      "convergence, Rhat=1).\n"
     ]
    }
   ],
   "source": [
    "print(fit)"
   ]
  },
  {
   "cell_type": "markdown",
   "metadata": {},
   "source": [
    "Without standardization we'are again get smaller n_eff's, but large enough for practical purposes.\n",
    "\n",
    "Check the treedepth, E-BFMI, and divergences"
   ]
  },
  {
   "cell_type": "code",
   "execution_count": 52,
   "metadata": {},
   "outputs": [
    {
     "name": "stdout",
     "output_type": "stream",
     "text": [
      "98 of 4000 iterations saturated the maximum tree depth of 10 (2.45%)\n",
      "Run again with max_depth set to a larger value to avoid saturation\n",
      "0.0 of 4000 iterations ended with a divergence (0.0%)\n"
     ]
    }
   ],
   "source": [
    "stan_utility.check_treedepth(fit)\n",
    "stan_utility.check_energy(fit)\n",
    "stan_utility.check_div(fit)"
   ]
  },
  {
   "cell_type": "markdown",
   "metadata": {},
   "source": [
    "We see again many iterations saturating the maximum tree depth, which is harmful for the efficiency but doesn't invalidate the results."
   ]
  },
  {
   "cell_type": "markdown",
   "metadata": {},
   "source": [
    "Compute the probability that the summer temperature is increasing."
   ]
  },
  {
   "cell_type": "code",
   "execution_count": 55,
   "metadata": {},
   "outputs": [
    {
     "name": "stdout",
     "output_type": "stream",
     "text": [
      "Pr(beta > 0) = 0.99575\n"
     ]
    }
   ],
   "source": [
    "samples = fit.extract(permuted=True)\n",
    "print('Pr(beta > 0) = {}'.format(np.mean(samples['beta']>0)))"
   ]
  },
  {
   "cell_type": "markdown",
   "metadata": {},
   "source": [
    "We get similar probability as with Gaussian obervation model."
   ]
  },
  {
   "cell_type": "markdown",
   "metadata": {},
   "source": [
    "Plot the data, the model fit, and the marginal posteriors for sigma and nu."
   ]
  },
  {
   "cell_type": "code",
   "execution_count": 56,
   "metadata": {},
   "outputs": [
    {
     "name": "stdout",
     "output_type": "stream",
     "text": [
      "Pr(beta > 0) = 0.99575\n"
     ]
    },
    {
     "data": {
      "image/png": "[encoded data removed]",
      "text/plain": [
       "<matplotlib.figure.Figure at 0x7f0101c66c50>"
      ]
     },
     "metadata": {},
     "output_type": "display_data"
    }
   ],
   "source": [
    "samples = fit.extract(permuted=True)\n",
    "plt.figure(figsize=(8,12))\n",
    "plt.subplot(4,1,1)\n",
    "plt.plot(x,\n",
    "    np.percentile(samples['mu'], 50, axis=0),\n",
    "    color='#e41a1c',\n",
    "    linewidth=1\n",
    ")\n",
    "plt.plot(\n",
    "    x,\n",
    "    np.asarray(np.percentile(samples['mu'], [5, 95], axis=0)).T,\n",
    "    color='#e41a1c',\n",
    "    linestyle='--',\n",
    "    linewidth=1,\n",
    ")\n",
    "plt.scatter(x, y, 5, color='#377eb8')\n",
    "plt.xlabel('Year')\n",
    "plt.ylabel('Summer temperature at Kilpisjarvi')\n",
    "plt.xlim((1952,2013))\n",
    "plt.subplot(4,1,2)\n",
    "plt.hist(samples['beta'], 50)\n",
    "plt.xlabel('beta')\n",
    "plt.subplot(4,1,3)\n",
    "plt.hist(samples['sigma'], 50)\n",
    "plt.xlabel('sigma')\n",
    "plt.subplot(4,1,4)\n",
    "plt.hist(samples['nu'], 50)\n",
    "plt.xlabel('nu')\n",
    "plt.tight_layout();"
   ]
  },
  {
   "cell_type": "markdown",
   "metadata": {},
   "source": [
    "The posterior of nu reveals that Gaussian model is likely to be ok, as Student's t with nu>20 is very close to Gaussian."
   ]
  },
  {
   "cell_type": "markdown",
   "metadata": {},
   "source": [
    "# Comparison of k groups with hierarchical models\n",
    "\n",
    "Let's compare the temperatures in three summer months."
   ]
  },
  {
   "cell_type": "code",
   "execution_count": 59,
   "metadata": {
    "collapsed": true
   },
   "outputs": [],
   "source": [
    "data_path = '../utilities_and_data/kilpisjarvi-summer-temp.csv'\n",
    "d = np.loadtxt(data_path, dtype=np.double, delimiter=';', skiprows=1)\n",
    "# Is there difference between different summer months?\n",
    "x = np.tile(np.arange(1,4), d.shape[0]) # summer months are numbered from 1 to 3\n",
    "y = d[:,1:4].ravel()\n",
    "N = len(x)\n",
    "data = dict(\n",
    "    N = N,\n",
    "    K = 3,  # 3 groups\n",
    "    x = x,  # group indicators\n",
    "    y = y   # observations\n",
    ")"
   ]
  },
  {
   "cell_type": "markdown",
   "metadata": {},
   "source": [
    "## Common variance (ANOVA) model"
   ]
  },
  {
   "cell_type": "code",
   "execution_count": 57,
   "metadata": {
    "scrolled": false
   },
   "outputs": [
    {
     "name": "stdout",
     "output_type": "stream",
     "text": [
      "// Comparison of k groups with common variance (ANOVA)\n",
      "data {\n",
      "  int<lower=0> N; // number of data points\n",
      "  int<lower=0> K; // number of groups\n",
      "  int<lower=1,upper=K> x[N]; // group indicator\n",
      "  vector[N] y; //\n",
      "}\n",
      "parameters {\n",
      "  vector[K] mu;        // group means\n",
      "  real<lower=0> sigma; // common std\n",
      "}\n",
      "model {\n",
      "  y ~ normal(mu[x], sigma);\n",
      "}\n",
      "\n"
     ]
    }
   ],
   "source": [
    "with open('grp_aov.stan', 'r') as file:\n",
    "    print(file.read())"
   ]
  },
  {
   "cell_type": "markdown",
   "metadata": {},
   "source": [
    "Fit the model"
   ]
  },
  {
   "cell_type": "code",
   "execution_count": 60,
   "metadata": {},
   "outputs": [
    {
     "name": "stdout",
     "output_type": "stream",
     "text": [
      "Using cached StanModel\n"
     ]
    }
   ],
   "source": [
    "model = stan_utility.compile_model('grp_aov.stan')\n",
    "fit = model.sampling(data=data)\n",
    "samples = fit.extract(permuted=True)"
   ]
  },
  {
   "cell_type": "markdown",
   "metadata": {},
   "source": [
    "Check the n_eff and Rhat"
   ]
  },
  {
   "cell_type": "code",
   "execution_count": 61,
   "metadata": {
    "scrolled": false
   },
   "outputs": [
    {
     "name": "stdout",
     "output_type": "stream",
     "text": [
      "Inference for Stan model: anon_model_7564a28d1f0313ff396284979a4361d6.\n",
      "4 chains, each with iter=2000; warmup=1000; thin=1; \n",
      "post-warmup draws per chain=1000, total post-warmup draws=4000.\n",
      "\n",
      "        mean se_mean     sd   2.5%    25%    50%    75%  97.5%  n_eff   Rhat\n",
      "mu[0]   7.54  3.3e-3    0.2   7.15   7.41   7.54   7.68   7.93   3627    1.0\n",
      "mu[1]  10.96  3.1e-3    0.2  10.56  10.83  10.96   11.1  11.34   3918    1.0\n",
      "mu[2]   9.44  3.0e-3   0.19   9.06   9.31   9.44   9.56   9.82   4000    1.0\n",
      "sigma   1.53  1.4e-3   0.08   1.38   1.47   1.53   1.58    1.7   3602    1.0\n",
      "lp__  -170.9    0.03   1.44 -174.6 -171.6 -170.5 -169.8 -169.1   1989    1.0\n",
      "\n",
      "Samples were drawn using NUTS at Thu Aug 17 23:09:58 2017.\n",
      "For each parameter, n_eff is a crude measure of effective sample size,\n",
      "and Rhat is the potential scale reduction factor on split chains (at \n",
      "convergence, Rhat=1).\n"
     ]
    }
   ],
   "source": [
    "print(fit)"
   ]
  },
  {
   "cell_type": "markdown",
   "metadata": {},
   "source": [
    "Check the treedepth, E-BFMI, and divergences"
   ]
  },
  {
   "cell_type": "code",
   "execution_count": 62,
   "metadata": {},
   "outputs": [
    {
     "name": "stdout",
     "output_type": "stream",
     "text": [
      "0 of 4000 iterations saturated the maximum tree depth of 10 (0.0%)\n",
      "0.0 of 4000 iterations ended with a divergence (0.0%)\n"
     ]
    }
   ],
   "source": [
    "stan_utility.check_treedepth(fit)\n",
    "stan_utility.check_energy(fit)\n",
    "stan_utility.check_div(fit)"
   ]
  },
  {
   "cell_type": "markdown",
   "metadata": {},
   "source": [
    "Plot group mean distributions and matrix of probabilities that one mu is larger than other:"
   ]
  },
  {
   "cell_type": "code",
   "execution_count": 66,
   "metadata": {},
   "outputs": [
    {
     "name": "stdout",
     "output_type": "stream",
     "text": [
      "Matrix of probabilities that one mu is larger than other:\n",
      "[[ 0.  0.  0.]\n",
      " [ 1.  0.  1.]\n",
      " [ 1.  0.  0.]]\n"
     ]
    },
    {
     "data": {
      "image/png": "[encoded data removed]",
      "text/plain": [
       "<matplotlib.figure.Figure at 0x7f01000f64e0>"
      ]
     },
     "metadata": {},
     "output_type": "display_data"
    }
   ],
   "source": [
    "plt.violinplot(mu,showmeans=True,showextrema=False);\n",
    "mu = fit.extract(permuted=True)['mu']\n",
    "ps = np.zeros((3,3))b\n",
    "for k1 in range(3):\n",
    "    for k2 in range(k1+1,3):\n",
    "        ps[k1,k2] = np.mean(mu[:,k1]>mu[:,k2])\n",
    "        ps[k2,k1] = 1 - ps[k1,k2]\n",
    "print(\"Matrix of probabilities that one mu is larger than other:\")\n",
    "print(ps)"
   ]
  },
  {
   "cell_type": "markdown",
   "metadata": {},
   "source": [
    "## Common variance and hierarchical prior for mean.\n",
    "\n",
    "Results do not differ much from the previous, because there is only\n",
    "few groups and quite much data per group, but this works as an example of a hierarchical model.\n"
   ]
  },
  {
   "cell_type": "code",
   "execution_count": 67,
   "metadata": {
    "scrolled": false
   },
   "outputs": [
    {
     "name": "stdout",
     "output_type": "stream",
     "text": [
      "// Comparison of k groups with common variance and\n",
      "// hierarchical prior for the mean\n",
      "data {\n",
      "    int<lower=0> N; // number of data points\n",
      "    int<lower=0> K; // number of groups\n",
      "    int<lower=1,upper=K> x[N]; // group indicator\n",
      "    vector[N] y; //\n",
      "}\n",
      "parameters {\n",
      "    real mu0;             // prior mean\n",
      "    real<lower=0> sigma0; // prior std\n",
      "    vector[K] mu;         // group means\n",
      "    real<lower=0> sigma;  // common std\n",
      "}\n",
      "model {\n",
      "  mu0 ~ normal(10,10);      // weakly informative prior\n",
      "  sigma0 ~ cauchy(0,4);     // weakly informative prior\n",
      "  mu ~ normal(mu0, sigma0); // population prior with unknown parameters\n",
      "  sigma ~ cauchy(0,4);      // weakly informative prior\n",
      "  y ~ normal(mu[x], sigma);\n",
      "}\n",
      "\n"
     ]
    }
   ],
   "source": [
    "with open('grp_prior_mean.stan', 'r') as file:\n",
    "    print(file.read())"
   ]
  },
  {
   "cell_type": "markdown",
   "metadata": {},
   "source": [
    "Fit the model"
   ]
  },
  {
   "cell_type": "code",
   "execution_count": 68,
   "metadata": {},
   "outputs": [
    {
     "name": "stderr",
     "output_type": "stream",
     "text": [
      "INFO:pystan:COMPILING THE C++ CODE FOR MODEL anon_model_323d20ff1d7ed8fcfbd94da1ca27c19c NOW.\n"
     ]
    }
   ],
   "source": [
    "model = stan_utility.compile_model('grp_prior_mean.stan')\n",
    "fit = model.sampling(data=data)\n",
    "samples = fit.extract(permuted=True)"
   ]
  },
  {
   "cell_type": "markdown",
   "metadata": {},
   "source": [
    "## Unequal variance and hierarchical prior for mean and variance\n",
    "\n",
    "Results do not differ much from the previous, because there is only\n",
    "few groups and quite much data per group, but this works as an example of a hierarchical model."
   ]
  },
  {
   "cell_type": "code",
   "execution_count": 69,
   "metadata": {
    "scrolled": false
   },
   "outputs": [
    {
     "name": "stdout",
     "output_type": "stream",
     "text": [
      "// Comparison of k groups with unequal variance and\n",
      "// hierarchical priors for the mean and the variance\n",
      "data {\n",
      "  int<lower=0> N; // number of data points\n",
      "  int<lower=0> K; // number of groups\n",
      "  int<lower=1,upper=K> x[N]; // group indicator\n",
      "  vector[N] y; //\n",
      "}\n",
      "parameters {\n",
      "  real mu0;                 // prior mean\n",
      "  real<lower=0> musigma0;   // prior std\n",
      "  vector[K] mu;             // group means\n",
      "  real lsigma0;             // prior mean\n",
      "  real<lower=0> lsigma0s;   // prior std\n",
      "  vector<lower=0>[K] sigma; // group stds\n",
      "}\n",
      "model {\n",
      "  mu0 ~ normal(10, 10);       // weakly informative prior\n",
      "  musigma0 ~ cauchy(0,10);    // weakly informative prior\n",
      "  mu ~ normal(mu0, musigma0); // population prior with unknown parameters\n",
      "  lsigma0 ~ normal(0,1);      // weakly informative prior\n",
      "  lsigma0s ~ normal(0,1);     // weakly informative prior\n",
      "  sigma ~ cauchy(lsigma0, lsigma0s); // population prior with unknown parameters\n",
      "  y ~ normal(mu[x], sigma[x]);\n",
      "}\n",
      "\n"
     ]
    }
   ],
   "source": [
    "with open('grp_prior_mean_var.stan', 'r') as file:\n",
    "    print(file.read())"
   ]
  },
  {
   "cell_type": "markdown",
   "metadata": {},
   "source": [
    "Fit the model"
   ]
  },
  {
   "cell_type": "code",
   "execution_count": 70,
   "metadata": {},
   "outputs": [
    {
     "name": "stderr",
     "output_type": "stream",
     "text": [
      "INFO:pystan:COMPILING THE C++ CODE FOR MODEL anon_model_2f157eda9830d6c0deb5559f82c524bb NOW.\n"
     ]
    }
   ],
   "source": [
    "model = stan_utility.compile_model('grp_prior_mean_var.stan')\n",
    "fit = model.sampling(data=data)\n",
    "samples = fit.extract(permuted=True)"
   ]
  },
  {
   "cell_type": "markdown",
   "metadata": {},
   "source": [
    "Plot group mean distributions and matrix of probabilities that one mu is larger than other:"
   ]
  },
  {
   "cell_type": "code",
   "execution_count": 72,
   "metadata": {},
   "outputs": [
    {
     "name": "stdout",
     "output_type": "stream",
     "text": [
      "std(mu0): 2.06\n",
      "Matrix of probabilities that one mu is larger than other:\n",
      "[[ 0.  0.  0.]\n",
      " [ 1.  0.  1.]\n",
      " [ 1.  0.  0.]]\n"
     ]
    },
    {
     "data": {
      "image/png": "[encoded data removed]",
      "text/plain": [
       "<matplotlib.figure.Figure at 0x7f01047e0208>"
      ]
     },
     "metadata": {},
     "output_type": "display_data"
    }
   ],
   "source": [
    "samples = fit.extract(permuted=True)\n",
    "print(\"std(mu0): {0:.2f}\".format(np.std(samples['mu0'])))\n",
    "mu = samples['mu']\n",
    "# Matrix of probabilities that one mu is larger than other\n",
    "ps = np.zeros((3,3))\n",
    "for k1 in range(3):\n",
    "    for k2 in range(k1+1,3):\n",
    "        ps[k1,k2] = np.mean(mu[:,k1]>mu[:,k2])\n",
    "        ps[k2,k1] = 1 - ps[k1,k2]\n",
    "print(\"Matrix of probabilities that one mu is larger than other:\")\n",
    "print(ps)\n",
    "# Plot\n",
    "plt.violinplot(mu,showmeans=True,showextrema=False);"
   ]
  }
 ],
 "metadata": {
  "kernelspec": {
   "display_name": "Python 3",
   "language": "python",
   "name": "python3"
  },
  "language_info": {
   "codemirror_mode": {
    "name": "ipython",
    "version": 3
   },
   "file_extension": ".py",
   "mimetype": "text/x-python",
   "name": "python",
   "nbconvert_exporter": "python",
   "pygments_lexer": "ipython3",
   "version": "3.6.2"
  }
 },
 "nbformat": 4,
 "nbformat_minor": 1
}
