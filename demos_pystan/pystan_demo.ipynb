{
 "cells": [
  {
   "cell_type": "markdown",
   "metadata": {},
   "source": [
    "# Bayesian data analysis - PyStan demos\n",
    "Author: Aki Vehtari, Markus Paasiniemi\n",
    "\n",
    "License: CC-BY\n",
    "\n",
    "Examples how to use [Stan](http://mc-stan.org) in Python with [PyStan](http://pystan.readthedocs.org). This notebook assumes basic knowledge of Bayesian inference and MCMC. The Stan models are stored in separate .stan-files."
   ]
  },
  {
   "cell_type": "markdown",
   "metadata": {},
   "source": [
    "## Setting up the PyStan environment\n",
    "\n",
    "We begin by importing the PyStan module as well at the matplotlib module for basic graphics facilities."
   ]
  },
  {
   "cell_type": "code",
   "execution_count": 1,
   "metadata": {
    "collapsed": true
   },
   "outputs": [],
   "source": [
    "%matplotlib inline\n",
    "\n",
    "import numpy as np\n",
    "import pystan\n",
    "import matplotlib as mpl\n",
    "import matplotlib.pyplot as plt"
   ]
  },
  {
   "cell_type": "code",
   "execution_count": 2,
   "metadata": {
    "collapsed": false
   },
   "outputs": [],
   "source": [
    "# edit default plot settings\n",
    "plt.rc('font', size=12)"
   ]
  },
  {
   "cell_type": "markdown",
   "metadata": {},
   "source": [
    "We also import some utilities by Michael Betancourt and introduced in [PyStan workflow case study](http://mc-stan.org/users/documentation/case-studies/pystan_workflow.html)"
   ]
  },
  {
   "cell_type": "code",
   "execution_count": 3,
   "metadata": {
    "collapsed": true
   },
   "outputs": [],
   "source": [
    "import stan_utility"
   ]
  },
  {
   "cell_type": "markdown",
   "metadata": {},
   "source": [
    "## Bernoulli model\n",
    "\n",
    "Toy data with sequence of failures (0) and successes (1). We would like to learn about the unknown probability of success."
   ]
  },
  {
   "cell_type": "code",
   "execution_count": 4,
   "metadata": {
    "collapsed": true
   },
   "outputs": [],
   "source": [
    "data = dict(N=10, y=[0,1,0,0,1,1,1,0,1,0])"
   ]
  },
  {
   "cell_type": "markdown",
   "metadata": {},
   "source": [
    "Bernoulli model with a Beta(1,1) (uniform) prior"
   ]
  },
  {
   "cell_type": "code",
   "execution_count": 5,
   "metadata": {
    "collapsed": false
   },
   "outputs": [
    {
     "name": "stdout",
     "output_type": "stream",
     "text": [
      "// Bernoulli model\r\n",
      "data {\r\n",
      "  int<lower=0> N;\r\n",
      "  int<lower=0,upper=1> y[N];\r\n",
      "}\r\n",
      "parameters {\r\n",
      "  real<lower=0,upper=1> theta;\r\n",
      "}\r\n",
      "model {\r\n",
      "  theta ~ beta(1,1);\r\n",
      "  y ~ bernoulli(theta);\r\n",
      "}\r\n"
     ]
    }
   ],
   "source": [
    "%cat bern.stan"
   ]
  },
  {
   "cell_type": "markdown",
   "metadata": {},
   "source": [
    "Given the Stan program we then use the `compile_model` method of `stan_utility` module to compile the Stan program into a C++ executable. This utility function automatically saves a cached version of the compiled model to the disk for possible future use."
   ]
  },
  {
   "cell_type": "code",
   "execution_count": 7,
   "metadata": {
    "collapsed": false
   },
   "outputs": [
    {
     "name": "stderr",
     "output_type": "stream",
     "text": [
      "INFO:pystan:COMPILING THE C++ CODE FOR MODEL anon_model_4586f2dc76604848221fafe6413762a9 NOW.\n"
     ]
    }
   ],
   "source": [
    "model = stan_utility.compile_model('bern.stan')"
   ]
  },
  {
   "cell_type": "markdown",
   "metadata": {},
   "source": [
    "Recompiling the model again with the utility function uses the cached version automatically."
   ]
  },
  {
   "cell_type": "code",
   "execution_count": 8,
   "metadata": {
    "collapsed": false
   },
   "outputs": [
    {
     "name": "stdout",
     "output_type": "stream",
     "text": [
      "Using cached StanModel\n"
     ]
    }
   ],
   "source": [
    "del model\n",
    "model = stan_utility.compile_model('bern.stan')"
   ]
  },
  {
   "cell_type": "markdown",
   "metadata": {},
   "source": [
    "Sample form the posterior, show the summary and plot the histogram of the posterior draws."
   ]
  },
  {
   "cell_type": "code",
   "execution_count": 9,
   "metadata": {
    "collapsed": false
   },
   "outputs": [
    {
     "name": "stdout",
     "output_type": "stream",
     "text": [
      "Inference for Stan model: anon_model_4586f2dc76604848221fafe6413762a9.\n",
      "4 chains, each with iter=2000; warmup=1000; thin=1; \n",
      "post-warmup draws per chain=1000, total post-warmup draws=4000.\n",
      "\n",
      "        mean se_mean     sd   2.5%    25%    50%    75%  97.5%  n_eff   Rhat\n",
      "theta   0.49  3.5e-3   0.14   0.23    0.4    0.5   0.59   0.76   1515    1.0\n",
      "lp__   -8.82    0.02   0.75  -10.9  -8.96  -8.54  -8.37  -8.32   1644    1.0\n",
      "\n",
      "Samples were drawn using NUTS at Wed Aug 23 10:31:47 2017.\n",
      "For each parameter, n_eff is a crude measure of effective sample size,\n",
      "and Rhat is the potential scale reduction factor on split chains (at \n",
      "convergence, Rhat=1).\n"
     ]
    },
    {
     "data": {
      "image/png": "[encoded data removed]",
      "text/plain": [
       "<matplotlib.figure.Figure at 0x7f8bb4f6deb8>"
      ]
     },
     "metadata": {},
     "output_type": "display_data"
    }
   ],
   "source": [
    "fit = model.sampling(data=data)\n",
    "print(fit)\n",
    "samples = fit.extract(permuted=True)\n",
    "plt.hist(samples['theta'], 50);"
   ]
  },
  {
   "cell_type": "markdown",
   "metadata": {},
   "source": [
    "## Binomial model\n",
    "\n",
    "Instead of sequence of 0's and 1's, we can summarize the data with the number of experiments and the number successes:"
   ]
  },
  {
   "cell_type": "code",
   "execution_count": 10,
   "metadata": {
    "collapsed": true
   },
   "outputs": [],
   "source": [
    "data = dict(N=10, y=8)"
   ]
  },
  {
   "cell_type": "markdown",
   "metadata": {},
   "source": [
    "And then we use Binomial model with Beta(1,1) prior for the probability of success."
   ]
  },
  {
   "cell_type": "code",
   "execution_count": 11,
   "metadata": {
    "collapsed": false
   },
   "outputs": [
    {
     "name": "stdout",
     "output_type": "stream",
     "text": [
      "// Binomial model with beta(1,1,) prior\r\n",
      "data {\r\n",
      "  int<lower=0> N;\r\n",
      "  int<lower=0> y;\r\n",
      "}\r\n",
      "parameters {\r\n",
      "  real<lower=0,upper=1> theta;\r\n",
      "}\r\n",
      "model {\r\n",
      "  theta ~ beta(1,1);\r\n",
      "  y ~ binomial(N,theta);\r\n",
      "}\r\n"
     ]
    }
   ],
   "source": [
    "%cat binom.stan"
   ]
  },
  {
   "cell_type": "markdown",
   "metadata": {},
   "source": [
    "Sample from the posterior and plot the posterior. The histogram should look similar as in the Bernoulli case."
   ]
  },
  {
   "cell_type": "code",
   "execution_count": 12,
   "metadata": {
    "collapsed": false
   },
   "outputs": [
    {
     "name": "stdout",
     "output_type": "stream",
     "text": [
      "Using cached StanModel\n"
     ]
    },
    {
     "data": {
      "image/png": "[encoded data removed]",
      "text/plain": [
       "<matplotlib.figure.Figure at 0x7f8bb4f432e8>"
      ]
     },
     "metadata": {},
     "output_type": "display_data"
    }
   ],
   "source": [
    "model = stan_utility.compile_model('binom.stan')\n",
    "fit = model.sampling(data=data)\n",
    "samples = fit.extract(permuted=True)\n",
    "plt.hist(samples['theta'], 50);"
   ]
  },
  {
   "cell_type": "markdown",
   "metadata": {},
   "source": [
    "Re-run the model with a new data. Here the same compiled model object is reused."
   ]
  },
  {
   "cell_type": "code",
   "execution_count": 13,
   "metadata": {
    "collapsed": false
   },
   "outputs": [
    {
     "data": {
      "image/png": "[encoded data removed]",
      "text/plain": [
       "<matplotlib.figure.Figure at 0x7f8bb50045f8>"
      ]
     },
     "metadata": {},
     "output_type": "display_data"
    }
   ],
   "source": [
    "data = dict(N=10, y=10)\n",
    "fit = model.sampling(data=data)\n",
    "samples = fit.extract(permuted=True)\n",
    "plt.hist(samples['theta'], 50);"
   ]
  },
  {
   "cell_type": "markdown",
   "metadata": {},
   "source": [
    "## Comparison of two groups with Binomial\n",
    "\n",
    "An experiment was performed to estimate the effect of beta-blockers on mortality of cardiac patients. A group of patients were randomly assigned to treatment and control groups:\n",
    "\n",
    "- out of 674 patients receiving the control, 39 died\n",
    "- out of 680 receiving the treatment, 22 died"
   ]
  },
  {
   "cell_type": "code",
   "execution_count": 14,
   "metadata": {
    "collapsed": true
   },
   "outputs": [],
   "source": [
    "data = dict(N1=674, y1=39, N2=680, y2=22)"
   ]
  },
  {
   "cell_type": "markdown",
   "metadata": {},
   "source": [
    "To analyse whether the treatment is useful, we can use Binomial model for both groups and compute odds-ratio:"
   ]
  },
  {
   "cell_type": "code",
   "execution_count": 15,
   "metadata": {
    "collapsed": false
   },
   "outputs": [
    {
     "name": "stdout",
     "output_type": "stream",
     "text": [
      "//  Comparison of two groups with Binomial\r\n",
      "data {\r\n",
      "  int<lower=0> N1;\r\n",
      "  int<lower=0> y1;\r\n",
      "  int<lower=0> N2;\r\n",
      "  int<lower=0> y2;\r\n",
      "}\r\n",
      "parameters {\r\n",
      "  real<lower=0,upper=1> theta1;\r\n",
      "  real<lower=0,upper=1> theta2;\r\n",
      "}\r\n",
      "model {\r\n",
      "  theta1 ~ beta(1,1);\r\n",
      "  theta2 ~ beta(1,1);\r\n",
      "  y1 ~ binomial(N1,theta1);\r\n",
      "  y2 ~ binomial(N2,theta2);\r\n",
      "}\r\n",
      "generated quantities {\r\n",
      "  real oddsratio;\r\n",
      "  oddsratio = (theta2/(1-theta2))/(theta1/(1-theta1));\r\n",
      "}\r\n"
     ]
    }
   ],
   "source": [
    "%cat binom2.stan"
   ]
  },
  {
   "cell_type": "markdown",
   "metadata": {},
   "source": [
    "Sample from the posterior and plot the posterior"
   ]
  },
  {
   "cell_type": "code",
   "execution_count": 16,
   "metadata": {
    "collapsed": false
   },
   "outputs": [
    {
     "name": "stderr",
     "output_type": "stream",
     "text": [
      "INFO:pystan:COMPILING THE C++ CODE FOR MODEL anon_model_f7225537f3d9d3af861d4f45c7f8da01 NOW.\n"
     ]
    },
    {
     "data": {
      "image/png": "[encoded data removed]",
      "text/plain": [
       "<matplotlib.figure.Figure at 0x7f8bb4f6dcf8>"
      ]
     },
     "metadata": {},
     "output_type": "display_data"
    }
   ],
   "source": [
    "model = stan_utility.compile_model('binom2.stan')\n",
    "fit = model.sampling(data=data)\n",
    "samples = fit.extract(permuted=True)\n",
    "plt.hist(samples['oddsratio'], 50);"
   ]
  },
  {
   "cell_type": "markdown",
   "metadata": {},
   "source": [
    "## Linear Gaussian model\n",
    "\n",
    "The following file has Kilpisjärvi summer month temperatures 1952-2013:"
   ]
  },
  {
   "cell_type": "code",
   "execution_count": 17,
   "metadata": {
    "collapsed": true
   },
   "outputs": [],
   "source": [
    "data_path = '../utilities_and_data/kilpisjarvi-summer-temp.csv'\n",
    "d = np.loadtxt(data_path, dtype=np.double, delimiter=';', skiprows=1)\n",
    "x = d[:, 0]\n",
    "y = d[:, 4]\n",
    "N = len(x)\n",
    "xpred = 2016"
   ]
  },
  {
   "cell_type": "markdown",
   "metadata": {},
   "source": [
    "Plot the data"
   ]
  },
  {
   "cell_type": "code",
   "execution_count": 18,
   "metadata": {
    "collapsed": false
   },
   "outputs": [
    {
     "data": {
      "image/png": "[encoded data removed]",
      "text/plain": [
       "<matplotlib.figure.Figure at 0x7f8bb556d470>"
      ]
     },
     "metadata": {},
     "output_type": "display_data"
    }
   ],
   "source": [
    "# make slightly wider figure\n",
    "wide_figsize = plt.rcParams['figure.figsize'].copy()\n",
    "wide_figsize[0] *= 1.4\n",
    "plt.figure(figsize=wide_figsize)\n",
    "plt.scatter(x, y)\n",
    "plt.xlabel('year')\n",
    "plt.ylabel('summer temperature at Kilpisjarvi');"
   ]
  },
  {
   "cell_type": "markdown",
   "metadata": {},
   "source": [
    "To analyse whether the average summer month temperature is rising, we use a linear model with Gaussian model for the unexplained variation. \n",
    "\n",
    "### Gaussian linear model with adjustable priors\n",
    "\n",
    "The folloing Stan code allows also setting hyperparameter values as data allowing easier way to use different priors in different analyses:"
   ]
  },
  {
   "cell_type": "code",
   "execution_count": 19,
   "metadata": {
    "collapsed": false
   },
   "outputs": [
    {
     "name": "stdout",
     "output_type": "stream",
     "text": [
      "// Gaussian linear model with adjustable priors\r\n",
      "data {\r\n",
      "  int<lower=0> N; // number of data points\r\n",
      "  vector[N] x; //\r\n",
      "  vector[N] y; //\r\n",
      "  real xpred; // input location for prediction\r\n",
      "  real pmualpha; // prior mean for alpha\r\n",
      "  real psalpha;  // prior std for alpha\r\n",
      "  real pmubeta;  // prior mean for beta\r\n",
      "  real psbeta;   // prior std for beta\r\n",
      "}\r\n",
      "parameters {\r\n",
      "  real alpha;\r\n",
      "  real beta;\r\n",
      "  real<lower=0> sigma;\r\n",
      "}\r\n",
      "transformed parameters {\r\n",
      "  vector[N] mu;\r\n",
      "  mu = alpha + beta*x;\r\n",
      "}\r\n",
      "model {\r\n",
      "  alpha ~ normal(pmualpha, psalpha);\r\n",
      "  beta ~ normal(pmubeta, psbeta);\r\n",
      "  y ~ normal(mu, sigma);\r\n",
      "}\r\n",
      "generated quantities {\r\n",
      "  real ypred;\r\n",
      "  vector[N] log_lik;\r\n",
      "  ypred = normal_rng(alpha + beta*xpred, sigma);\r\n",
      "  for (i in 1:N)\r\n",
      "    log_lik[i] = normal_lpdf(y[i] | mu[i], sigma);\r\n",
      "}\r\n"
     ]
    }
   ],
   "source": [
    "%cat lin.stan"
   ]
  },
  {
   "cell_type": "markdown",
   "metadata": {},
   "source": [
    "Create a list with data and priors:"
   ]
  },
  {
   "cell_type": "code",
   "execution_count": 20,
   "metadata": {
    "collapsed": false
   },
   "outputs": [],
   "source": [
    "data = dict(\n",
    "    N = N,\n",
    "    x = x,\n",
    "    y = y,\n",
    "    xpred = xpred,\n",
    "    pmualpha = y.mean(),     # centered\n",
    "    psalpha  = 100,          # weakly informative prior\n",
    "    pmubeta  = 0,            # a priori increase and decrese as likely\n",
    "    psbeta   = (.1--.1)/6.0  # avg temp probably does not increase more than 1\n",
    "                             # degree per 10 years\n",
    ")"
   ]
  },
  {
   "cell_type": "markdown",
   "metadata": {},
   "source": [
    "Run Stan"
   ]
  },
  {
   "cell_type": "code",
   "execution_count": 21,
   "metadata": {
    "collapsed": false
   },
   "outputs": [
    {
     "name": "stdout",
     "output_type": "stream",
     "text": [
      "Using cached StanModel\n"
     ]
    }
   ],
   "source": [
    "model = stan_utility.compile_model('lin.stan')\n",
    "fit = model.sampling(data=data)\n",
    "samples = fit.extract(permuted=True)"
   ]
  },
  {
   "cell_type": "markdown",
   "metadata": {},
   "source": [
    "Check the `n_eff` and `Rhat`"
   ]
  },
  {
   "cell_type": "code",
   "execution_count": 22,
   "metadata": {
    "collapsed": false
   },
   "outputs": [
    {
     "name": "stdout",
     "output_type": "stream",
     "text": [
      "Inference for Stan model: anon_model_6d95d5cbf9b9fb7d99a793b066a7bb72.\n",
      "4 chains, each with iter=2000; warmup=1000; thin=1; \n",
      "post-warmup draws per chain=1000, total post-warmup draws=4000.\n",
      "\n",
      "              mean se_mean     sd   2.5%    25%    50%    75%  97.5%  n_eff   Rhat\n",
      "alpha       -28.87    0.49  15.12 -58.63 -38.93 -29.61 -18.98   1.76    965    1.0\n",
      "beta          0.02  2.5e-4 7.6e-3 3.8e-3   0.01   0.02   0.02   0.03    966    1.0\n",
      "sigma         1.13  3.3e-3   0.11   0.95   1.06   1.12    1.2   1.37   1083    1.0\n",
      "mu[0]         8.73  8.1e-3   0.28    8.2   8.55   8.72   8.91   9.31   1167    1.0\n",
      "mu[1]         8.75  7.8e-3   0.27   8.23   8.57   8.74   8.92   9.32   1181    1.0\n",
      "mu[2]         8.77  7.6e-3   0.26   8.26   8.59   8.76   8.94   9.32   1197    1.0\n",
      "mu[3]         8.79  7.4e-3   0.26   8.29   8.62   8.78   8.95   9.33   1214    1.0\n",
      "mu[4]          8.8  7.1e-3   0.25   8.32   8.64    8.8   8.97   9.33   1232    1.0\n",
      "mu[5]         8.82  6.9e-3   0.24   8.35   8.66   8.82   8.98   9.34   1253    1.0\n",
      "mu[6]         8.84  6.7e-3   0.24   8.38   8.68   8.84    9.0   9.34   1276    1.0\n",
      "mu[7]         8.86  6.4e-3   0.23   8.41   8.71   8.86   9.01   9.35   1301    1.0\n",
      "mu[8]         8.88  6.2e-3   0.23   8.44   8.73   8.88   9.03   9.36   1330    1.0\n",
      "mu[9]          8.9  6.0e-3   0.22   8.47   8.75    8.9   9.04   9.36   1361    1.0\n",
      "mu[10]        8.92  5.7e-3   0.21    8.5   8.78   8.92   9.06   9.37   1397    1.0\n",
      "mu[11]        8.94  5.5e-3   0.21   8.53    8.8   8.94   9.08   9.37   1436    1.0\n",
      "mu[12]        8.96  5.3e-3    0.2   8.56   8.82   8.96   9.09   9.38   1481    1.0\n",
      "mu[13]        8.98  5.1e-3    0.2   8.59   8.84   8.98   9.11   9.39   1531    1.0\n",
      "mu[14]         9.0  4.9e-3   0.19   8.62   8.87   8.99   9.12    9.4   1588    1.0\n",
      "mu[15]        9.02  4.6e-3   0.19   8.65   8.89   9.01   9.14    9.4   1653    1.0\n",
      "mu[16]        9.04  4.4e-3   0.18   8.68   8.91   9.03   9.16   9.41   1727    1.0\n",
      "mu[17]        9.06  4.2e-3   0.18   8.71   8.93   9.05   9.17   9.42   1812    1.0\n",
      "mu[18]        9.07  4.0e-3   0.18   8.74   8.95   9.07   9.19   9.43   1908    1.0\n",
      "mu[19]        9.09  3.8e-3   0.17   8.76   8.98   9.09   9.21   9.44   2018    1.0\n",
      "mu[20]        9.11  3.6e-3   0.17   8.79    9.0   9.11   9.22   9.45   2145    1.0\n",
      "mu[21]        9.13  3.2e-3   0.16   8.82   9.02   9.13   9.24   9.46   2625    1.0\n",
      "mu[22]        9.15  3.0e-3   0.16   8.84   9.04   9.15   9.26   9.47   2790    1.0\n",
      "mu[23]        9.17  2.9e-3   0.16   8.87   9.06   9.17   9.27   9.49   2970    1.0\n",
      "mu[24]        9.19  2.8e-3   0.15   8.89   9.08   9.19   9.29    9.5   3164    1.0\n",
      "mu[25]        9.21  2.6e-3   0.15   8.92    9.1   9.21   9.31   9.52   3367    1.0\n",
      "mu[26]        9.23  2.5e-3   0.15   8.94   9.13   9.23   9.33   9.54   3574    1.0\n",
      "mu[27]        9.25  2.4e-3   0.15   8.96   9.15   9.25   9.35   9.55   3773    1.0\n",
      "mu[28]        9.27  2.3e-3   0.15   8.99   9.17   9.27   9.37   9.56   3999    1.0\n",
      "mu[29]        9.29  2.3e-3   0.15    9.0   9.19   9.29   9.38   9.58   4000    1.0\n",
      "mu[30]        9.31  2.3e-3   0.15   9.02   9.21   9.31    9.4    9.6   4000    1.0\n",
      "mu[31]        9.32  2.3e-3   0.15   9.04   9.22   9.33   9.42   9.62   4000    1.0\n",
      "mu[32]        9.34  2.3e-3   0.15   9.06   9.24   9.34   9.44   9.63   4000    1.0\n",
      "mu[33]        9.36  2.3e-3   0.15   9.08   9.26   9.36   9.46   9.66   4000    1.0\n",
      "mu[34]        9.38  2.4e-3   0.15    9.1   9.28   9.38   9.48   9.68   3947    1.0\n",
      "mu[35]         9.4  2.4e-3   0.15   9.11    9.3    9.4    9.5    9.7   3819    1.0\n",
      "mu[36]        9.42  2.5e-3   0.15   9.13   9.32   9.42   9.52   9.72   3653    1.0\n",
      "mu[37]        9.44  2.6e-3   0.15   9.14   9.34   9.44   9.55   9.75   3477    1.0\n",
      "mu[38]        9.46  2.7e-3   0.16   9.16   9.35   9.46   9.57   9.77   3302    1.0\n",
      "mu[39]        9.48  2.9e-3   0.16   9.17   9.37   9.48   9.59    9.8   3036    1.0\n",
      "mu[40]         9.5  3.1e-3   0.16   9.18   9.39    9.5   9.61   9.82   2859    1.0\n",
      "mu[41]        9.52  3.2e-3   0.17   9.19    9.4   9.52   9.63   9.85   2697    1.0\n",
      "mu[42]        9.54  3.4e-3   0.17    9.2   9.42   9.54   9.65   9.87   2472    1.0\n",
      "mu[43]        9.56  3.6e-3   0.17   9.21   9.44   9.56   9.67    9.9   2338    1.0\n",
      "mu[44]        9.58  3.8e-3   0.18   9.22   9.45   9.58    9.7   9.92   2216    1.0\n",
      "mu[45]        9.59  4.0e-3   0.18   9.23   9.47    9.6   9.72   9.95   2108    1.0\n",
      "mu[46]        9.61  4.2e-3   0.19   9.24   9.49   9.62   9.74   9.98   2012    1.0\n",
      "mu[47]        9.63  4.4e-3   0.19   9.24    9.5   9.64   9.76  10.01   1927    1.0\n",
      "mu[48]        9.65  4.6e-3    0.2   9.25   9.52   9.66   9.79  10.04   1852    1.0\n",
      "mu[49]        9.67  4.8e-3    0.2   9.26   9.54   9.68   9.81  10.07   1785    1.0\n",
      "mu[50]        9.69  5.0e-3   0.21   9.27   9.55    9.7   9.83   10.1   1726    1.0\n",
      "mu[51]        9.71  5.2e-3   0.21   9.28   9.57   9.71   9.85  10.13   1669    1.0\n",
      "mu[52]        9.73  5.5e-3   0.22   9.28   9.58   9.73   9.88  10.16   1617    1.0\n",
      "mu[53]        9.75  5.7e-3   0.23   9.29    9.6   9.75    9.9  10.19   1571    1.0\n",
      "mu[54]        9.77  5.9e-3   0.23   9.29   9.62   9.77   9.92  10.22   1530    1.0\n",
      "mu[55]        9.79  6.1e-3   0.24    9.3   9.63   9.79   9.95  10.25   1493    1.0\n",
      "mu[56]        9.81  6.4e-3   0.24   9.31   9.64   9.81   9.97  10.28   1459    1.0\n",
      "mu[57]        9.83  6.6e-3   0.25   9.31   9.66   9.83   9.99  10.31   1429    1.0\n",
      "mu[58]        9.85  6.8e-3   0.26   9.32   9.67   9.85  10.02  10.34   1401    1.0\n",
      "mu[59]        9.86  7.1e-3   0.26   9.32   9.69   9.87  10.04  10.37   1376    1.0\n",
      "mu[60]        9.88  7.3e-3   0.27   9.33    9.7   9.89  10.06   10.4   1354    1.0\n",
      "mu[61]         9.9  7.5e-3   0.27   9.34   9.72   9.91  10.09  10.43   1333    1.0\n",
      "ypred         9.95    0.02   1.16   7.68   9.18   9.97  10.71   12.3   3416    1.0\n",
      "log_lik[0]   -1.14  4.3e-3   0.13  -1.47  -1.22  -1.13  -1.05  -0.93    961    1.0\n",
      "log_lik[1]   -2.92    0.02   0.53  -4.07  -3.25  -2.88  -2.56  -1.98   1040    1.0\n",
      "log_lik[2]   -1.23  4.0e-3   0.15  -1.56  -1.32  -1.21  -1.12  -0.99   1343    1.0\n",
      "log_lik[3]   -1.25  4.9e-3   0.16  -1.63  -1.34  -1.23  -1.14   -1.0   1038    1.0\n",
      "log_lik[4]   -1.26  4.8e-3   0.16  -1.64  -1.35  -1.24  -1.15  -1.01   1058    1.0\n",
      "log_lik[5]   -1.57  6.1e-3   0.22  -2.07   -1.7  -1.54  -1.41  -1.22   1285    1.0\n",
      "log_lik[6]   -1.09  3.3e-3   0.11  -1.33  -1.15  -1.08  -1.01  -0.89   1067    1.0\n",
      "log_lik[7]   -1.08  2.9e-3    0.1   -1.3  -1.15  -1.08  -1.01  -0.89   1229    1.0\n",
      "log_lik[8]   -2.85    0.01   0.45  -3.84  -3.15  -2.82  -2.55  -2.04   1117    1.0\n",
      "log_lik[9]   -1.63  5.6e-3   0.21  -2.09  -1.76  -1.62  -1.49  -1.27   1395    1.0\n",
      "log_lik[10]  -1.75  5.9e-3   0.23  -2.27  -1.89  -1.73  -1.59  -1.38   1483    1.0\n",
      "log_lik[11]  -1.06  3.1e-3    0.1  -1.28  -1.13  -1.06   -1.0  -0.88   1080    1.0\n",
      "log_lik[12]  -1.23  3.7e-3   0.13  -1.51   -1.3  -1.22  -1.14  -1.01   1195    1.0\n",
      "log_lik[13]  -2.32  7.2e-3   0.31  -3.01  -2.51  -2.29  -2.09  -1.79   1834    1.0\n",
      "log_lik[14]  -1.09  2.8e-3    0.1   -1.3  -1.15  -1.09  -1.02   -0.9   1283    1.0\n",
      "log_lik[15]  -1.07  3.0e-3    0.1  -1.29  -1.13  -1.07   -1.0  -0.89   1106    1.0\n",
      "log_lik[16]  -1.88  4.7e-3   0.22  -2.37  -2.01  -1.86  -1.72   -1.5   2093    1.0\n",
      "log_lik[17]  -1.89  5.4e-3   0.21  -2.35  -2.03  -1.87  -1.74  -1.51   1593    1.0\n",
      "log_lik[18]  -2.53  8.7e-3   0.32  -3.22  -2.74  -2.51  -2.31  -1.95   1391    1.0\n",
      "log_lik[19]  -1.07  2.9e-3    0.1  -1.27  -1.13  -1.06   -1.0  -0.89   1119    1.0\n",
      "log_lik[20]  -2.96    0.01   0.39   -3.8  -3.22  -2.93  -2.68  -2.26   1529    1.0\n",
      "log_lik[21]  -1.35  2.4e-3   0.12   -1.6  -1.43  -1.35  -1.27  -1.14   2439    1.0\n",
      "log_lik[22]  -1.41  2.3e-3   0.12  -1.66  -1.49   -1.4  -1.32  -1.18   2712    1.0\n",
      "log_lik[23]  -4.11    0.01   0.59   -5.4  -4.48  -4.06   -3.7  -3.09   1590    1.0\n",
      "log_lik[24]  -1.44  2.4e-3   0.12  -1.71  -1.52  -1.43  -1.35  -1.23   2749    1.0\n",
      "log_lik[25]  -1.31  2.3e-3   0.11  -1.55  -1.38   -1.3  -1.23  -1.12   2223    1.0\n",
      "log_lik[26]  -1.08  2.8e-3    0.1  -1.27  -1.14  -1.08  -1.01   -0.9   1171    1.0\n",
      "log_lik[27]  -1.22  2.4e-3    0.1  -1.42  -1.28  -1.22  -1.15  -1.03   1748    1.0\n",
      "log_lik[28]  -1.76  2.8e-3   0.16  -2.09  -1.87  -1.75  -1.64  -1.47   3392    1.0\n",
      "log_lik[29]  -2.18  4.4e-3   0.23  -2.69  -2.32  -2.16  -2.02   -1.8   2684    1.0\n",
      "log_lik[30]  -2.08  3.9e-3   0.21  -2.54  -2.21  -2.06  -1.93  -1.72   2848    1.0\n",
      "log_lik[31]  -1.65  2.3e-3   0.14  -1.96  -1.74  -1.64  -1.55   -1.4   3767    1.0\n",
      "log_lik[32]   -1.4  2.0e-3   0.11  -1.64  -1.48   -1.4  -1.32   -1.2   3214    1.0\n",
      "log_lik[33]  -1.09  2.8e-3    0.1  -1.29  -1.16  -1.09  -1.03  -0.92   1174    1.0\n",
      "log_lik[34]  -1.05  2.8e-3    0.1  -1.25  -1.12  -1.05  -0.99  -0.88   1132    1.0\n",
      "log_lik[35]  -2.81  8.7e-3   0.35  -3.58  -3.03  -2.79  -2.57  -2.22   1560    1.0\n",
      "log_lik[36]  -1.36  2.3e-3   0.11  -1.58  -1.43  -1.35  -1.28  -1.15   2477    1.0\n",
      "log_lik[37]  -1.06  2.9e-3    0.1  -1.26  -1.12  -1.05  -0.99  -0.88   1068    1.0\n",
      "log_lik[38]  -1.33  2.4e-3   0.11  -1.56  -1.41  -1.32  -1.25  -1.12   2145    1.0\n",
      "log_lik[39]  -1.09  2.9e-3    0.1   -1.3  -1.15  -1.09  -1.02  -0.91   1111    1.0\n",
      "log_lik[40]  -1.15  2.6e-3    0.1  -1.36  -1.21  -1.14  -1.08  -0.96   1548    1.0\n",
      "log_lik[41]  -1.12  2.6e-3    0.1  -1.33  -1.18  -1.12  -1.05  -0.93   1420    1.0\n",
      "log_lik[42]  -1.05  2.9e-3    0.1  -1.25  -1.11  -1.05  -0.99  -0.87   1126    1.0\n",
      "log_lik[43]  -1.35  2.7e-3   0.13  -1.62  -1.42  -1.34  -1.26  -1.12   2183    1.0\n",
      "log_lik[44]  -1.09  3.1e-3    0.1  -1.31  -1.16  -1.09  -1.03  -0.91   1076    1.0\n",
      "log_lik[45]  -1.38  3.2e-3   0.14  -1.68  -1.47  -1.37  -1.28  -1.14   1834    1.0\n",
      "log_lik[46]  -1.07  2.8e-3    0.1  -1.28  -1.13  -1.07   -1.0  -0.89   1217    1.0\n",
      "log_lik[47]  -1.22  2.8e-3   0.12  -1.46  -1.29  -1.21  -1.13  -1.01   1701    1.0\n",
      "log_lik[48]  -1.23  2.9e-3   0.12  -1.48   -1.3  -1.22  -1.14  -1.01   1705    1.0\n",
      "log_lik[49]  -1.06  2.9e-3    0.1  -1.26  -1.12  -1.05  -0.99  -0.88   1105    1.0\n",
      "log_lik[50]  -2.22  7.1e-3   0.31  -2.88  -2.42   -2.2   -2.0   -1.7   1873    1.0\n",
      "log_lik[51]  -1.45  4.2e-3   0.17  -1.84  -1.55  -1.43  -1.33  -1.16   1619    1.0\n",
      "log_lik[52]  -1.11  3.4e-3   0.11  -1.36  -1.18   -1.1  -1.04  -0.92   1039    1.0\n",
      "log_lik[53]   -1.5  4.8e-3   0.19  -1.93  -1.62  -1.48  -1.36  -1.18   1585    1.0\n",
      "log_lik[54]  -1.22  4.0e-3   0.14  -1.54   -1.3  -1.21  -1.12  -0.99   1163    1.0\n",
      "log_lik[55]  -1.17  3.9e-3   0.13  -1.46  -1.24  -1.16  -1.08  -0.95   1080    1.0\n",
      "log_lik[56]  -1.47  5.0e-3    0.2  -1.91  -1.59  -1.45  -1.33  -1.15   1552    1.0\n",
      "log_lik[57]  -1.06  3.0e-3    0.1  -1.28  -1.13  -1.06  -0.99  -0.88   1109    1.0\n",
      "log_lik[58]   -1.5  5.5e-3   0.21  -1.98  -1.63  -1.48  -1.35  -1.15   1477    1.0\n",
      "log_lik[59]  -1.42  5.6e-3    0.2  -1.89  -1.53  -1.39  -1.27  -1.09   1268    1.0\n",
      "log_lik[60]  -1.73  7.5e-3   0.28  -2.34  -1.89   -1.7  -1.53  -1.27   1349    1.0\n",
      "log_lik[61]  -1.64  7.0e-3   0.26  -2.25   -1.8  -1.61  -1.45  -1.21   1423    1.0\n",
      "lp__        -38.06    0.04   1.28 -41.46 -38.66 -37.71 -37.13 -36.61    979    1.0\n",
      "\n",
      "Samples were drawn using NUTS at Wed Aug 23 10:32:45 2017.\n",
      "For each parameter, n_eff is a crude measure of effective sample size,\n",
      "and Rhat is the potential scale reduction factor on split chains (at \n",
      "convergence, Rhat=1).\n"
     ]
    }
   ],
   "source": [
    "print(fit)"
   ]
  },
  {
   "cell_type": "markdown",
   "metadata": {
    "collapsed": true
   },
   "source": [
    "Check the treedepth, E-BFMI, and divergences"
   ]
  },
  {
   "cell_type": "code",
   "execution_count": 23,
   "metadata": {
    "collapsed": false
   },
   "outputs": [
    {
     "name": "stdout",
     "output_type": "stream",
     "text": [
      "92 of 4000 iterations saturated the maximum tree depth of 10 (2.3%)\n",
      "Run again with max_depth set to a larger value to avoid saturation\n",
      "0.0 of 4000 iterations ended with a divergence (0.0%)\n"
     ]
    }
   ],
   "source": [
    "stan_utility.check_treedepth(fit)\n",
    "stan_utility.check_energy(fit)\n",
    "stan_utility.check_div(fit)"
   ]
  },
  {
   "cell_type": "markdown",
   "metadata": {},
   "source": [
    "We get a warning that several iterations that saturated the maximum treedepth\". The reason for this is a very strong posterior correlation between alpha and beta as shown in the next plot. This doesn't imvalidate the results, but leads to suboptimal performance. We'll later look at alternative which reduces the posterior correlation. The following figure shows the strong posterior correlation in the current case."
   ]
  },
  {
   "cell_type": "code",
   "execution_count": 24,
   "metadata": {
    "collapsed": false
   },
   "outputs": [
    {
     "data": {
      "image/png": "[encoded data removed]",
      "text/plain": [
       "<matplotlib.figure.Figure at 0x7f8bb54736a0>"
      ]
     },
     "metadata": {},
     "output_type": "display_data"
    }
   ],
   "source": [
    "samples = fit.extract(permuted=True)\n",
    "# preview 500 posterior samples of (alpha, beta)\n",
    "plt.scatter(samples['alpha'][:500], samples['beta'][:500], 5)\n",
    "plt.xlabel('alpha')\n",
    "plt.ylabel('beta');"
   ]
  },
  {
   "cell_type": "markdown",
   "metadata": {},
   "source": [
    "Compute the probability that the summer temperature is increasing."
   ]
  },
  {
   "cell_type": "code",
   "execution_count": 25,
   "metadata": {
    "collapsed": false
   },
   "outputs": [
    {
     "name": "stdout",
     "output_type": "stream",
     "text": [
      "Pr(beta > 0) = 0.99125\n"
     ]
    }
   ],
   "source": [
    "print('Pr(beta > 0) = {}'.format(np.mean(samples['beta'] > 0)))"
   ]
  },
  {
   "cell_type": "markdown",
   "metadata": {},
   "source": [
    "Plot the data, the model fit and prediction for year 2016."
   ]
  },
  {
   "cell_type": "code",
   "execution_count": 26,
   "metadata": {
    "collapsed": false
   },
   "outputs": [
    {
     "data": {
      "image/png": "[encoded data removed]",
      "text/plain": [
       "<matplotlib.figure.Figure at 0x7f8bb55e24a8>"
      ]
     },
     "metadata": {},
     "output_type": "display_data"
    }
   ],
   "source": [
    "# make slightly wider figure of 3 plots\n",
    "figsize = plt.rcParams['figure.figsize'].copy()\n",
    "figsize[0] *= 1.4  # width\n",
    "figsize[1] *= 2.5  # height\n",
    "fig, axes = plt.subplots(3, 1, figsize=figsize)\n",
    "\n",
    "# plot 1: scatterplot and lines\n",
    "color_scatter = 'C0'  # 'C0' for default color #0\n",
    "color_line = 'C1'     # 'C1' for default color #1\n",
    "# lighten color_line\n",
    "color_shade = (\n",
    "    1 - 0.1*(1 - np.array(mpl.colors.to_rgb(color_line)))\n",
    ")\n",
    "# plot\n",
    "ax = axes[0]\n",
    "ax.fill_between(\n",
    "    x,\n",
    "    np.percentile(samples['mu'], 5, axis=0),\n",
    "    np.percentile(samples['mu'], 95, axis=0),\n",
    "    color=color_shade\n",
    ")\n",
    "ax.plot(\n",
    "    x,\n",
    "    np.percentile(samples['mu'], 50, axis=0),\n",
    "    color=color_line,\n",
    "    linewidth=1\n",
    ")\n",
    "ax.scatter(x, y, 5, color=color_scatter)\n",
    "ax.set_xlabel('year')\n",
    "ax.set_ylabel('summer temperature at Kilpisjarvi')\n",
    "ax.set_xlim((1952, 2013))\n",
    "\n",
    "# plot 2: histogram\n",
    "ax = axes[1]\n",
    "ax.hist(samples['beta'], 50)\n",
    "ax.set_xlabel('beta')\n",
    "\n",
    "# plot 3: histogram\n",
    "ax = axes[2]\n",
    "ax.hist(samples['ypred'], 50)\n",
    "ax.set_xlabel('y-prediction for x={}'.format(xpred))\n",
    "\n",
    "# make figure compact\n",
    "fig.tight_layout();"
   ]
  },
  {
   "cell_type": "markdown",
   "metadata": {},
   "source": [
    "### Gaussian linear model with standardized data\n",
    "\n",
    "In the above we used the unnormalized data and as x values are far away from zero, this will cause very strong posterior dependency between alpha and beta (did you use ShinyStan for the above model?). The strong posterior dependency can be removed by normalizing the data to have zero mean. The following Stan code makes it in Stan. In generated quantities we do correspnding transformation back to the original scale."
   ]
  },
  {
   "cell_type": "code",
   "execution_count": 27,
   "metadata": {
    "collapsed": false,
    "scrolled": true
   },
   "outputs": [
    {
     "name": "stdout",
     "output_type": "stream",
     "text": [
      "// Gaussian linear model with standardized data\r\n",
      "data {\r\n",
      "  int<lower=0> N; // number of data points\r\n",
      "  vector[N] x; //\r\n",
      "  vector[N] y; //\r\n",
      "  real xpred; // input location for prediction\r\n",
      "}\r\n",
      "transformed data {\r\n",
      "  vector[N] x_std;\r\n",
      "  vector[N] y_std;\r\n",
      "  x_std = (x - mean(x)) / sd(x);\r\n",
      "  y_std = (y - mean(y)) / sd(y);\r\n",
      "}\r\n",
      "parameters {\r\n",
      "  real alpha;\r\n",
      "  real beta;\r\n",
      "  real<lower=0> sigma_std;\r\n",
      "}\r\n",
      "transformed parameters {\r\n",
      "  vector[N] mu_std;\r\n",
      "  mu_std = alpha + beta*x_std;\r\n",
      "}\r\n",
      "model {\r\n",
      "  alpha ~ normal(0, 1);\r\n",
      "  beta ~ normal(0, 1);\r\n",
      "  y_std ~ normal(mu_std, sigma_std);\r\n",
      "}\r\n",
      "generated quantities {\r\n",
      "  vector[N] mu;\r\n",
      "  real<lower=0> sigma;\r\n",
      "  real ypred;\r\n",
      "  vector[N] log_lik;\r\n",
      "  mu = mu_std*sd(y) + mean(y);\r\n",
      "  sigma = sigma_std*sd(y);\r\n",
      "  ypred = normal_rng((alpha + beta*xpred)*sd(y)+mean(y), sigma*sd(y));\r\n",
      "  for (i in 1:N)\r\n",
      "    log_lik[i] = normal_lpdf(y[i] | mu[i], sigma);\r\n",
      "}\r\n"
     ]
    }
   ],
   "source": [
    "%cat lin_std.stan"
   ]
  },
  {
   "cell_type": "markdown",
   "metadata": {},
   "source": [
    "Run Stan"
   ]
  },
  {
   "cell_type": "code",
   "execution_count": 28,
   "metadata": {
    "collapsed": false
   },
   "outputs": [
    {
     "name": "stdout",
     "output_type": "stream",
     "text": [
      "Using cached StanModel\n"
     ]
    }
   ],
   "source": [
    "model = stan_utility.compile_model('lin_std.stan')\n",
    "fit = model.sampling(data=data)\n",
    "samples = fit.extract(permuted=True)"
   ]
  },
  {
   "cell_type": "markdown",
   "metadata": {},
   "source": [
    "Check the `n_eff` and `Rhat`"
   ]
  },
  {
   "cell_type": "code",
   "execution_count": 29,
   "metadata": {
    "collapsed": false,
    "scrolled": false
   },
   "outputs": [
    {
     "name": "stdout",
     "output_type": "stream",
     "text": [
      "Inference for Stan model: anon_model_66c6fe58314dd2305225ac4c980232cb.\n",
      "4 chains, each with iter=2000; warmup=1000; thin=1; \n",
      "post-warmup draws per chain=1000, total post-warmup draws=4000.\n",
      "\n",
      "              mean se_mean     sd   2.5%    25%    50%    75%  97.5%  n_eff   Rhat\n",
      "alpha       2.3e-4  2.0e-3   0.13  -0.25  -0.08 1.2e-3   0.08   0.26   4000    1.0\n",
      "beta          0.32  2.2e-3   0.13   0.06   0.23   0.32    0.4   0.57   3457    1.0\n",
      "sigma_std     0.98  1.5e-3   0.09   0.82   0.91   0.97   1.03   1.18   3630    1.0\n",
      "mu_std[0]    -0.53  4.1e-3   0.25  -1.02   -0.7  -0.53  -0.37  -0.02   3694    1.0\n",
      "mu_std[1]    -0.52  4.0e-3   0.25  -0.99  -0.68  -0.52  -0.36  -0.02   3698    1.0\n",
      "mu_std[2]     -0.5  3.9e-3   0.24  -0.96  -0.65   -0.5  -0.34-8.9e-3   3703    1.0\n",
      "mu_std[3]    -0.48  3.8e-3   0.23  -0.92  -0.63  -0.48  -0.33-5.6e-3   3708    1.0\n",
      "mu_std[4]    -0.46  3.7e-3   0.23   -0.9  -0.61  -0.46  -0.32-1.6e-3   3713    1.0\n",
      "mu_std[5]    -0.45  3.6e-3   0.22  -0.87  -0.59  -0.45   -0.3 2.8e-3   3719    1.0\n",
      "mu_std[6]    -0.43  3.5e-3   0.22  -0.85  -0.57  -0.43  -0.29 6.6e-3   3725    1.0\n",
      "mu_std[7]    -0.41  3.4e-3   0.21  -0.82  -0.55  -0.41  -0.28   0.01   3732    1.0\n",
      "mu_std[8]    -0.39  3.3e-3    0.2   -0.8  -0.53  -0.39  -0.26   0.02   3739    1.0\n",
      "mu_std[9]    -0.38  3.3e-3    0.2  -0.77  -0.51  -0.38  -0.25   0.03   3747    1.0\n",
      "mu_std[10]   -0.36  3.2e-3   0.19  -0.74  -0.49  -0.36  -0.23   0.03   3756    1.0\n",
      "mu_std[11]   -0.34  3.1e-3   0.19  -0.72  -0.47  -0.34  -0.22   0.04   3765    1.0\n",
      "mu_std[12]   -0.32  3.0e-3   0.18  -0.69  -0.44  -0.32   -0.2   0.05   3776    1.0\n",
      "mu_std[13]   -0.31  2.9e-3   0.18  -0.66  -0.42  -0.31  -0.19   0.06   3786    1.0\n",
      "mu_std[14]   -0.29  2.8e-3   0.17  -0.63   -0.4  -0.29  -0.18   0.06   3798    1.0\n",
      "mu_std[15]   -0.27  2.7e-3   0.17  -0.61  -0.38  -0.27  -0.16   0.07   3811    1.0\n",
      "mu_std[16]   -0.25  2.7e-3   0.16  -0.58  -0.36  -0.25  -0.15   0.08   3824    1.0\n",
      "mu_std[17]   -0.24  2.6e-3   0.16  -0.56  -0.34  -0.24  -0.13   0.09   3838    1.0\n",
      "mu_std[18]   -0.22  2.5e-3   0.16  -0.53  -0.32  -0.22  -0.12    0.1   4000    1.0\n",
      "mu_std[19]    -0.2  2.4e-3   0.15  -0.51   -0.3   -0.2   -0.1   0.11   4000    1.0\n",
      "mu_std[20]   -0.18  2.3e-3   0.15  -0.48  -0.28  -0.18  -0.09   0.12   4000    1.0\n",
      "mu_std[21]   -0.17  2.3e-3   0.14  -0.45  -0.26  -0.16  -0.07   0.13   4000    1.0\n",
      "mu_std[22]   -0.15  2.2e-3   0.14  -0.43  -0.24  -0.15  -0.06   0.14   4000    1.0\n",
      "mu_std[23]   -0.13  2.2e-3   0.14  -0.41  -0.22  -0.13  -0.04   0.15   4000    1.0\n",
      "mu_std[24]   -0.11  2.1e-3   0.14  -0.38   -0.2  -0.11  -0.03   0.16   4000    1.0\n",
      "mu_std[25]    -0.1  2.1e-3   0.13  -0.36  -0.18   -0.1-8.5e-3   0.17   4000    1.0\n",
      "mu_std[26]   -0.08  2.1e-3   0.13  -0.33  -0.17  -0.08 8.1e-3   0.18   4000    1.0\n",
      "mu_std[27]   -0.06  2.1e-3   0.13  -0.32  -0.15  -0.06   0.02    0.2   4000    1.0\n",
      "mu_std[28]   -0.04  2.0e-3   0.13   -0.3  -0.13  -0.04   0.04   0.22   4000    1.0\n",
      "mu_std[29]   -0.03  2.0e-3   0.13  -0.28  -0.11  -0.03   0.06   0.23   4000    1.0\n",
      "mu_std[30] -8.5e-3  2.0e-3   0.13  -0.26  -0.09-8.5e-3   0.07   0.25   4000    1.0\n",
      "mu_std[31]  9.0e-3  2.0e-3   0.13  -0.24  -0.07 9.7e-3   0.09   0.26   4000    1.0\n",
      "mu_std[32]    0.03  2.0e-3   0.13  -0.22  -0.06   0.03   0.11   0.28   4000    1.0\n",
      "mu_std[33]    0.04  2.0e-3   0.13   -0.2  -0.04   0.05   0.13    0.3   4000    1.0\n",
      "mu_std[34]    0.06  2.0e-3   0.13  -0.19  -0.02   0.06   0.15   0.32   4000    1.0\n",
      "mu_std[35]    0.08  2.1e-3   0.13  -0.18-7.9e-3   0.08   0.16   0.34   4000    1.0\n",
      "mu_std[36]     0.1  2.1e-3   0.13  -0.16 7.7e-3    0.1   0.18   0.36   4000    1.0\n",
      "mu_std[37]    0.11  2.1e-3   0.13  -0.15   0.02   0.11    0.2   0.38   4000    1.0\n",
      "mu_std[38]    0.13  2.2e-3   0.14  -0.14   0.04   0.13   0.22    0.4   4000    1.0\n",
      "mu_std[39]    0.15  2.2e-3   0.14  -0.13   0.05   0.15   0.24   0.43   4000    1.0\n",
      "mu_std[40]    0.17  2.3e-3   0.14  -0.12   0.07   0.17   0.26   0.45   4000    1.0\n",
      "mu_std[41]    0.18  2.3e-3   0.15  -0.11   0.09   0.18   0.28   0.47   3977    1.0\n",
      "mu_std[42]     0.2  2.4e-3   0.15   -0.1    0.1    0.2    0.3    0.5   3963    1.0\n",
      "mu_std[43]    0.22  2.4e-3   0.15  -0.09   0.12   0.22   0.32   0.52   3949    1.0\n",
      "mu_std[44]    0.24  2.5e-3   0.16  -0.08   0.13   0.24   0.34   0.55   3935    1.0\n",
      "mu_std[45]    0.25  2.6e-3   0.16  -0.07   0.15   0.25   0.36   0.57   3916    1.0\n",
      "mu_std[46]    0.27  2.7e-3   0.17  -0.06   0.16   0.27   0.38    0.6   3898    1.0\n",
      "mu_std[47]    0.29  2.8e-3   0.17  -0.06   0.18   0.29    0.4   0.62   3881    1.0\n",
      "mu_std[48]    0.31  2.8e-3   0.18  -0.05   0.19    0.3   0.42   0.65   3866    1.0\n",
      "mu_std[49]    0.32  2.9e-3   0.18  -0.04    0.2   0.32   0.45   0.68   3851    1.0\n",
      "mu_std[50]    0.34  3.0e-3   0.19  -0.03   0.22   0.34   0.47   0.71   3838    1.0\n",
      "mu_std[51]    0.36  3.1e-3   0.19  -0.03   0.23   0.36   0.49   0.74   3825    1.0\n",
      "mu_std[52]    0.38  3.2e-3    0.2  -0.02   0.25   0.38   0.51   0.77   3813    1.0\n",
      "mu_std[53]    0.39  3.3e-3    0.2-9.8e-3   0.26   0.39   0.53    0.8   3802    1.0\n",
      "mu_std[54]    0.41  3.4e-3   0.21 1.5e-4   0.28   0.41   0.55   0.82   3792    1.0\n",
      "mu_std[55]    0.43  3.5e-3   0.21 4.5e-3   0.29   0.43   0.57   0.85   3783    1.0\n",
      "mu_std[56]    0.45  3.6e-3   0.22   0.01    0.3   0.45   0.59   0.88   3774    1.0\n",
      "mu_std[57]    0.46  3.7e-3   0.23   0.01   0.32   0.46   0.61   0.91   3766    1.0\n",
      "mu_std[58]    0.48  3.8e-3   0.23   0.02   0.33   0.48   0.63   0.94   3758    1.0\n",
      "mu_std[59]     0.5  3.9e-3   0.24   0.02   0.34    0.5   0.65   0.97   3751    1.0\n",
      "mu_std[60]    0.52  4.0e-3   0.24   0.03   0.36   0.52   0.68    1.0   3745    1.0\n",
      "mu_std[61]    0.53  4.1e-3   0.25   0.04   0.37   0.53    0.7   1.03   3739    1.0\n",
      "mu[0]         8.69  4.8e-3   0.29   8.13   8.51   8.69   8.89   9.29   3694    1.0\n",
      "mu[1]         8.71  4.7e-3   0.28   8.17   8.53   8.71    8.9    9.3   3698    1.0\n",
      "mu[2]         8.73  4.6e-3   0.28    8.2   8.55   8.73   8.91    9.3   3703    1.0\n",
      "mu[3]         8.75  4.4e-3   0.27   8.24   8.58   8.75   8.93   9.31   3708    1.0\n",
      "mu[4]         8.78  4.3e-3   0.26   8.27    8.6   8.77   8.95   9.31   3713    1.0\n",
      "mu[5]          8.8  4.2e-3   0.26    8.3   8.63   8.79   8.96   9.32   3719    1.0\n",
      "mu[6]         8.82  4.1e-3   0.25   8.33   8.65   8.82   8.98   9.32   3725    1.0\n",
      "mu[7]         8.84  4.0e-3   0.24   8.36   8.67   8.84   8.99   9.33   3732    1.0\n",
      "mu[8]         8.86  3.9e-3   0.24   8.39    8.7   8.86   9.01   9.34   3739    1.0\n",
      "mu[9]         8.88  3.8e-3   0.23   8.42   8.72   8.88   9.03   9.34   3747    1.0\n",
      "mu[10]         8.9  3.7e-3   0.22   8.45   8.75    8.9   9.04   9.35   3756    1.0\n",
      "mu[11]        8.92  3.6e-3   0.22   8.48   8.77   8.92   9.06   9.36   3765    1.0\n",
      "mu[12]        8.94  3.5e-3   0.21   8.52    8.8   8.94   9.08   9.37   3776    1.0\n",
      "mu[13]        8.96  3.4e-3   0.21   8.55   8.82   8.96   9.09   9.38   3786    1.0\n",
      "mu[14]        8.98  3.3e-3    0.2   8.58   8.85   8.98   9.11   9.38   3798    1.0\n",
      "mu[15]         9.0  3.2e-3    0.2   8.61   8.87    9.0   9.13   9.39   3811    1.0\n",
      "mu[16]        9.02  3.1e-3   0.19   8.64    8.9   9.02   9.14    9.4   3824    1.0\n",
      "mu[17]        9.04  3.0e-3   0.19   8.67   8.92   9.04   9.16   9.41   3838    1.0\n",
      "mu[18]        9.06  2.9e-3   0.18    8.7   8.94   9.06   9.18   9.43   4000    1.0\n",
      "mu[19]        9.08  2.8e-3   0.18   8.73   8.97   9.08   9.19   9.44   4000    1.0\n",
      "mu[20]         9.1  2.7e-3   0.17   8.76   8.99    9.1   9.21   9.45   4000    1.0\n",
      "mu[21]        9.12  2.6e-3   0.17   8.79   9.01   9.12   9.23   9.46   4000    1.0\n",
      "mu[22]        9.14  2.6e-3   0.16   8.82   9.03   9.14   9.25   9.47   4000    1.0\n",
      "mu[23]        9.16  2.5e-3   0.16   8.84   9.05   9.16   9.27   9.48   4000    1.0\n",
      "mu[24]        9.18  2.5e-3   0.16   8.87   9.08   9.18   9.28    9.5   4000    1.0\n",
      "mu[25]         9.2  2.4e-3   0.15    8.9    9.1    9.2    9.3   9.51   4000    1.0\n",
      "mu[26]        9.22  2.4e-3   0.15   8.93   9.12   9.22   9.32   9.53   4000    1.0\n",
      "mu[27]        9.24  2.4e-3   0.15   8.95   9.14   9.24   9.34   9.55   4000    1.0\n",
      "mu[28]        9.26  2.4e-3   0.15   8.97   9.16   9.26   9.36   9.56   4000    1.0\n",
      "mu[29]        9.28  2.3e-3   0.15   8.99   9.18   9.28   9.38   9.58   4000    1.0\n",
      "mu[30]         9.3  2.3e-3   0.15   9.01   9.21    9.3    9.4    9.6   4000    1.0\n",
      "mu[31]        9.32  2.3e-3   0.15   9.04   9.23   9.32   9.42   9.62   4000    1.0\n",
      "mu[32]        9.34  2.3e-3   0.15   9.06   9.25   9.34   9.44   9.64   4000    1.0\n",
      "mu[33]        9.36  2.3e-3   0.15   9.08   9.27   9.37   9.46   9.66   4000    1.0\n",
      "mu[34]        9.38  2.4e-3   0.15   9.09   9.28   9.39   9.48   9.68   4000    1.0\n",
      "mu[35]         9.4  2.4e-3   0.15   9.11    9.3   9.41    9.5    9.7   4000    1.0\n",
      "mu[36]        9.42  2.4e-3   0.15   9.12   9.32   9.43   9.53   9.73   4000    1.0\n",
      "mu[37]        9.45  2.5e-3   0.16   9.14   9.34   9.45   9.55   9.75   4000    1.0\n",
      "mu[38]        9.47  2.5e-3   0.16   9.15   9.36   9.47   9.57   9.78   4000    1.0\n",
      "mu[39]        9.49  2.6e-3   0.16   9.16   9.38   9.49   9.59   9.81   4000    1.0\n",
      "mu[40]        9.51  2.6e-3   0.17   9.17    9.4   9.51   9.62   9.83   4000    1.0\n",
      "mu[41]        9.53  2.7e-3   0.17   9.19   9.41   9.53   9.64   9.86   3977    1.0\n",
      "mu[42]        9.55  2.8e-3   0.17    9.2   9.43   9.55   9.67   9.89   3963    1.0\n",
      "mu[43]        9.57  2.8e-3   0.18   9.21   9.45   9.57   9.69   9.92   3949    1.0\n",
      "mu[44]        9.59  2.9e-3   0.18   9.22   9.47   9.59   9.71   9.94   3935    1.0\n",
      "mu[45]        9.61  3.0e-3   0.19   9.23   9.48   9.61   9.73   9.97   3916    1.0\n",
      "mu[46]        9.63  3.1e-3   0.19   9.24    9.5   9.63   9.76   10.0   3898    1.0\n",
      "mu[47]        9.65  3.2e-3    0.2   9.25   9.52   9.65   9.78  10.04   3881    1.0\n",
      "mu[48]        9.67  3.3e-3    0.2   9.26   9.53   9.67    9.8  10.07   3866    1.0\n",
      "mu[49]        9.69  3.4e-3   0.21   9.26   9.55   9.69   9.83   10.1   3851    1.0\n",
      "mu[50]        9.71  3.5e-3   0.22   9.27   9.57   9.71   9.85  10.13   3838    1.0\n",
      "mu[51]        9.73  3.6e-3   0.22   9.28   9.58   9.73   9.88  10.17   3825    1.0\n",
      "mu[52]        9.75  3.7e-3   0.23   9.29    9.6   9.75    9.9   10.2   3813    1.0\n",
      "mu[53]        9.77  3.8e-3   0.23    9.3   9.62   9.77   9.93  10.24   3802    1.0\n",
      "mu[54]        9.79  3.9e-3   0.24   9.31   9.63   9.79   9.95  10.27   3792    1.0\n",
      "mu[55]        9.81  4.0e-3   0.25   9.32   9.65   9.81   9.97   10.3   3783    1.0\n",
      "mu[56]        9.83  4.1e-3   0.25   9.32   9.66   9.83   10.0  10.34   3774    1.0\n",
      "mu[57]        9.85  4.3e-3   0.26   9.33   9.68   9.85  10.02  10.37   3766    1.0\n",
      "mu[58]        9.87  4.4e-3   0.27   9.34    9.7   9.87  10.05   10.4   3758    1.0\n",
      "mu[59]        9.89  4.5e-3   0.27   9.34   9.71   9.89  10.07  10.44   3751    1.0\n",
      "mu[60]        9.91  4.6e-3   0.28   9.35   9.73   9.91   10.1  10.47   3745    1.0\n",
      "mu[61]        9.93  4.7e-3   0.29   9.35   9.74   9.93  10.12  10.51   3739    1.0\n",
      "sigma         1.13  1.8e-3   0.11   0.95   1.06   1.12    1.2   1.37   3630    1.0\n",
      "ypred       747.59    5.07 298.45 152.44 554.15 750.77 940.15 1340.2   3459    1.0\n",
      "log_lik[0]   -1.13  2.4e-3   0.13  -1.44  -1.21  -1.12  -1.05  -0.92   3014    1.0\n",
      "log_lik[1]   -2.98  9.0e-3   0.56   -4.2  -3.33  -2.94  -2.59  -2.03   3811    1.0\n",
      "log_lik[2]   -1.25  2.7e-3   0.16   -1.6  -1.34  -1.23  -1.13  -0.99   3513    1.0\n",
      "log_lik[3]   -1.24  2.7e-3   0.16  -1.62  -1.33  -1.22  -1.13  -0.98   3365    1.0\n",
      "log_lik[4]   -1.25  2.7e-3   0.16  -1.62  -1.34  -1.23  -1.14  -0.99   3402    1.0\n",
      "log_lik[5]   -1.54  3.7e-3   0.23  -2.08  -1.67  -1.52  -1.39  -1.18   3716    1.0\n",
      "log_lik[6]   -1.08  1.9e-3   0.11  -1.31  -1.15  -1.07  -1.01  -0.89   3030    1.0\n",
      "log_lik[7]   -1.09  1.9e-3   0.11  -1.32  -1.15  -1.08  -1.02   -0.9   3190    1.0\n",
      "log_lik[8]    -2.9  7.6e-3   0.47  -3.94  -3.19  -2.86  -2.57  -2.08   3859    1.0\n",
      "log_lik[9]   -1.66  3.6e-3   0.22  -2.16  -1.79  -1.64   -1.5  -1.27   3840    1.0\n",
      "log_lik[10]  -1.73  3.8e-3   0.23  -2.26  -1.87  -1.71  -1.57  -1.34   3870    1.0\n",
      "log_lik[11]  -1.06  1.7e-3    0.1  -1.27  -1.13  -1.06   -1.0  -0.89   3170    1.0\n",
      "log_lik[12]  -1.22  2.1e-3   0.13   -1.5  -1.29  -1.21  -1.13   -1.0   3519    1.0\n",
      "log_lik[13]  -2.29  5.0e-3   0.32  -2.99  -2.48  -2.26  -2.07  -1.75   3989    1.0\n",
      "log_lik[14]   -1.1  1.7e-3    0.1  -1.31  -1.16  -1.09  -1.03  -0.91   3399    1.0\n",
      "log_lik[15]  -1.07  1.7e-3    0.1  -1.27  -1.13  -1.06   -1.0  -0.89   3315    1.0\n",
      "log_lik[16]  -1.86  3.5e-3   0.22  -2.34  -1.99  -1.84   -1.7  -1.48   4000    1.0\n",
      "log_lik[17]  -1.91  3.5e-3   0.22  -2.41  -2.04  -1.89  -1.75  -1.51   4000    1.0\n",
      "log_lik[18]  -2.56  5.2e-3   0.33  -3.29  -2.77  -2.53  -2.33  -1.98   4000    1.0\n",
      "log_lik[19]  -1.06  1.6e-3    0.1  -1.26  -1.13  -1.06   -1.0  -0.89   3414    1.0\n",
      "log_lik[20]  -2.99  6.3e-3    0.4  -3.85  -3.24  -2.95  -2.71  -2.28   4000    1.0\n",
      "log_lik[21]  -1.36  2.0e-3   0.12  -1.63  -1.44  -1.35  -1.28  -1.14   3873    1.0\n",
      "log_lik[22]  -1.42  2.0e-3   0.13  -1.69   -1.5  -1.41  -1.33  -1.19   4000    1.0\n",
      "log_lik[23]   -4.1  9.4e-3   0.58  -5.34  -4.45  -4.06  -3.69  -3.08   3858    1.0\n",
      "log_lik[24]  -1.43  2.0e-3   0.12   -1.7  -1.51  -1.43  -1.35  -1.21   4000    1.0\n",
      "log_lik[25]  -1.31  1.7e-3   0.11  -1.54  -1.37   -1.3  -1.23  -1.11   4000    1.0\n",
      "log_lik[26]  -1.08  1.6e-3   0.09  -1.28  -1.14  -1.08  -1.01   -0.9   3520    1.0\n",
      "log_lik[27]  -1.22  1.6e-3    0.1  -1.42  -1.29  -1.22  -1.15  -1.04   3738    1.0\n",
      "log_lik[28]  -1.76  2.6e-3   0.16  -2.11  -1.87  -1.75  -1.65  -1.48   4000    1.0\n",
      "log_lik[29]  -2.18  3.6e-3   0.23  -2.68  -2.32  -2.17  -2.01  -1.79   4000    1.0\n",
      "log_lik[30]  -2.08  3.3e-3   0.21  -2.53   -2.2  -2.06  -1.92  -1.72   4000    1.0\n",
      "log_lik[31]  -1.65  2.3e-3   0.14  -1.96  -1.74  -1.64  -1.54  -1.39   4000    1.0\n",
      "log_lik[32]   -1.4  1.8e-3   0.11  -1.65  -1.48   -1.4  -1.32   -1.2   4000    1.0\n",
      "log_lik[33]  -1.09  1.6e-3   0.09  -1.29  -1.15  -1.09  -1.03  -0.92   3536    1.0\n",
      "log_lik[34]  -1.05  1.6e-3   0.09  -1.25  -1.11  -1.05  -0.99  -0.88   3510    1.0\n",
      "log_lik[35]  -2.82  5.5e-3   0.34  -3.57  -3.04   -2.8  -2.57  -2.23   3854    1.0\n",
      "log_lik[36]  -1.35  1.8e-3   0.11  -1.59  -1.43  -1.35  -1.27  -1.15   3942    1.0\n",
      "log_lik[37]  -1.06  1.6e-3   0.09  -1.26  -1.12  -1.05  -0.99  -0.88   3488    1.0\n",
      "log_lik[38]  -1.33  1.8e-3   0.11  -1.57   -1.4  -1.32  -1.25  -1.13   3882    1.0\n",
      "log_lik[39]  -1.09  1.6e-3    0.1  -1.28  -1.15  -1.09  -1.02  -0.91   3484    1.0\n",
      "log_lik[40]  -1.15  1.6e-3    0.1  -1.37  -1.22  -1.15  -1.08  -0.97   3842    1.0\n",
      "log_lik[41]  -1.12  1.6e-3    0.1  -1.33  -1.19  -1.12  -1.06  -0.94   3762    1.0\n",
      "log_lik[42]  -1.05  1.6e-3   0.09  -1.25  -1.11  -1.05  -0.99  -0.88   3476    1.0\n",
      "log_lik[43]  -1.35  2.0e-3   0.13  -1.63  -1.44  -1.34  -1.26  -1.13   4000    1.0\n",
      "log_lik[44]  -1.09  1.7e-3    0.1   -1.3  -1.15  -1.09  -1.02   -0.9   3411    1.0\n",
      "log_lik[45]  -1.37  2.2e-3   0.14  -1.67  -1.46  -1.36  -1.27  -1.13   3844    1.0\n",
      "log_lik[46]  -1.07  1.6e-3    0.1  -1.29  -1.14  -1.07  -1.01   -0.9   3523    1.0\n",
      "log_lik[47]  -1.22  2.0e-3   0.12  -1.48   -1.3  -1.21  -1.14  -1.01   3646    1.0\n",
      "log_lik[48]  -1.23  2.1e-3   0.13  -1.51  -1.31  -1.22  -1.15  -1.01   3640    1.0\n",
      "log_lik[49]  -1.06  1.7e-3    0.1  -1.26  -1.12  -1.05  -0.99  -0.88   3291    1.0\n",
      "log_lik[50]   -2.2  4.9e-3   0.31  -2.88  -2.39  -2.18  -1.97  -1.67   4000    1.0\n",
      "log_lik[51]  -1.43  2.8e-3   0.17  -1.82  -1.54  -1.42  -1.31  -1.15   3820    1.0\n",
      "log_lik[52]  -1.11  1.9e-3   0.11  -1.34  -1.18   -1.1  -1.03  -0.91   3260    1.0\n",
      "log_lik[53]  -1.48  3.1e-3   0.19  -1.92   -1.6  -1.47  -1.35  -1.17   3834    1.0\n",
      "log_lik[54]  -1.21  2.3e-3   0.14  -1.52  -1.29   -1.2  -1.11  -0.98   3456    1.0\n",
      "log_lik[55]  -1.16  2.2e-3   0.13  -1.45  -1.23  -1.15  -1.07  -0.94   3317    1.0\n",
      "log_lik[56]  -1.49  3.4e-3   0.21  -1.98  -1.61  -1.47  -1.34  -1.15   3861    1.0\n",
      "log_lik[57]  -1.07  1.8e-3    0.1  -1.28  -1.13  -1.06   -1.0  -0.88   3034    1.0\n",
      "log_lik[58]  -1.53  3.7e-3   0.23  -2.06  -1.66   -1.5  -1.36  -1.15   3832    1.0\n",
      "log_lik[59]   -1.4  3.5e-3    0.2  -1.88  -1.51  -1.37  -1.25  -1.08   3358    1.0\n",
      "log_lik[60]  -1.76  4.8e-3    0.3  -2.43  -1.93  -1.73  -1.55  -1.27   3792    1.0\n",
      "log_lik[61]  -1.62  4.6e-3   0.27  -2.25  -1.77  -1.59  -1.43  -1.19   3494    1.0\n",
      "lp__        -28.87    0.03   1.33 -32.14 -29.44 -28.49  -27.9 -27.38   1810    1.0\n",
      "\n",
      "Samples were drawn using NUTS at Wed Aug 23 10:32:47 2017.\n",
      "For each parameter, n_eff is a crude measure of effective sample size,\n",
      "and Rhat is the potential scale reduction factor on split chains (at \n",
      "convergence, Rhat=1).\n"
     ]
    }
   ],
   "source": [
    "print(fit)"
   ]
  },
  {
   "cell_type": "markdown",
   "metadata": {},
   "source": [
    "We get now much better effective sample sizes `n_eff`.\n",
    "\n",
    "Check the treedepth, E-BFMI, and divergences"
   ]
  },
  {
   "cell_type": "code",
   "execution_count": 30,
   "metadata": {
    "collapsed": false
   },
   "outputs": [
    {
     "name": "stdout",
     "output_type": "stream",
     "text": [
      "0 of 4000 iterations saturated the maximum tree depth of 10 (0.0%)\n",
      "0.0 of 4000 iterations ended with a divergence (0.0%)\n"
     ]
    }
   ],
   "source": [
    "stan_utility.check_treedepth(fit)\n",
    "stan_utility.check_energy(fit)\n",
    "stan_utility.check_div(fit)"
   ]
  },
  {
   "cell_type": "markdown",
   "metadata": {},
   "source": [
    "Everything is fine now. The next figure shows that with the standardized data there is not much posterior correlation:"
   ]
  },
  {
   "cell_type": "code",
   "execution_count": 31,
   "metadata": {
    "collapsed": false
   },
   "outputs": [
    {
     "data": {
      "image/png": "[encoded data removed]",
      "text/plain": [
       "<matplotlib.figure.Figure at 0x7f8bb5092748>"
      ]
     },
     "metadata": {},
     "output_type": "display_data"
    }
   ],
   "source": [
    "samples = fit.extract(permuted=True)\n",
    "plt.figure()\n",
    "# preview 2000 samples\n",
    "plt.scatter(samples['alpha'][:2000], samples['beta'][:2000], 5)\n",
    "plt.xlabel('alpha')\n",
    "plt.ylabel('beta');"
   ]
  },
  {
   "cell_type": "markdown",
   "metadata": {},
   "source": [
    "Compute the probability that the summer temperature is increasing."
   ]
  },
  {
   "cell_type": "code",
   "execution_count": 32,
   "metadata": {
    "collapsed": false
   },
   "outputs": [
    {
     "name": "stdout",
     "output_type": "stream",
     "text": [
      "Pr(beta > 0) = 0.9905\n"
     ]
    }
   ],
   "source": [
    "print('Pr(beta > 0) = {}'.format(np.mean(samples['beta'] > 0)))"
   ]
  },
  {
   "cell_type": "markdown",
   "metadata": {},
   "source": [
    "Plot the data, the model fit and prediction for year 2016."
   ]
  },
  {
   "cell_type": "code",
   "execution_count": 33,
   "metadata": {
    "collapsed": false
   },
   "outputs": [
    {
     "data": {
      "image/png": "[encoded data removed]",
      "text/plain": [
       "<matplotlib.figure.Figure at 0x7f8bb4637828>"
      ]
     },
     "metadata": {},
     "output_type": "display_data"
    }
   ],
   "source": [
    "# make slightly wider figure of 3 plots\n",
    "figsize = plt.rcParams['figure.figsize'].copy()\n",
    "figsize[0] *= 1.4  # width\n",
    "figsize[1] *= 2.5  # height\n",
    "fig, axes = plt.subplots(3, 1, figsize=figsize)\n",
    "\n",
    "# plot 1: scatterplot and lines\n",
    "color_scatter = 'C0'  # 'C0' for default color #0\n",
    "color_line = 'C1'     # 'C1' for default color #1\n",
    "# lighten color_line\n",
    "color_shade = (\n",
    "    1 - 0.1*(1 - np.array(mpl.colors.to_rgb(color_line)))\n",
    ")\n",
    "# plot\n",
    "ax = axes[0]\n",
    "ax.fill_between(\n",
    "    x,\n",
    "    np.percentile(samples['mu'], 5, axis=0),\n",
    "    np.percentile(samples['mu'], 95, axis=0),\n",
    "    color=color_shade\n",
    ")\n",
    "ax.plot(\n",
    "    x,\n",
    "    np.percentile(samples['mu'], 50, axis=0),\n",
    "    color=color_line,\n",
    "    linewidth=1\n",
    ")\n",
    "ax.scatter(x, y, 5, color=color_scatter)\n",
    "ax.set_xlabel('year')\n",
    "ax.set_ylabel('summer temperature at Kilpisjarvi')\n",
    "ax.set_xlim((1952, 2013))\n",
    "\n",
    "# plot 2: histogram\n",
    "ax = axes[1]\n",
    "ax.hist(samples['beta'], 50)\n",
    "ax.set_xlabel('beta')\n",
    "\n",
    "# plot 3: histogram\n",
    "ax = axes[2]\n",
    "ax.hist(samples['ypred'], 50)\n",
    "ax.set_xlabel('y-prediction for x={}'.format(xpred))\n",
    "\n",
    "# make figure compact\n",
    "fig.tight_layout();"
   ]
  },
  {
   "cell_type": "markdown",
   "metadata": {},
   "source": [
    "## Linear Student's t model.\n",
    "\n",
    "The temperatures used in the above analyses are averages over three months, which makes it more likely that they are normally distributed, but there can be extreme events in the feather and we can check whether more robust Student's t observation model woul give different results."
   ]
  },
  {
   "cell_type": "code",
   "execution_count": 34,
   "metadata": {
    "collapsed": false
   },
   "outputs": [
    {
     "name": "stdout",
     "output_type": "stream",
     "text": [
      "// Linear student-t model\r\n",
      "data {\r\n",
      "  int<lower=0> N; // number of data points\r\n",
      "  vector[N] x; //\r\n",
      "  vector[N] y; //\r\n",
      "  real xpred; // input location for prediction\r\n",
      "}\r\n",
      "parameters {\r\n",
      "  real alpha;\r\n",
      "  real beta;\r\n",
      "  real<lower=0> sigma;\r\n",
      "  real<lower=1, upper=80> nu;\r\n",
      "}\r\n",
      "transformed parameters {\r\n",
      "  vector[N] mu;\r\n",
      "  mu = alpha + beta*x;\r\n",
      "}\r\n",
      "model {\r\n",
      "  nu ~ gamma(2, 0.1); // Juarez and Steel(2010)\r\n",
      "  y ~ student_t(nu, mu, sigma);\r\n",
      "}\r\n",
      "generated quantities {\r\n",
      "  real ypred;\r\n",
      "  vector[N] log_lik;\r\n",
      "  ypred = normal_rng(alpha + beta*xpred, sigma);\r\n",
      "  for (i in 1:N)\r\n",
      "    log_lik[i] = student_t_lpdf(y[i] | nu, mu[i], sigma);\r\n",
      "}\r\n"
     ]
    }
   ],
   "source": [
    "%cat lin_t.stan"
   ]
  },
  {
   "cell_type": "code",
   "execution_count": 35,
   "metadata": {
    "collapsed": false
   },
   "outputs": [
    {
     "name": "stdout",
     "output_type": "stream",
     "text": [
      "Using cached StanModel\n"
     ]
    }
   ],
   "source": [
    "model = stan_utility.compile_model('lin_t.stan')\n",
    "fit = model.sampling(data=data)\n",
    "samples = fit.extract(permuted=True)"
   ]
  },
  {
   "cell_type": "markdown",
   "metadata": {},
   "source": [
    "Check the `n_eff` and `Rhat`"
   ]
  },
  {
   "cell_type": "code",
   "execution_count": 36,
   "metadata": {
    "collapsed": false,
    "scrolled": false
   },
   "outputs": [
    {
     "name": "stdout",
     "output_type": "stream",
     "text": [
      "Inference for Stan model: anon_model_985e43a8fe28088e3317d00edd324bab.\n",
      "4 chains, each with iter=2000; warmup=1000; thin=1; \n",
      "post-warmup draws per chain=1000, total post-warmup draws=4000.\n",
      "\n",
      "              mean se_mean     sd   2.5%    25%    50%    75%  97.5%  n_eff   Rhat\n",
      "alpha       -33.75    0.44  16.04 -66.21 -44.51 -33.28  -23.1  -3.05   1319    1.0\n",
      "beta          0.02  2.2e-4 8.1e-3 6.3e-3   0.02   0.02   0.03   0.04   1319    1.0\n",
      "sigma         1.08  2.9e-3   0.11   0.88   1.01   1.08   1.16   1.32   1506    1.0\n",
      "nu           24.32    0.32  13.38   5.94  14.13  21.71  31.66  56.93   1763    1.0\n",
      "mu[0]         8.65  7.3e-3   0.29   8.07   8.46   8.66   8.85   9.23   1597    1.0\n",
      "mu[1]         8.67  7.1e-3   0.29    8.1   8.49   8.68   8.86   9.24   1614    1.0\n",
      "mu[2]          8.7  6.9e-3   0.28   8.13   8.52    8.7   8.88   9.25   1632    1.0\n",
      "mu[3]         8.72  6.7e-3   0.27   8.17   8.54   8.72    8.9   9.25   1652    1.0\n",
      "mu[4]         8.74  6.5e-3   0.27    8.2   8.57   8.75   8.92   9.26   1673    1.0\n",
      "mu[5]         8.76  6.3e-3   0.26   8.24    8.6   8.77   8.93   9.27   1697    1.0\n",
      "mu[6]         8.78  6.1e-3   0.25   8.27   8.62   8.79   8.95   9.28   1722    1.0\n",
      "mu[7]          8.8  5.9e-3   0.25   8.31   8.65   8.81   8.97   9.28   1751    1.0\n",
      "mu[8]         8.83  5.7e-3   0.24   8.34   8.67   8.83   8.99   9.29   1782    1.0\n",
      "mu[9]         8.85  5.5e-3   0.23   8.38    8.7   8.85    9.0    9.3   1817    1.0\n",
      "mu[10]        8.87  5.3e-3   0.23   8.41   8.72   8.88   9.02   9.31   1855    1.0\n",
      "mu[11]        8.89  5.1e-3   0.22   8.45   8.75    8.9   9.04   9.32   1898    1.0\n",
      "mu[12]        8.91  4.9e-3   0.21   8.49   8.77   8.92   9.05   9.33   1946    1.0\n",
      "mu[13]        8.94  4.7e-3   0.21   8.52    8.8   8.94   9.07   9.35   1999    1.0\n",
      "mu[14]        8.96  4.5e-3    0.2   8.56   8.83   8.96   9.09   9.36   2058    1.0\n",
      "mu[15]        8.98  4.3e-3    0.2   8.59   8.85   8.98   9.11   9.37   2125    1.0\n",
      "mu[16]         9.0  4.1e-3   0.19   8.62   8.88    9.0   9.12   9.37   2199    1.0\n",
      "mu[17]        9.02  3.9e-3   0.19   8.65    8.9   9.03   9.14   9.39   2283    1.0\n",
      "mu[18]        9.04  3.7e-3   0.18   8.68   8.92   9.05   9.16    9.4   2375    1.0\n",
      "mu[19]        9.07  3.6e-3   0.18   8.71   8.95   9.07   9.18   9.41   2477    1.0\n",
      "mu[20]        9.09  3.4e-3   0.17   8.74   8.97   9.09    9.2   9.42   2590    1.0\n",
      "mu[21]        9.11  3.2e-3   0.17   8.77    9.0   9.11   9.22   9.44   2716    1.0\n",
      "mu[22]        9.13  3.1e-3   0.17    8.8   9.02   9.13   9.24   9.45   2856    1.0\n",
      "mu[23]        9.15  2.9e-3   0.16   8.83   9.05   9.15   9.26   9.46   3008    1.0\n",
      "mu[24]        9.17  2.8e-3   0.16   8.86   9.07   9.18   9.28   9.47   3173    1.0\n",
      "mu[25]         9.2  2.7e-3   0.16   8.89   9.09    9.2    9.3   9.49   3347    1.0\n",
      "mu[26]        9.22  2.5e-3   0.15   8.91   9.12   9.22   9.32   9.51   3713    1.0\n",
      "mu[27]        9.24  2.4e-3   0.15   8.94   9.14   9.24   9.34   9.53   3813    1.0\n",
      "mu[28]        9.26  2.4e-3   0.15   8.97   9.16   9.26   9.36   9.55   3902    1.0\n",
      "mu[29]        9.28  2.3e-3   0.15    9.0   9.19   9.28   9.38   9.57   3978    1.0\n",
      "mu[30]         9.3  2.3e-3   0.15   9.02   9.21    9.3    9.4   9.59   4000    1.0\n",
      "mu[31]        9.33  2.3e-3   0.15   9.04   9.23   9.33   9.42   9.61   4000    1.0\n",
      "mu[32]        9.35  2.3e-3   0.15   9.06   9.25   9.35   9.45   9.63   4000    1.0\n",
      "mu[33]        9.37  2.3e-3   0.15   9.08   9.27   9.37   9.47   9.66   4000    1.0\n",
      "mu[34]        9.39  2.3e-3   0.15    9.1   9.29   9.39   9.49   9.68   4000    1.0\n",
      "mu[35]        9.41  2.4e-3   0.15   9.12   9.31   9.41   9.51    9.7   3963    1.0\n",
      "mu[36]        9.43  2.4e-3   0.15   9.14   9.33   9.43   9.54   9.73   3886    1.0\n",
      "mu[37]        9.46  2.5e-3   0.15   9.16   9.35   9.46   9.56   9.76   3797    1.0\n",
      "mu[38]        9.48  2.7e-3   0.16   9.18   9.37   9.48   9.58   9.79   3321    1.0\n",
      "mu[39]         9.5  2.8e-3   0.16    9.2   9.39    9.5   9.61   9.82   3143    1.0\n",
      "mu[40]        9.52  3.0e-3   0.16   9.21   9.41   9.52   9.63   9.85   2974    1.0\n",
      "mu[41]        9.54  3.1e-3   0.17   9.22   9.43   9.54   9.65   9.88   2819    1.0\n",
      "mu[42]        9.57  3.3e-3   0.17   9.24   9.45   9.57   9.68   9.91   2677    1.0\n",
      "mu[43]        9.59  3.4e-3   0.17   9.25   9.47   9.59    9.7   9.94   2549    1.0\n",
      "mu[44]        9.61  3.6e-3   0.18   9.26   9.49   9.61   9.73   9.97   2434    1.0\n",
      "mu[45]        9.63  3.8e-3   0.18   9.28   9.51   9.63   9.75   10.0   2332    1.0\n",
      "mu[46]        9.65  4.0e-3   0.19   9.29   9.52   9.65   9.78  10.04   2241    1.0\n",
      "mu[47]        9.67  4.1e-3   0.19    9.3   9.54   9.67    9.8  10.07   2160    1.0\n",
      "mu[48]         9.7  4.3e-3    0.2   9.31   9.56    9.7   9.83   10.1   2087    1.0\n",
      "mu[49]        9.72  4.5e-3    0.2   9.32   9.58   9.72   9.85  10.13   2023    1.0\n",
      "mu[50]        9.74  4.7e-3   0.21   9.33    9.6   9.74   9.88  10.17   1966    1.0\n",
      "mu[51]        9.76  4.9e-3   0.22   9.34   9.61   9.76    9.9   10.2   1915    1.0\n",
      "mu[52]        9.78  5.1e-3   0.22   9.35   9.63   9.78   9.93  10.23   1869    1.0\n",
      "mu[53]         9.8  5.3e-3   0.23   9.36   9.65   9.81   9.95  10.26   1828    1.0\n",
      "mu[54]        9.83  5.5e-3   0.23   9.37   9.66   9.83   9.98  10.29   1791    1.0\n",
      "mu[55]        9.85  5.7e-3   0.24   9.38   9.68   9.85   10.0  10.33   1757    1.0\n",
      "mu[56]        9.87  5.9e-3   0.25   9.39    9.7   9.87  10.03  10.36   1727    1.0\n",
      "mu[57]        9.89  6.1e-3   0.25    9.4   9.72   9.89  10.06   10.4   1700    1.0\n",
      "mu[58]        9.91  6.3e-3   0.26   9.41   9.74   9.91  10.08  10.43   1675    1.0\n",
      "mu[59]        9.93  6.6e-3   0.27   9.42   9.75   9.93  10.11  10.47   1652    1.0\n",
      "mu[60]        9.96  6.8e-3   0.27   9.43   9.77   9.96  10.14   10.5   1632    1.0\n",
      "mu[61]        9.98  7.0e-3   0.28   9.44   9.79   9.98  10.16  10.53   1613    1.0\n",
      "ypred        10.03    0.02   1.12   7.85   9.27  10.02  10.79  12.21   3854    1.0\n",
      "log_lik[0]    -1.1  3.4e-3   0.14  -1.41  -1.18  -1.09  -1.01  -0.87   1632    1.0\n",
      "log_lik[1]   -3.07    0.01   0.54  -4.25   -3.4  -3.03  -2.69  -2.13   1683    1.0\n",
      "log_lik[2]   -1.27  5.0e-3   0.19  -1.72  -1.37  -1.24  -1.14  -0.98   1510    1.0\n",
      "log_lik[3]   -1.21  4.1e-3   0.17   -1.6  -1.31   -1.2   -1.1  -0.93   1675    1.0\n",
      "log_lik[4]   -1.22  4.1e-3   0.17   -1.6  -1.32  -1.21  -1.11  -0.94   1692    1.0\n",
      "log_lik[5]   -1.54  5.6e-3   0.24  -2.07  -1.69  -1.52  -1.37  -1.13   1813    1.0\n",
      "log_lik[6]   -1.05  2.9e-3   0.11  -1.29  -1.12  -1.05  -0.98  -0.84   1520    1.0\n",
      "log_lik[7]   -1.08  3.0e-3   0.12  -1.34  -1.15  -1.07   -1.0  -0.87   1615    1.0\n",
      "log_lik[8]   -2.98    0.01   0.46  -3.98  -3.26  -2.95  -2.66  -2.16   1806    1.0\n",
      "log_lik[9]   -1.73  6.3e-3   0.26  -2.32  -1.88   -1.7  -1.55   -1.3   1710    1.0\n",
      "log_lik[10]  -1.74  5.4e-3   0.24  -2.27  -1.89  -1.73  -1.57  -1.32   2038    1.0\n",
      "log_lik[11]  -1.03  2.7e-3    0.1  -1.25   -1.1  -1.03  -0.96  -0.83   1529    1.0\n",
      "log_lik[12]   -1.2  3.2e-3   0.14   -1.5  -1.28  -1.19  -1.11  -0.95   1851    1.0\n",
      "log_lik[13]  -2.32  6.6e-3   0.31  -2.98  -2.51   -2.3   -2.1  -1.77   2244    1.0\n",
      "log_lik[14]  -1.08  2.6e-3   0.11  -1.32  -1.15  -1.08  -1.01  -0.88   1763    1.0\n",
      "log_lik[15]  -1.04  2.7e-3   0.11  -1.26  -1.11  -1.04  -0.97  -0.84   1538    1.0\n",
      "log_lik[16]  -1.89  4.7e-3   0.23  -2.38  -2.03  -1.87  -1.72  -1.49   2410    1.0\n",
      "log_lik[17]  -1.98  5.6e-3   0.25  -2.55  -2.13  -1.95  -1.81  -1.56   2037    1.0\n",
      "log_lik[18]  -2.64  7.5e-3   0.34  -3.38  -2.85  -2.61   -2.4  -2.04   2107    1.0\n",
      "log_lik[19]  -1.03  2.6e-3    0.1  -1.25   -1.1  -1.03  -0.97  -0.84   1542    1.0\n",
      "log_lik[20]  -3.04  8.2e-3   0.39  -3.89  -3.28  -3.01  -2.77  -2.36   2225    1.0\n",
      "log_lik[21]  -1.38  2.8e-3   0.14  -1.69  -1.47  -1.37  -1.29  -1.14   2498    1.0\n",
      "log_lik[22]  -1.45  2.9e-3   0.15  -1.77  -1.53  -1.43  -1.35   -1.2   2589    1.0\n",
      "log_lik[23]  -3.98 10.0e-3    0.5  -5.06  -4.29  -3.95  -3.64   -3.1   2472    1.0\n",
      "log_lik[24]  -1.45  2.4e-3   0.14  -1.73  -1.53  -1.44  -1.36   -1.2   3197    1.0\n",
      "log_lik[25]  -1.31  2.2e-3   0.12  -1.55  -1.38   -1.3  -1.23  -1.08   2982    1.0\n",
      "log_lik[26]  -1.06  2.4e-3    0.1  -1.26  -1.12  -1.05  -0.99  -0.86   1725    1.0\n",
      "log_lik[27]  -1.22  2.0e-3   0.11  -1.45  -1.29  -1.21  -1.15  -1.02   2898    1.0\n",
      "log_lik[28]  -1.81  3.2e-3   0.18  -2.21  -1.92   -1.8  -1.69   -1.5   3103    1.0\n",
      "log_lik[29]  -2.24  4.1e-3   0.23  -2.76  -2.38  -2.22  -2.08  -1.83   3179    1.0\n",
      "log_lik[30]  -2.13  3.8e-3   0.22  -2.62  -2.27  -2.12  -1.98  -1.75   3280    1.0\n",
      "log_lik[31]  -1.69  2.5e-3   0.16  -2.03  -1.78  -1.68  -1.58  -1.41   3869    1.0\n",
      "log_lik[32]  -1.42  2.0e-3   0.13  -1.69   -1.5  -1.42  -1.34   -1.2   3917    1.0\n",
      "log_lik[33]  -1.07  2.2e-3    0.1  -1.28  -1.13  -1.07   -1.0  -0.87   2046    1.0\n",
      "log_lik[34]  -1.02  2.6e-3    0.1  -1.23  -1.09  -1.02  -0.96  -0.83   1542    1.0\n",
      "log_lik[35]  -2.87  6.4e-3   0.33  -3.57  -3.08  -2.85  -2.65  -2.29   2584    1.0\n",
      "log_lik[36]  -1.36  2.1e-3   0.12  -1.61  -1.43  -1.35  -1.28  -1.14   3367    1.0\n",
      "log_lik[37]  -1.03  2.5e-3    0.1  -1.24   -1.1  -1.03  -0.96  -0.83   1554    1.0\n",
      "log_lik[38]  -1.33  2.2e-3   0.12  -1.58   -1.4  -1.32  -1.25  -1.11   3049    1.0\n",
      "log_lik[39]  -1.06  2.3e-3    0.1  -1.27  -1.13  -1.06  -0.99  -0.86   1912    1.0\n",
      "log_lik[40]  -1.15  2.2e-3   0.11  -1.37  -1.22  -1.14  -1.07  -0.94   2350    1.0\n",
      "log_lik[41]  -1.11  2.3e-3   0.11  -1.34  -1.18  -1.11  -1.04  -0.91   2180    1.0\n",
      "log_lik[42]  -1.02  2.6e-3    0.1  -1.23  -1.09  -1.02  -0.96  -0.83   1508    1.0\n",
      "log_lik[43]  -1.38  2.8e-3   0.14  -1.69  -1.47  -1.37  -1.28  -1.14   2489    1.0\n",
      "log_lik[44]  -1.06  2.4e-3    0.1  -1.28  -1.13  -1.06  -0.99  -0.86   1824    1.0\n",
      "log_lik[45]  -1.37  3.0e-3   0.14  -1.67  -1.46  -1.36  -1.27  -1.11   2347    1.0\n",
      "log_lik[46]  -1.05  2.6e-3   0.11  -1.27  -1.12  -1.05  -0.98  -0.85   1614    1.0\n",
      "log_lik[47]  -1.23  2.9e-3   0.13  -1.53  -1.31  -1.22  -1.14   -1.0   2150    1.0\n",
      "log_lik[48]  -1.25  3.0e-3   0.14  -1.56  -1.33  -1.24  -1.15  -1.01   2093    1.0\n",
      "log_lik[49]  -1.03  2.7e-3    0.1  -1.24  -1.09  -1.02  -0.96  -0.83   1495    1.0\n",
      "log_lik[50]  -2.22  6.5e-3    0.3  -2.85   -2.4  -2.19   -2.0  -1.68   2181    1.0\n",
      "log_lik[51]  -1.43  4.0e-3   0.18  -1.81  -1.54  -1.41   -1.3  -1.12   1987    1.0\n",
      "log_lik[52]  -1.08  2.8e-3   0.11  -1.31  -1.15  -1.07   -1.0  -0.86   1711    1.0\n",
      "log_lik[53]  -1.48  4.5e-3    0.2  -1.91   -1.6  -1.46  -1.34  -1.14   1917    1.0\n",
      "log_lik[54]  -1.18  3.4e-3   0.14  -1.49  -1.27  -1.17  -1.09  -0.93   1739    1.0\n",
      "log_lik[55]  -1.13  3.2e-3   0.13  -1.41  -1.21  -1.12  -1.04  -0.89   1687    1.0\n",
      "log_lik[56]  -1.55  5.7e-3   0.23  -2.07  -1.69  -1.52  -1.38  -1.17   1701    1.0\n",
      "log_lik[57]  -1.04  2.8e-3   0.11  -1.27  -1.11  -1.04  -0.97  -0.84   1499    1.0\n",
      "log_lik[58]  -1.59  6.3e-3   0.26  -2.17  -1.74  -1.56  -1.41  -1.18   1649    1.0\n",
      "log_lik[59]  -1.38  5.0e-3   0.21  -1.84   -1.5  -1.35  -1.23  -1.03   1707    1.0\n",
      "log_lik[60]  -1.85  8.0e-3   0.32  -2.58  -2.04  -1.82  -1.62  -1.33   1608    1.0\n",
      "log_lik[61]   -1.6  6.4e-3   0.27  -2.21  -1.77  -1.57  -1.41  -1.16   1721    1.0\n",
      "lp__        -56.54    0.04   1.52 -60.41 -57.24  -56.2 -55.46 -54.68   1251   1.01\n",
      "\n",
      "Samples were drawn using NUTS at Wed Aug 23 10:33:01 2017.\n",
      "For each parameter, n_eff is a crude measure of effective sample size,\n",
      "and Rhat is the potential scale reduction factor on split chains (at \n",
      "convergence, Rhat=1).\n"
     ]
    }
   ],
   "source": [
    "print(fit)"
   ]
  },
  {
   "cell_type": "markdown",
   "metadata": {},
   "source": [
    "Without standardization we'are again get smaller `n_eff`'s, but large enough for practical purposes.\n",
    "\n",
    "Check the treedepth, E-BFMI, and divergences"
   ]
  },
  {
   "cell_type": "code",
   "execution_count": 37,
   "metadata": {
    "collapsed": false
   },
   "outputs": [
    {
     "name": "stdout",
     "output_type": "stream",
     "text": [
      "78 of 4000 iterations saturated the maximum tree depth of 10 (1.95%)\n",
      "Run again with max_depth set to a larger value to avoid saturation\n",
      "0.0 of 4000 iterations ended with a divergence (0.0%)\n"
     ]
    }
   ],
   "source": [
    "stan_utility.check_treedepth(fit)\n",
    "stan_utility.check_energy(fit)\n",
    "stan_utility.check_div(fit)"
   ]
  },
  {
   "cell_type": "markdown",
   "metadata": {},
   "source": [
    "We see again many iterations saturating the maximum tree depth, which is harmful for the efficiency but doesn't invalidate the results."
   ]
  },
  {
   "cell_type": "markdown",
   "metadata": {},
   "source": [
    "Compute the probability that the summer temperature is increasing."
   ]
  },
  {
   "cell_type": "code",
   "execution_count": 38,
   "metadata": {
    "collapsed": false
   },
   "outputs": [
    {
     "name": "stdout",
     "output_type": "stream",
     "text": [
      "Pr(beta > 0) = 0.99725\n"
     ]
    }
   ],
   "source": [
    "samples = fit.extract(permuted=True)\n",
    "print('Pr(beta > 0) = {}'.format(np.mean(samples['beta'] > 0)))"
   ]
  },
  {
   "cell_type": "markdown",
   "metadata": {},
   "source": [
    "We get similar probability as with Gaussian obervation model."
   ]
  },
  {
   "cell_type": "markdown",
   "metadata": {},
   "source": [
    "Plot the data, the model fit, and the marginal posteriors for sigma and nu."
   ]
  },
  {
   "cell_type": "code",
   "execution_count": 39,
   "metadata": {
    "collapsed": false
   },
   "outputs": [
    {
     "data": {
      "image/png": "[encoded data removed]",
      "text/plain": [
       "<matplotlib.figure.Figure at 0x7f8bb58546a0>"
      ]
     },
     "metadata": {},
     "output_type": "display_data"
    }
   ],
   "source": [
    "# make slightly wider figure of 4 plots\n",
    "figsize = plt.rcParams['figure.figsize'].copy()\n",
    "figsize[0] *= 1.4  # width\n",
    "figsize[1] *= 3  # height\n",
    "fig, axes = plt.subplots(4, 1, figsize=figsize)\n",
    "\n",
    "# plot 1: scatterplot and lines\n",
    "color_scatter = 'C0'  # 'C0' for default color #0\n",
    "color_line = 'C1'     # 'C1' for default color #1\n",
    "# lighten color_line\n",
    "color_shade = (\n",
    "    1 - 0.1*(1 - np.array(mpl.colors.to_rgb(color_line)))\n",
    ")\n",
    "# plot\n",
    "ax = axes[0]\n",
    "ax.fill_between(\n",
    "    x,\n",
    "    np.percentile(samples['mu'], 5, axis=0),\n",
    "    np.percentile(samples['mu'], 95, axis=0),\n",
    "    color=color_shade\n",
    ")\n",
    "ax.plot(\n",
    "    x,\n",
    "    np.percentile(samples['mu'], 50, axis=0),\n",
    "    color=color_line,\n",
    "    linewidth=1\n",
    ")\n",
    "ax.scatter(x, y, 5, color=color_scatter)\n",
    "ax.set_xlabel('year')\n",
    "ax.set_ylabel('summer temperature at Kilpisjarvi')\n",
    "ax.set_xlim((1952, 2013))\n",
    "\n",
    "# plot 2: histogram\n",
    "ax = axes[1]\n",
    "ax.hist(samples['beta'], 50)\n",
    "ax.set_xlabel('beta')\n",
    "\n",
    "# plot 3: histogram\n",
    "ax = axes[2]\n",
    "ax.hist(samples['sigma'], 50)\n",
    "ax.set_xlabel('sigma')\n",
    "\n",
    "# plot 4: histogram\n",
    "ax = axes[3]\n",
    "ax.hist(samples['nu'], 50)\n",
    "ax.set_xlabel('nu')\n",
    "\n",
    "# make figure compact\n",
    "fig.tight_layout();"
   ]
  },
  {
   "cell_type": "markdown",
   "metadata": {},
   "source": [
    "The posterior of nu reveals that Gaussian model is likely to be ok, as Student's t with `nu > 20` is very close to Gaussian."
   ]
  },
  {
   "cell_type": "markdown",
   "metadata": {},
   "source": [
    "# Comparison of k groups with hierarchical models\n",
    "\n",
    "Let's compare the temperatures in three summer months."
   ]
  },
  {
   "cell_type": "code",
   "execution_count": 40,
   "metadata": {
    "collapsed": true
   },
   "outputs": [],
   "source": [
    "data_path = '../utilities_and_data/kilpisjarvi-summer-temp.csv'\n",
    "d = np.loadtxt(data_path, dtype=np.double, delimiter=';', skiprows=1)\n",
    "# Is there difference between different summer months?\n",
    "x = np.tile(np.arange(1, 4), d.shape[0]) # summer months are numbered from 1 to 3\n",
    "y = d[:, 1:4].ravel()\n",
    "N = len(x)\n",
    "data = dict(\n",
    "    N = N,\n",
    "    K = 3,  # 3 groups\n",
    "    x = x,  # group indicators\n",
    "    y = y   # observations\n",
    ")"
   ]
  },
  {
   "cell_type": "markdown",
   "metadata": {},
   "source": [
    "## Common variance (ANOVA) model"
   ]
  },
  {
   "cell_type": "code",
   "execution_count": 41,
   "metadata": {
    "collapsed": false,
    "scrolled": false
   },
   "outputs": [
    {
     "name": "stdout",
     "output_type": "stream",
     "text": [
      "// Comparison of k groups with common variance (ANOVA)\r\n",
      "data {\r\n",
      "  int<lower=0> N; // number of data points\r\n",
      "  int<lower=0> K; // number of groups\r\n",
      "  int<lower=1,upper=K> x[N]; // group indicator\r\n",
      "  vector[N] y; //\r\n",
      "}\r\n",
      "parameters {\r\n",
      "  vector[K] mu;        // group means\r\n",
      "  real<lower=0> sigma; // common std\r\n",
      "}\r\n",
      "model {\r\n",
      "  y ~ normal(mu[x], sigma);\r\n",
      "}\r\n"
     ]
    }
   ],
   "source": [
    "%cat grp_aov.stan"
   ]
  },
  {
   "cell_type": "markdown",
   "metadata": {},
   "source": [
    "Fit the model"
   ]
  },
  {
   "cell_type": "code",
   "execution_count": 42,
   "metadata": {
    "collapsed": false
   },
   "outputs": [
    {
     "name": "stdout",
     "output_type": "stream",
     "text": [
      "Using cached StanModel\n"
     ]
    }
   ],
   "source": [
    "model = stan_utility.compile_model('grp_aov.stan')\n",
    "fit = model.sampling(data=data)\n",
    "samples = fit.extract(permuted=True)"
   ]
  },
  {
   "cell_type": "markdown",
   "metadata": {},
   "source": [
    "Check the `n_eff` and `Rhat`"
   ]
  },
  {
   "cell_type": "code",
   "execution_count": 43,
   "metadata": {
    "collapsed": false,
    "scrolled": true
   },
   "outputs": [
    {
     "name": "stdout",
     "output_type": "stream",
     "text": [
      "Inference for Stan model: anon_model_7564a28d1f0313ff396284979a4361d6.\n",
      "4 chains, each with iter=2000; warmup=1000; thin=1; \n",
      "post-warmup draws per chain=1000, total post-warmup draws=4000.\n",
      "\n",
      "        mean se_mean     sd   2.5%    25%    50%    75%  97.5%  n_eff   Rhat\n",
      "mu[0]   7.54  3.1e-3    0.2   7.17   7.41   7.54   7.68   7.92   4000    1.0\n",
      "mu[1]  10.96  3.1e-3    0.2  10.58  10.82  10.96   11.1  11.36   4000    1.0\n",
      "mu[2]   9.44  3.1e-3   0.19   9.05   9.31   9.44   9.57   9.83   4000    1.0\n",
      "sigma   1.53  1.3e-3   0.08   1.38   1.47   1.52   1.58    1.7   4000    1.0\n",
      "lp__  -170.9    0.03   1.38 -174.2 -171.6 -170.6 -169.9 -169.1   2294    1.0\n",
      "\n",
      "Samples were drawn using NUTS at Wed Aug 23 10:33:03 2017.\n",
      "For each parameter, n_eff is a crude measure of effective sample size,\n",
      "and Rhat is the potential scale reduction factor on split chains (at \n",
      "convergence, Rhat=1).\n"
     ]
    }
   ],
   "source": [
    "print(fit)"
   ]
  },
  {
   "cell_type": "markdown",
   "metadata": {},
   "source": [
    "Check the treedepth, E-BFMI, and divergences"
   ]
  },
  {
   "cell_type": "code",
   "execution_count": 44,
   "metadata": {
    "collapsed": false
   },
   "outputs": [
    {
     "name": "stdout",
     "output_type": "stream",
     "text": [
      "0 of 4000 iterations saturated the maximum tree depth of 10 (0.0%)\n",
      "0.0 of 4000 iterations ended with a divergence (0.0%)\n"
     ]
    }
   ],
   "source": [
    "stan_utility.check_treedepth(fit)\n",
    "stan_utility.check_energy(fit)\n",
    "stan_utility.check_div(fit)"
   ]
  },
  {
   "cell_type": "markdown",
   "metadata": {},
   "source": [
    "Plot group mean distributions and matrix of probabilities that one mu is larger than other."
   ]
  },
  {
   "cell_type": "code",
   "execution_count": 45,
   "metadata": {
    "collapsed": false
   },
   "outputs": [
    {
     "name": "stdout",
     "output_type": "stream",
     "text": [
      "Matrix of probabilities that one mu is larger than other:\n",
      "[[ 0.  0.  0.]\n",
      " [ 1.  0.  1.]\n",
      " [ 1.  0.  0.]]\n"
     ]
    },
    {
     "data": {
      "image/png": "[encoded data removed]",
      "text/plain": [
       "<matplotlib.figure.Figure at 0x7f8bb4665a58>"
      ]
     },
     "metadata": {},
     "output_type": "display_data"
    }
   ],
   "source": [
    "# matrix of probabilities that one mu is larger than other\n",
    "mu = fit.extract(permuted=True)['mu']\n",
    "ps = np.zeros((3, 3))\n",
    "for k1 in range(3):\n",
    "    for k2 in range(k1+1, 3):\n",
    "        ps[k1, k2] = np.mean(mu[:, k1] > mu[:, k2])\n",
    "        ps[k2, k1] = 1 - ps[k1, k2]\n",
    "print(\"Matrix of probabilities that one mu is larger than other:\")\n",
    "print(ps)\n",
    "\n",
    "# plot violins\n",
    "plt.violinplot(mu, showmeans=True, showextrema=False)\n",
    "plt.xticks(np.arange(1, 4))\n",
    "plt.xlabel('group')\n",
    "plt.ylabel('mu');"
   ]
  },
  {
   "cell_type": "markdown",
   "metadata": {},
   "source": [
    "## Common variance and hierarchical prior for mean.\n",
    "\n",
    "Results do not differ much from the previous, because there is only\n",
    "few groups and quite much data per group, but this works as an example of a hierarchical model.\n"
   ]
  },
  {
   "cell_type": "code",
   "execution_count": 46,
   "metadata": {
    "collapsed": false,
    "scrolled": false
   },
   "outputs": [
    {
     "name": "stdout",
     "output_type": "stream",
     "text": [
      "// Comparison of k groups with common variance and\r\n",
      "// hierarchical prior for the mean\r\n",
      "data {\r\n",
      "    int<lower=0> N; // number of data points\r\n",
      "    int<lower=0> K; // number of groups\r\n",
      "    int<lower=1,upper=K> x[N]; // group indicator\r\n",
      "    vector[N] y; //\r\n",
      "}\r\n",
      "parameters {\r\n",
      "    real mu0;             // prior mean\r\n",
      "    real<lower=0> sigma0; // prior std\r\n",
      "    vector[K] mu;         // group means\r\n",
      "    real<lower=0> sigma;  // common std\r\n",
      "}\r\n",
      "model {\r\n",
      "  mu0 ~ normal(10,10);      // weakly informative prior\r\n",
      "  sigma0 ~ cauchy(0,4);     // weakly informative prior\r\n",
      "  mu ~ normal(mu0, sigma0); // population prior with unknown parameters\r\n",
      "  sigma ~ cauchy(0,4);      // weakly informative prior\r\n",
      "  y ~ normal(mu[x], sigma);\r\n",
      "}\r\n"
     ]
    }
   ],
   "source": [
    "%cat grp_prior_mean.stan"
   ]
  },
  {
   "cell_type": "markdown",
   "metadata": {},
   "source": [
    "Fit the model"
   ]
  },
  {
   "cell_type": "code",
   "execution_count": 47,
   "metadata": {
    "collapsed": false
   },
   "outputs": [
    {
     "name": "stdout",
     "output_type": "stream",
     "text": [
      "Using cached StanModel\n"
     ]
    }
   ],
   "source": [
    "model = stan_utility.compile_model('grp_prior_mean.stan')\n",
    "fit = model.sampling(data=data)\n",
    "samples = fit.extract(permuted=True)"
   ]
  },
  {
   "cell_type": "markdown",
   "metadata": {},
   "source": [
    "Plot group mean distributions and matrix of probabilities that one mu is larger than other."
   ]
  },
  {
   "cell_type": "code",
   "execution_count": 48,
   "metadata": {
    "collapsed": false
   },
   "outputs": [
    {
     "name": "stdout",
     "output_type": "stream",
     "text": [
      "Matrix of probabilities that one mu is larger than other:\n",
      "[[ 0.  0.  0.]\n",
      " [ 1.  0.  1.]\n",
      " [ 1.  0.  0.]]\n"
     ]
    },
    {
     "data": {
      "image/png": "[encoded data removed]",
      "text/plain": [
       "<matplotlib.figure.Figure at 0x7f8bb58351d0>"
      ]
     },
     "metadata": {},
     "output_type": "display_data"
    }
   ],
   "source": [
    "# matrix of probabilities that one mu is larger than other\n",
    "mu = fit.extract(permuted=True)['mu']\n",
    "ps = np.zeros((3, 3))\n",
    "for k1 in range(3):\n",
    "    for k2 in range(k1+1, 3):\n",
    "        ps[k1, k2] = np.mean(mu[:, k1] > mu[:, k2])\n",
    "        ps[k2, k1] = 1 - ps[k1, k2]\n",
    "print(\"Matrix of probabilities that one mu is larger than other:\")\n",
    "print(ps)\n",
    "\n",
    "# plot violins\n",
    "plt.violinplot(mu, showmeans=True, showextrema=False)\n",
    "plt.xticks(np.arange(1, 4))\n",
    "plt.xlabel('group')\n",
    "plt.ylabel('mu');"
   ]
  },
  {
   "cell_type": "markdown",
   "metadata": {},
   "source": [
    "## Unequal variance and hierarchical prior for mean and variance\n",
    "\n",
    "Results do not differ much from the previous, because there is only\n",
    "few groups and quite much data per group, but this works as an example of a hierarchical model."
   ]
  },
  {
   "cell_type": "code",
   "execution_count": 49,
   "metadata": {
    "collapsed": false,
    "scrolled": false
   },
   "outputs": [
    {
     "name": "stdout",
     "output_type": "stream",
     "text": [
      "// Comparison of k groups with unequal variance and\r\n",
      "// hierarchical priors for the mean and the variance\r\n",
      "data {\r\n",
      "  int<lower=0> N; // number of data points\r\n",
      "  int<lower=0> K; // number of groups\r\n",
      "  int<lower=1,upper=K> x[N]; // group indicator\r\n",
      "  vector[N] y; //\r\n",
      "}\r\n",
      "parameters {\r\n",
      "  real mu0;                 // prior mean\r\n",
      "  real<lower=0> musigma0;   // prior std\r\n",
      "  vector[K] mu;             // group means\r\n",
      "  real lsigma0;             // prior mean\r\n",
      "  real<lower=0> lsigma0s;   // prior std\r\n",
      "  vector<lower=0>[K] sigma; // group stds\r\n",
      "}\r\n",
      "model {\r\n",
      "  mu0 ~ normal(10, 10);       // weakly informative prior\r\n",
      "  musigma0 ~ cauchy(0,10);    // weakly informative prior\r\n",
      "  mu ~ normal(mu0, musigma0); // population prior with unknown parameters\r\n",
      "  lsigma0 ~ normal(0,1);      // weakly informative prior\r\n",
      "  lsigma0s ~ normal(0,1);     // weakly informative prior\r\n",
      "  sigma ~ cauchy(lsigma0, lsigma0s); // population prior with unknown parameters\r\n",
      "  y ~ normal(mu[x], sigma[x]);\r\n",
      "}\r\n"
     ]
    }
   ],
   "source": [
    "%cat grp_prior_mean_var.stan"
   ]
  },
  {
   "cell_type": "markdown",
   "metadata": {},
   "source": [
    "Fit the model"
   ]
  },
  {
   "cell_type": "code",
   "execution_count": 50,
   "metadata": {
    "collapsed": false
   },
   "outputs": [
    {
     "name": "stdout",
     "output_type": "stream",
     "text": [
      "Using cached StanModel\n"
     ]
    }
   ],
   "source": [
    "model = stan_utility.compile_model('grp_prior_mean_var.stan')\n",
    "fit = model.sampling(data=data)\n",
    "samples = fit.extract(permuted=True)"
   ]
  },
  {
   "cell_type": "markdown",
   "metadata": {},
   "source": [
    "Plot group mean distributions and matrix of probabilities that one mu is larger than other:"
   ]
  },
  {
   "cell_type": "code",
   "execution_count": 51,
   "metadata": {
    "collapsed": false
   },
   "outputs": [
    {
     "name": "stdout",
     "output_type": "stream",
     "text": [
      "std(mu0): 2.21\n",
      "Matrix of probabilities that one mu is larger than other:\n",
      "[[ 0.  0.  0.]\n",
      " [ 1.  0.  1.]\n",
      " [ 1.  0.  0.]]\n"
     ]
    },
    {
     "data": {
      "image/png": "[encoded data removed]",
      "text/plain": [
       "<matplotlib.figure.Figure at 0x7f8bb46d96a0>"
      ]
     },
     "metadata": {},
     "output_type": "display_data"
    }
   ],
   "source": [
    "samples = fit.extract(permuted=True)\n",
    "print(\"std(mu0): {:.2f}\".format(np.std(samples['mu0'])))\n",
    "mu = samples['mu']\n",
    "\n",
    "# matrix of probabilities that one mu is larger than other\n",
    "ps = np.zeros((3, 3))\n",
    "for k1 in range(3):\n",
    "    for k2 in range(k1+1, 3):\n",
    "        ps[k1, k2] = np.mean(mu[:, k1] > mu[:, k2])\n",
    "        ps[k2, k1] = 1 - ps[k1, k2]\n",
    "print(\"Matrix of probabilities that one mu is larger than other:\")\n",
    "print(ps)\n",
    "\n",
    "# plot violins\n",
    "plt.violinplot(mu, showmeans=True, showextrema=False)\n",
    "plt.xticks(np.arange(1, 4))\n",
    "plt.xlabel('group')\n",
    "plt.ylabel('mu');"
   ]
  }
 ],
 "metadata": {
  "kernelspec": {
   "display_name": "Python 3",
   "language": "python",
   "name": "python3"
  },
  "language_info": {
   "codemirror_mode": {
    "name": "ipython",
    "version": 3
   },
   "file_extension": ".py",
   "mimetype": "text/x-python",
   "name": "python",
   "nbconvert_exporter": "python",
   "pygments_lexer": "ipython3",
   "version": "3.5.2"
  }
 },
 "nbformat": 4,
 "nbformat_minor": 1
}
